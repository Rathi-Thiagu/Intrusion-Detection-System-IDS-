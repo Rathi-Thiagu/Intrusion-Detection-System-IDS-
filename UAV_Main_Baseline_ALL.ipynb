{
 "cells": [
  {
   "cell_type": "markdown",
   "metadata": {},
   "source": [
    "**Baseline Model**\n",
    "\n",
    "The following models were developed using the raw dataset.\n",
    "\n",
    "1. Logistic Regression\n",
    "2. LDA\n",
    "3. KNN\n",
    "4. Decision tree\n",
    "5. Random Forest\n",
    "6. SVM\n",
    "7. Bagging \n",
    "8. Boosting\n",
    "9. QDA"
   ]
  },
  {
   "cell_type": "code",
   "execution_count": 1,
   "metadata": {},
   "outputs": [],
   "source": [
    "#importing libraries\n",
    "import pandas as pd\n",
    "import numpy as np\n",
    "import h5py\n",
    "%matplotlib inline\n",
    "from matplotlib import pyplot as plt\n",
    "import seaborn as sns\n",
    "import statsmodels.api as sm\n",
    "\n",
    "import pickle\n",
    "\n",
    "from sklearn.decomposition import PCA\n",
    "import sklearn.linear_model as skl_lm\n",
    "from sklearn.metrics import mean_squared_error, accuracy_score, classification_report, confusion_matrix\n",
    "from sklearn.model_selection import train_test_split\n",
    "from sklearn.linear_model import LogisticRegression\n",
    "import sklearn.metrics as metrics\n",
    "from sklearn.neighbors import KNeighborsClassifier\n",
    "from sklearn.discriminant_analysis import LinearDiscriminantAnalysis\n",
    "from sklearn.tree import DecisionTreeClassifier\n",
    "from sklearn import tree, svm\n",
    "from sklearn.ensemble import RandomForestClassifier , GradientBoostingClassifier\n",
    "\n",
    "import warnings\n",
    "warnings.filterwarnings(\"ignore\")"
   ]
  },
  {
   "cell_type": "code",
   "execution_count": 2,
   "metadata": {},
   "outputs": [],
   "source": [
    "#loading bidir dataset\n",
    "pickle_in = open(\"X_train_bidir.pickle\",\"rb\")\n",
    "X_training_bidir = pickle.load(pickle_in)\n",
    "\n",
    "pickle_in = open(\"y_train_bidir.pickle\",\"rb\")\n",
    "y_training_bidir = pickle.load(pickle_in)\n",
    "\n",
    "pickle_in = open(\"X_test_bidir.pickle\",\"rb\")\n",
    "X_test_bidir = pickle.load(pickle_in)\n",
    "\n",
    "pickle_in = open(\"y_test_bidir.pickle\",\"rb\")\n",
    "y_test_bidir = pickle.load(pickle_in)"
   ]
  },
  {
   "cell_type": "code",
   "execution_count": 3,
   "metadata": {},
   "outputs": [],
   "source": [
    "#loading unidir dataset\n",
    "pickle_in = open(\"X_train_unidir.pickle\",\"rb\")\n",
    "X_training_unidir = pickle.load(pickle_in)\n",
    "\n",
    "pickle_in = open(\"y_train_unidir.pickle\",\"rb\")\n",
    "y_training_unidir = pickle.load(pickle_in)\n",
    "\n",
    "pickle_in = open(\"X_test_unidir.pickle\",\"rb\")\n",
    "X_test_unidir = pickle.load(pickle_in)\n",
    "\n",
    "pickle_in = open(\"y_test_unidir.pickle\",\"rb\")\n",
    "y_test_unidir = pickle.load(pickle_in)"
   ]
  },
  {
   "cell_type": "code",
   "execution_count": 4,
   "metadata": {},
   "outputs": [
    {
     "name": "stdout",
     "output_type": "stream",
     "text": [
      "X_training_bidir : (3820, 54)\n",
      "y_training_bidir : (3820,)\n",
      "X_test_bidir     : (38316, 54)\n",
      "y_test_bidir     : (38316,)\n"
     ]
    }
   ],
   "source": [
    "print('X_training_bidir :',X_training_bidir.shape)\n",
    "print('y_training_bidir :',y_training_bidir.shape)\n",
    "print('X_test_bidir     :',X_test_bidir.shape)\n",
    "print('y_test_bidir     :',y_test_bidir.shape)"
   ]
  },
  {
   "cell_type": "code",
   "execution_count": 5,
   "metadata": {},
   "outputs": [
    {
     "name": "stdout",
     "output_type": "stream",
     "text": [
      "X_training_unidir : (2421, 18)\n",
      "y_training_unidir : (2421,)\n",
      "X_test_unidir     : (24179, 18)\n",
      "y_test_unidir     : (24179,)\n"
     ]
    }
   ],
   "source": [
    "print('X_training_unidir :',X_training_unidir.shape)\n",
    "print('y_training_unidir :',y_training_unidir.shape)\n",
    "print('X_test_unidir     :',X_test_unidir.shape)\n",
    "print('y_test_unidir     :',y_test_unidir.shape)"
   ]
  },
  {
   "cell_type": "code",
   "execution_count": 6,
   "metadata": {},
   "outputs": [],
   "source": [
    "# CV from bidirectional dataset\n",
    "X_bidir_train, X_bidir_val, y_bidir_train, y_bidir_val = train_test_split(X_training_bidir, y_training_bidir, test_size=0.2, random_state=1)"
   ]
  },
  {
   "cell_type": "code",
   "execution_count": 7,
   "metadata": {},
   "outputs": [
    {
     "name": "stdout",
     "output_type": "stream",
     "text": [
      "X_bidir_train   : (3056, 54)\n",
      "y_bidir_train   : (3056,)\n",
      "X_bidir_val     : (764, 54)\n",
      "y_bidir_val     : (764,)\n"
     ]
    }
   ],
   "source": [
    "print('X_bidir_train   :',X_bidir_train.shape)\n",
    "print('y_bidir_train   :',y_bidir_train.shape)\n",
    "print('X_bidir_val     :',X_bidir_val.shape)\n",
    "print('y_bidir_val     :',y_bidir_val.shape)"
   ]
  },
  {
   "cell_type": "code",
   "execution_count": 8,
   "metadata": {},
   "outputs": [],
   "source": [
    "X_unidir_train, X_unidir_val, y_unidir_train, y_unidir_val = train_test_split(X_training_unidir, y_training_unidir, test_size=0.2, random_state=1)"
   ]
  },
  {
   "cell_type": "code",
   "execution_count": 9,
   "metadata": {},
   "outputs": [
    {
     "name": "stdout",
     "output_type": "stream",
     "text": [
      "X_unidir_train   : (1936, 18)\n",
      "y_unidir_train   : (1936,)\n",
      "X_unidir_val     : (485, 18)\n",
      "y_unidir_val     : (485,)\n"
     ]
    }
   ],
   "source": [
    "print('X_unidir_train   :',X_unidir_train.shape)\n",
    "print('y_unidir_train   :',y_unidir_train.shape)\n",
    "print('X_unidir_val     :',X_unidir_val.shape)\n",
    "print('y_unidir_val     :',y_unidir_val.shape)"
   ]
  },
  {
   "cell_type": "code",
   "execution_count": 10,
   "metadata": {},
   "outputs": [
    {
     "data": {
      "text/plain": [
       "(764, 54)"
      ]
     },
     "execution_count": 10,
     "metadata": {},
     "output_type": "execute_result"
    }
   ],
   "source": [
    "X_bidir_val.shape"
   ]
  },
  {
   "cell_type": "markdown",
   "metadata": {},
   "source": [
    "***Logistic Regression***"
   ]
  },
  {
   "cell_type": "markdown",
   "metadata": {},
   "source": [
    "**Bidir**"
   ]
  },
  {
   "cell_type": "code",
   "execution_count": 10,
   "metadata": {},
   "outputs": [
    {
     "data": {
      "text/plain": [
       "LogisticRegression(random_state=42)"
      ]
     },
     "execution_count": 10,
     "metadata": {},
     "output_type": "execute_result"
    }
   ],
   "source": [
    "clf = LogisticRegression(random_state=42)\n",
    "clf.fit(X_bidir_train, y_bidir_train)"
   ]
  },
  {
   "cell_type": "code",
   "execution_count": 11,
   "metadata": {},
   "outputs": [
    {
     "name": "stdout",
     "output_type": "stream",
     "text": [
      "Accuracy: 0.9685863874345549 , Misclassification error: 0.03141361256544506\n",
      "Classification report for classifier LogisticRegression(random_state=42):\n",
      "              precision    recall  f1-score   support\n",
      "\n",
      "         0.0       0.95      0.98      0.97      1454\n",
      "         1.0       0.98      0.96      0.97      1602\n",
      "\n",
      "    accuracy                           0.97      3056\n",
      "   macro avg       0.97      0.97      0.97      3056\n",
      "weighted avg       0.97      0.97      0.97      3056\n",
      "\n",
      "\n"
     ]
    }
   ],
   "source": [
    "#Training performance\n",
    "y_train_pred_lr = clf.predict(X_bidir_train)\n",
    "acc = accuracy_score(y_bidir_train, y_train_pred_lr, normalize=True)\n",
    "misclass_err = 1 - acc\n",
    "print(\"Accuracy:\", acc, \", Misclassification error:\", misclass_err)\n",
    "\n",
    "print(f\"Classification report for classifier {clf}:\\n\"\n",
    "f\"{metrics.classification_report(y_bidir_train, y_train_pred_lr)}\\n\")"
   ]
  },
  {
   "cell_type": "code",
   "execution_count": 14,
   "metadata": {},
   "outputs": [
    {
     "name": "stdout",
     "output_type": "stream",
     "text": [
      "Confusion matrix:\n",
      "[[1430   24]\n",
      " [  72 1530]]\n"
     ]
    },
    {
     "data": {
      "image/png": "[encoded data removed]",
      "text/plain": [
       "<Figure size 432x288 with 2 Axes>"
      ]
     },
     "metadata": {
      "needs_background": "light"
     },
     "output_type": "display_data"
    }
   ],
   "source": [
    "disp = metrics.plot_confusion_matrix(clf, X_bidir_train, y_bidir_train)\n",
    "disp.figure_.suptitle(\"Confusion Matrix\")\n",
    "print(f\"Confusion matrix:\\n{disp.confusion_matrix}\")\n",
    "\n",
    "plt.show()"
   ]
  },
  {
   "cell_type": "code",
   "execution_count": 15,
   "metadata": {},
   "outputs": [
    {
     "name": "stdout",
     "output_type": "stream",
     "text": [
      "Accuracy: 0.9554973821989529 , Misclassification error: 0.04450261780104714\n"
     ]
    }
   ],
   "source": [
    "#Validation performance\n",
    "y_pred_lr = clf.predict(X_bidir_val)\n",
    "acc = accuracy_score(y_bidir_val, y_pred_lr, normalize=True)\n",
    "misclass_err = 1 - acc\n",
    "print(\"Accuracy:\", acc, \", Misclassification error:\", misclass_err)"
   ]
  },
  {
   "cell_type": "code",
   "execution_count": 16,
   "metadata": {},
   "outputs": [
    {
     "name": "stdout",
     "output_type": "stream",
     "text": [
      "Classification report for classifier LogisticRegression(random_state=42):\n",
      "              precision    recall  f1-score   support\n",
      "\n",
      "         0.0       0.94      0.97      0.96       387\n",
      "         1.0       0.97      0.94      0.95       377\n",
      "\n",
      "    accuracy                           0.96       764\n",
      "   macro avg       0.96      0.96      0.96       764\n",
      "weighted avg       0.96      0.96      0.96       764\n",
      "\n",
      "\n"
     ]
    }
   ],
   "source": [
    "print(f\"Classification report for classifier {clf}:\\n\"\n",
    "f\"{metrics.classification_report(y_bidir_val, y_pred_lr)}\\n\")"
   ]
  },
  {
   "cell_type": "code",
   "execution_count": 17,
   "metadata": {},
   "outputs": [
    {
     "name": "stdout",
     "output_type": "stream",
     "text": [
      "Confusion matrix:\n",
      "[[377  10]\n",
      " [ 24 353]]\n"
     ]
    },
    {
     "data": {
      "image/png": "[encoded data removed]",
      "text/plain": [
       "<Figure size 432x288 with 2 Axes>"
      ]
     },
     "metadata": {
      "needs_background": "light"
     },
     "output_type": "display_data"
    }
   ],
   "source": [
    "disp = metrics.plot_confusion_matrix(clf, X_bidir_val, y_bidir_val)\n",
    "disp.figure_.suptitle(\"Confusion Matrix\")\n",
    "print(f\"Confusion matrix:\\n{disp.confusion_matrix}\")\n",
    "\n",
    "plt.show()"
   ]
  },
  {
   "cell_type": "code",
   "execution_count": 18,
   "metadata": {},
   "outputs": [
    {
     "data": {
      "text/html": [
       "<div>\n",
       "<style scoped>\n",
       "    .dataframe tbody tr th:only-of-type {\n",
       "        vertical-align: middle;\n",
       "    }\n",
       "\n",
       "    .dataframe tbody tr th {\n",
       "        vertical-align: top;\n",
       "    }\n",
       "\n",
       "    .dataframe thead th {\n",
       "        text-align: right;\n",
       "    }\n",
       "</style>\n",
       "<table border=\"1\" class=\"dataframe\">\n",
       "  <thead>\n",
       "    <tr style=\"text-align: right;\">\n",
       "      <th>Predicted</th>\n",
       "      <th>0.0</th>\n",
       "      <th>1.0</th>\n",
       "      <th>All</th>\n",
       "    </tr>\n",
       "    <tr>\n",
       "      <th>Actual</th>\n",
       "      <th></th>\n",
       "      <th></th>\n",
       "      <th></th>\n",
       "    </tr>\n",
       "  </thead>\n",
       "  <tbody>\n",
       "    <tr>\n",
       "      <th>0.0</th>\n",
       "      <td>377</td>\n",
       "      <td>10</td>\n",
       "      <td>387</td>\n",
       "    </tr>\n",
       "    <tr>\n",
       "      <th>1.0</th>\n",
       "      <td>24</td>\n",
       "      <td>353</td>\n",
       "      <td>377</td>\n",
       "    </tr>\n",
       "    <tr>\n",
       "      <th>All</th>\n",
       "      <td>401</td>\n",
       "      <td>363</td>\n",
       "      <td>764</td>\n",
       "    </tr>\n",
       "  </tbody>\n",
       "</table>\n",
       "</div>"
      ],
      "text/plain": [
       "Predicted  0.0  1.0  All\n",
       "Actual                  \n",
       "0.0        377   10  387\n",
       "1.0         24  353  377\n",
       "All        401  363  764"
      ]
     },
     "execution_count": 18,
     "metadata": {},
     "output_type": "execute_result"
    }
   ],
   "source": [
    "#Get Performance by Class\n",
    "pd.crosstab(y_bidir_val, y_pred_lr, margins=True, rownames=['Actual'], colnames=['Predicted'])"
   ]
  },
  {
   "cell_type": "code",
   "execution_count": 19,
   "metadata": {},
   "outputs": [
    {
     "name": "stdout",
     "output_type": "stream",
     "text": [
      "Accuracy: 0.9596774193548387 , Misclassification error: 0.040322580645161255\n"
     ]
    }
   ],
   "source": [
    "#Test performance\n",
    "yt_pred_lr = clf.predict(X_test_bidir)\n",
    "acc = accuracy_score(y_test_bidir, yt_pred_lr, normalize=True)\n",
    "misclass_err = 1 - acc\n",
    "print(\"Accuracy:\", acc, \", Misclassification error:\", misclass_err)"
   ]
  },
  {
   "cell_type": "code",
   "execution_count": 20,
   "metadata": {},
   "outputs": [
    {
     "name": "stdout",
     "output_type": "stream",
     "text": [
      "Classification report for classifier LogisticRegression(random_state=42):\n",
      "              precision    recall  f1-score   support\n",
      "\n",
      "         0.0       0.94      0.98      0.96     18179\n",
      "         1.0       0.98      0.94      0.96     20137\n",
      "\n",
      "    accuracy                           0.96     38316\n",
      "   macro avg       0.96      0.96      0.96     38316\n",
      "weighted avg       0.96      0.96      0.96     38316\n",
      "\n",
      "\n"
     ]
    }
   ],
   "source": [
    "print(f\"Classification report for classifier {clf}:\\n\"\n",
    "f\"{metrics.classification_report(y_test_bidir, yt_pred_lr)}\\n\")"
   ]
  },
  {
   "cell_type": "code",
   "execution_count": 21,
   "metadata": {},
   "outputs": [
    {
     "name": "stdout",
     "output_type": "stream",
     "text": [
      "Confusion matrix:\n",
      "[[17805   374]\n",
      " [ 1171 18966]]\n"
     ]
    },
    {
     "data": {
      "image/png": "[encoded data removed]",
      "text/plain": [
       "<Figure size 432x288 with 2 Axes>"
      ]
     },
     "metadata": {
      "needs_background": "light"
     },
     "output_type": "display_data"
    }
   ],
   "source": [
    "disp = metrics.plot_confusion_matrix(clf, X_test_bidir, y_test_bidir)\n",
    "disp.figure_.suptitle(\"Confusion Matrix\")\n",
    "print(f\"Confusion matrix:\\n{disp.confusion_matrix}\")\n",
    "\n",
    "plt.show()"
   ]
  },
  {
   "cell_type": "code",
   "execution_count": 22,
   "metadata": {},
   "outputs": [
    {
     "data": {
      "text/html": [
       "<div>\n",
       "<style scoped>\n",
       "    .dataframe tbody tr th:only-of-type {\n",
       "        vertical-align: middle;\n",
       "    }\n",
       "\n",
       "    .dataframe tbody tr th {\n",
       "        vertical-align: top;\n",
       "    }\n",
       "\n",
       "    .dataframe thead th {\n",
       "        text-align: right;\n",
       "    }\n",
       "</style>\n",
       "<table border=\"1\" class=\"dataframe\">\n",
       "  <thead>\n",
       "    <tr style=\"text-align: right;\">\n",
       "      <th>Predicted</th>\n",
       "      <th>0.0</th>\n",
       "      <th>1.0</th>\n",
       "      <th>All</th>\n",
       "    </tr>\n",
       "    <tr>\n",
       "      <th>Actual</th>\n",
       "      <th></th>\n",
       "      <th></th>\n",
       "      <th></th>\n",
       "    </tr>\n",
       "  </thead>\n",
       "  <tbody>\n",
       "    <tr>\n",
       "      <th>0.0</th>\n",
       "      <td>17805</td>\n",
       "      <td>374</td>\n",
       "      <td>18179</td>\n",
       "    </tr>\n",
       "    <tr>\n",
       "      <th>1.0</th>\n",
       "      <td>1171</td>\n",
       "      <td>18966</td>\n",
       "      <td>20137</td>\n",
       "    </tr>\n",
       "    <tr>\n",
       "      <th>All</th>\n",
       "      <td>18976</td>\n",
       "      <td>19340</td>\n",
       "      <td>38316</td>\n",
       "    </tr>\n",
       "  </tbody>\n",
       "</table>\n",
       "</div>"
      ],
      "text/plain": [
       "Predicted    0.0    1.0    All\n",
       "Actual                        \n",
       "0.0        17805    374  18179\n",
       "1.0         1171  18966  20137\n",
       "All        18976  19340  38316"
      ]
     },
     "execution_count": 22,
     "metadata": {},
     "output_type": "execute_result"
    }
   ],
   "source": [
    "#Get Performance by Class\n",
    "pd.crosstab(y_test_bidir, yt_pred_lr, margins=True, rownames=['Actual'], colnames=['Predicted'])"
   ]
  },
  {
   "cell_type": "markdown",
   "metadata": {},
   "source": [
    "**Unidir**"
   ]
  },
  {
   "cell_type": "code",
   "execution_count": 12,
   "metadata": {},
   "outputs": [
    {
     "data": {
      "text/plain": [
       "LogisticRegression(random_state=42)"
      ]
     },
     "execution_count": 12,
     "metadata": {},
     "output_type": "execute_result"
    }
   ],
   "source": [
    "clf_uni = LogisticRegression(random_state=42)\n",
    "clf_uni.fit(X_unidir_train, y_unidir_train)"
   ]
  },
  {
   "cell_type": "code",
   "execution_count": 13,
   "metadata": {},
   "outputs": [
    {
     "name": "stdout",
     "output_type": "stream",
     "text": [
      "Accuracy: 0.9302685950413223 , Misclassification error: 0.06973140495867769\n"
     ]
    }
   ],
   "source": [
    "#Training performance\n",
    "y_train_pred_lr_uni = clf_uni.predict(X_unidir_train)\n",
    "acc = accuracy_score(y_unidir_train, y_train_pred_lr_uni, normalize=True)\n",
    "misclass_err = 1 - acc\n",
    "print(\"Accuracy:\", acc, \", Misclassification error:\", misclass_err)"
   ]
  },
  {
   "cell_type": "code",
   "execution_count": 24,
   "metadata": {},
   "outputs": [
    {
     "name": "stdout",
     "output_type": "stream",
     "text": [
      "Classification report for classifier LogisticRegression(random_state=42):\n",
      "              precision    recall  f1-score   support\n",
      "\n",
      "         0.0       0.89      0.97      0.93       899\n",
      "         1.0       0.97      0.89      0.93      1037\n",
      "\n",
      "    accuracy                           0.93      1936\n",
      "   macro avg       0.93      0.93      0.93      1936\n",
      "weighted avg       0.93      0.93      0.93      1936\n",
      "\n",
      "\n"
     ]
    }
   ],
   "source": [
    "y_train_pred_lr_uni = clf_uni.predict(X_unidir_train)\n",
    "print(f\"Classification report for classifier {clf}:\\n\"\n",
    "f\"{metrics.classification_report(y_unidir_train, y_train_pred_lr_uni)}\\n\")"
   ]
  },
  {
   "cell_type": "code",
   "execution_count": 25,
   "metadata": {},
   "outputs": [
    {
     "name": "stdout",
     "output_type": "stream",
     "text": [
      "Confusion matrix:\n",
      "[[873  26]\n",
      " [110 927]]\n"
     ]
    },
    {
     "data": {
      "image/png": "[encoded data removed]",
      "text/plain": [
       "<Figure size 432x288 with 2 Axes>"
      ]
     },
     "metadata": {
      "needs_background": "light"
     },
     "output_type": "display_data"
    }
   ],
   "source": [
    "disp = metrics.plot_confusion_matrix(clf_uni, X_unidir_train, y_unidir_train)\n",
    "disp.figure_.suptitle(\"Confusion Matrix\")\n",
    "print(f\"Confusion matrix:\\n{disp.confusion_matrix}\")\n",
    "\n",
    "plt.show()"
   ]
  },
  {
   "cell_type": "code",
   "execution_count": 26,
   "metadata": {},
   "outputs": [
    {
     "name": "stdout",
     "output_type": "stream",
     "text": [
      "Accuracy: 0.9381443298969072 , Misclassification error: 0.061855670103092786\n"
     ]
    }
   ],
   "source": [
    "#validdaton performance\n",
    "y_pred_lr_uni = clf_uni.predict(X_unidir_val)\n",
    "acc = accuracy_score(y_unidir_val, y_pred_lr_uni, normalize=True)\n",
    "misclass_err = 1 - acc\n",
    "print(\"Accuracy:\", acc, \", Misclassification error:\", misclass_err)"
   ]
  },
  {
   "cell_type": "code",
   "execution_count": 27,
   "metadata": {},
   "outputs": [
    {
     "name": "stdout",
     "output_type": "stream",
     "text": [
      "Classification report for classifier LogisticRegression(random_state=42):\n",
      "              precision    recall  f1-score   support\n",
      "\n",
      "         0.0       0.90      0.98      0.94       243\n",
      "         1.0       0.98      0.89      0.94       242\n",
      "\n",
      "    accuracy                           0.94       485\n",
      "   macro avg       0.94      0.94      0.94       485\n",
      "weighted avg       0.94      0.94      0.94       485\n",
      "\n",
      "\n"
     ]
    }
   ],
   "source": [
    "print(f\"Classification report for classifier {clf_uni}:\\n\"\n",
    "f\"{metrics.classification_report(y_unidir_val, y_pred_lr_uni)}\\n\")"
   ]
  },
  {
   "cell_type": "code",
   "execution_count": 28,
   "metadata": {},
   "outputs": [
    {
     "name": "stdout",
     "output_type": "stream",
     "text": [
      "Confusion matrix:\n",
      "[[239   4]\n",
      " [ 26 216]]\n"
     ]
    },
    {
     "data": {
      "image/png": "[encoded data removed]",
      "text/plain": [
       "<Figure size 432x288 with 2 Axes>"
      ]
     },
     "metadata": {
      "needs_background": "light"
     },
     "output_type": "display_data"
    }
   ],
   "source": [
    "disp = metrics.plot_confusion_matrix(clf_uni, X_unidir_val, y_unidir_val)\n",
    "disp.figure_.suptitle(\"Confusion Matrix\")\n",
    "print(f\"Confusion matrix:\\n{disp.confusion_matrix}\")\n",
    "\n",
    "plt.show()"
   ]
  },
  {
   "cell_type": "code",
   "execution_count": 29,
   "metadata": {},
   "outputs": [
    {
     "data": {
      "text/html": [
       "<div>\n",
       "<style scoped>\n",
       "    .dataframe tbody tr th:only-of-type {\n",
       "        vertical-align: middle;\n",
       "    }\n",
       "\n",
       "    .dataframe tbody tr th {\n",
       "        vertical-align: top;\n",
       "    }\n",
       "\n",
       "    .dataframe thead th {\n",
       "        text-align: right;\n",
       "    }\n",
       "</style>\n",
       "<table border=\"1\" class=\"dataframe\">\n",
       "  <thead>\n",
       "    <tr style=\"text-align: right;\">\n",
       "      <th>Predicted</th>\n",
       "      <th>0.0</th>\n",
       "      <th>1.0</th>\n",
       "      <th>All</th>\n",
       "    </tr>\n",
       "    <tr>\n",
       "      <th>Actual</th>\n",
       "      <th></th>\n",
       "      <th></th>\n",
       "      <th></th>\n",
       "    </tr>\n",
       "  </thead>\n",
       "  <tbody>\n",
       "    <tr>\n",
       "      <th>0.0</th>\n",
       "      <td>239</td>\n",
       "      <td>4</td>\n",
       "      <td>243</td>\n",
       "    </tr>\n",
       "    <tr>\n",
       "      <th>1.0</th>\n",
       "      <td>26</td>\n",
       "      <td>216</td>\n",
       "      <td>242</td>\n",
       "    </tr>\n",
       "    <tr>\n",
       "      <th>All</th>\n",
       "      <td>265</td>\n",
       "      <td>220</td>\n",
       "      <td>485</td>\n",
       "    </tr>\n",
       "  </tbody>\n",
       "</table>\n",
       "</div>"
      ],
      "text/plain": [
       "Predicted  0.0  1.0  All\n",
       "Actual                  \n",
       "0.0        239    4  243\n",
       "1.0         26  216  242\n",
       "All        265  220  485"
      ]
     },
     "execution_count": 29,
     "metadata": {},
     "output_type": "execute_result"
    }
   ],
   "source": [
    "#Get Performance by Class\n",
    "pd.crosstab(y_unidir_val, y_pred_lr_uni, margins=True, rownames=['Actual'], colnames=['Predicted'])"
   ]
  },
  {
   "cell_type": "code",
   "execution_count": 30,
   "metadata": {},
   "outputs": [
    {
     "name": "stdout",
     "output_type": "stream",
     "text": [
      "Accuracy: 0.9292361139832086 , Misclassification error: 0.0707638860167914\n"
     ]
    }
   ],
   "source": [
    "#Test performance\n",
    "yt_pred_lr_uni = clf_uni.predict(X_test_unidir)\n",
    "acc = accuracy_score(y_test_unidir, yt_pred_lr_uni, normalize=True)\n",
    "misclass_err = 1 - acc\n",
    "print(\"Accuracy:\", acc, \", Misclassification error:\", misclass_err)"
   ]
  },
  {
   "cell_type": "code",
   "execution_count": 31,
   "metadata": {},
   "outputs": [
    {
     "name": "stdout",
     "output_type": "stream",
     "text": [
      "Classification report for classifier LogisticRegression(random_state=42):\n",
      "              precision    recall  f1-score   support\n",
      "\n",
      "         0.0       0.89      0.97      0.93     11287\n",
      "         1.0       0.97      0.90      0.93     12892\n",
      "\n",
      "    accuracy                           0.93     24179\n",
      "   macro avg       0.93      0.93      0.93     24179\n",
      "weighted avg       0.93      0.93      0.93     24179\n",
      "\n",
      "\n"
     ]
    }
   ],
   "source": [
    "print(f\"Classification report for classifier {clf_uni}:\\n\"\n",
    "f\"{metrics.classification_report(y_test_unidir, yt_pred_lr_uni)}\\n\")"
   ]
  },
  {
   "cell_type": "code",
   "execution_count": 32,
   "metadata": {},
   "outputs": [
    {
     "name": "stdout",
     "output_type": "stream",
     "text": [
      "Confusion matrix:\n",
      "[[10924   363]\n",
      " [ 1348 11544]]\n"
     ]
    },
    {
     "data": {
      "image/png": "[encoded data removed]",
      "text/plain": [
       "<Figure size 432x288 with 2 Axes>"
      ]
     },
     "metadata": {
      "needs_background": "light"
     },
     "output_type": "display_data"
    }
   ],
   "source": [
    "disp = metrics.plot_confusion_matrix(clf_uni, X_test_unidir, y_test_unidir)\n",
    "disp.figure_.suptitle(\"Confusion Matrix\")\n",
    "print(f\"Confusion matrix:\\n{disp.confusion_matrix}\")\n",
    "\n",
    "plt.show()"
   ]
  },
  {
   "cell_type": "code",
   "execution_count": 33,
   "metadata": {},
   "outputs": [
    {
     "data": {
      "text/html": [
       "<div>\n",
       "<style scoped>\n",
       "    .dataframe tbody tr th:only-of-type {\n",
       "        vertical-align: middle;\n",
       "    }\n",
       "\n",
       "    .dataframe tbody tr th {\n",
       "        vertical-align: top;\n",
       "    }\n",
       "\n",
       "    .dataframe thead th {\n",
       "        text-align: right;\n",
       "    }\n",
       "</style>\n",
       "<table border=\"1\" class=\"dataframe\">\n",
       "  <thead>\n",
       "    <tr style=\"text-align: right;\">\n",
       "      <th>Predicted</th>\n",
       "      <th>0.0</th>\n",
       "      <th>1.0</th>\n",
       "      <th>All</th>\n",
       "    </tr>\n",
       "    <tr>\n",
       "      <th>Actual</th>\n",
       "      <th></th>\n",
       "      <th></th>\n",
       "      <th></th>\n",
       "    </tr>\n",
       "  </thead>\n",
       "  <tbody>\n",
       "    <tr>\n",
       "      <th>0.0</th>\n",
       "      <td>10924</td>\n",
       "      <td>363</td>\n",
       "      <td>11287</td>\n",
       "    </tr>\n",
       "    <tr>\n",
       "      <th>1.0</th>\n",
       "      <td>1348</td>\n",
       "      <td>11544</td>\n",
       "      <td>12892</td>\n",
       "    </tr>\n",
       "    <tr>\n",
       "      <th>All</th>\n",
       "      <td>12272</td>\n",
       "      <td>11907</td>\n",
       "      <td>24179</td>\n",
       "    </tr>\n",
       "  </tbody>\n",
       "</table>\n",
       "</div>"
      ],
      "text/plain": [
       "Predicted    0.0    1.0    All\n",
       "Actual                        \n",
       "0.0        10924    363  11287\n",
       "1.0         1348  11544  12892\n",
       "All        12272  11907  24179"
      ]
     },
     "execution_count": 33,
     "metadata": {},
     "output_type": "execute_result"
    }
   ],
   "source": [
    "#Get Performance by Class\n",
    "pd.crosstab(y_test_unidir, yt_pred_lr_uni, margins=True, rownames=['Actual'], colnames=['Predicted'])"
   ]
  },
  {
   "cell_type": "markdown",
   "metadata": {},
   "source": []
  },
  {
   "cell_type": "markdown",
   "metadata": {},
   "source": [
    "*******************************************************************"
   ]
  },
  {
   "cell_type": "markdown",
   "metadata": {},
   "source": [
    "***LDA***"
   ]
  },
  {
   "cell_type": "markdown",
   "metadata": {},
   "source": [
    "**Bidir**"
   ]
  },
  {
   "cell_type": "code",
   "execution_count": 14,
   "metadata": {},
   "outputs": [],
   "source": [
    "lda = LinearDiscriminantAnalysis(solver='svd')"
   ]
  },
  {
   "cell_type": "code",
   "execution_count": 15,
   "metadata": {},
   "outputs": [],
   "source": [
    "ytrain_pred = lda.fit(X_bidir_train, y_bidir_train).predict(X_bidir_train)"
   ]
  },
  {
   "cell_type": "code",
   "execution_count": 16,
   "metadata": {},
   "outputs": [
    {
     "name": "stdout",
     "output_type": "stream",
     "text": [
      "Accuracy: 1.0 , Misclassification error: 0.0\n"
     ]
    }
   ],
   "source": [
    "#Training performance\n",
    "acc = accuracy_score(y_bidir_train, ytrain_pred, normalize=True)\n",
    "misclass_err = 1 - acc\n",
    "print(\"Accuracy:\", acc, \", Misclassification error:\", misclass_err)"
   ]
  },
  {
   "cell_type": "code",
   "execution_count": 36,
   "metadata": {},
   "outputs": [
    {
     "name": "stdout",
     "output_type": "stream",
     "text": [
      "Classification report for classifier LinearDiscriminantAnalysis():\n",
      "              precision    recall  f1-score   support\n",
      "\n",
      "         0.0       1.00      1.00      1.00      1454\n",
      "         1.0       1.00      1.00      1.00      1602\n",
      "\n",
      "    accuracy                           1.00      3056\n",
      "   macro avg       1.00      1.00      1.00      3056\n",
      "weighted avg       1.00      1.00      1.00      3056\n",
      "\n",
      "\n"
     ]
    }
   ],
   "source": [
    "print(f\"Classification report for classifier {lda}:\\n\"\n",
    "f\"{metrics.classification_report(y_bidir_train, ytrain_pred)}\\n\")"
   ]
  },
  {
   "cell_type": "code",
   "execution_count": 37,
   "metadata": {},
   "outputs": [],
   "source": [
    "#validation performance\n",
    "y_pred = lda.fit(X_bidir_train, y_bidir_train).predict(X_bidir_val)"
   ]
  },
  {
   "cell_type": "code",
   "execution_count": 38,
   "metadata": {},
   "outputs": [
    {
     "data": {
      "text/plain": [
       "1.0"
      ]
     },
     "execution_count": 38,
     "metadata": {},
     "output_type": "execute_result"
    }
   ],
   "source": [
    "lda.score(X_bidir_val,y_bidir_val)"
   ]
  },
  {
   "cell_type": "code",
   "execution_count": 39,
   "metadata": {},
   "outputs": [
    {
     "name": "stdout",
     "output_type": "stream",
     "text": [
      "Classification report for classifier LinearDiscriminantAnalysis():\n",
      "              precision    recall  f1-score   support\n",
      "\n",
      "         0.0       1.00      1.00      1.00       387\n",
      "         1.0       1.00      1.00      1.00       377\n",
      "\n",
      "    accuracy                           1.00       764\n",
      "   macro avg       1.00      1.00      1.00       764\n",
      "weighted avg       1.00      1.00      1.00       764\n",
      "\n",
      "\n"
     ]
    }
   ],
   "source": [
    "print(f\"Classification report for classifier {lda}:\\n\"\n",
    "f\"{metrics.classification_report(y_bidir_val, y_pred)}\\n\")"
   ]
  },
  {
   "cell_type": "code",
   "execution_count": 40,
   "metadata": {},
   "outputs": [
    {
     "name": "stdout",
     "output_type": "stream",
     "text": [
      "Confusion matrix:\n",
      "[[387   0]\n",
      " [  0 377]]\n"
     ]
    },
    {
     "data": {
      "image/png": "[encoded data removed]",
      "text/plain": [
       "<Figure size 432x288 with 2 Axes>"
      ]
     },
     "metadata": {
      "needs_background": "light"
     },
     "output_type": "display_data"
    }
   ],
   "source": [
    "disp = metrics.plot_confusion_matrix(lda, X_bidir_val, y_bidir_val)\n",
    "disp.figure_.suptitle(\"Confusion Matrix\")\n",
    "print(f\"Confusion matrix:\\n{disp.confusion_matrix}\")\n",
    "\n",
    "plt.show()"
   ]
  },
  {
   "cell_type": "code",
   "execution_count": 41,
   "metadata": {},
   "outputs": [
    {
     "data": {
      "text/plain": [
       "0.9997651111807078"
      ]
     },
     "execution_count": 41,
     "metadata": {},
     "output_type": "execute_result"
    }
   ],
   "source": [
    "#Predicting the Testdata using LDA \n",
    "y_pred_test = lda.fit(X_bidir_train, y_bidir_train).predict(X_test_bidir)\n",
    "lda.score(X_test_bidir, y_test_bidir)\n"
   ]
  },
  {
   "cell_type": "code",
   "execution_count": 42,
   "metadata": {},
   "outputs": [
    {
     "name": "stdout",
     "output_type": "stream",
     "text": [
      "Testdata Classification report for classifier LinearDiscriminantAnalysis():\n",
      "              precision    recall  f1-score   support\n",
      "\n",
      "         0.0       1.00      1.00      1.00     18179\n",
      "         1.0       1.00      1.00      1.00     20137\n",
      "\n",
      "    accuracy                           1.00     38316\n",
      "   macro avg       1.00      1.00      1.00     38316\n",
      "weighted avg       1.00      1.00      1.00     38316\n",
      "\n",
      "\n"
     ]
    }
   ],
   "source": [
    "print(f\"Testdata Classification report for classifier {lda}:\\n\"\n",
    "f\"{metrics.classification_report(y_test_bidir, y_pred_test)}\\n\")"
   ]
  },
  {
   "cell_type": "code",
   "execution_count": 43,
   "metadata": {},
   "outputs": [
    {
     "name": "stdout",
     "output_type": "stream",
     "text": [
      "Testdata Confusion matrix:\n",
      "[[18170     9]\n",
      " [    0 20137]]\n"
     ]
    },
    {
     "data": {
      "image/png": "[encoded data removed]",
      "text/plain": [
       "<Figure size 432x288 with 2 Axes>"
      ]
     },
     "metadata": {
      "needs_background": "light"
     },
     "output_type": "display_data"
    }
   ],
   "source": [
    "disp = metrics.plot_confusion_matrix(lda, X_test_bidir, y_test_bidir)\n",
    "disp.figure_.suptitle(\"Testdata Confusion Matrix\")\n",
    "print(f\"Testdata Confusion matrix:\\n{disp.confusion_matrix}\")\n",
    "\n",
    "plt.show()"
   ]
  },
  {
   "cell_type": "markdown",
   "metadata": {},
   "source": []
  },
  {
   "cell_type": "markdown",
   "metadata": {},
   "source": [
    "**Unidir**"
   ]
  },
  {
   "cell_type": "code",
   "execution_count": 22,
   "metadata": {},
   "outputs": [],
   "source": [
    "lda_uni = LinearDiscriminantAnalysis(solver='svd')"
   ]
  },
  {
   "cell_type": "code",
   "execution_count": 23,
   "metadata": {},
   "outputs": [],
   "source": [
    "ytrain_pred_uni = lda_uni.fit(X_unidir_train, y_unidir_train).predict(X_unidir_train)"
   ]
  },
  {
   "cell_type": "code",
   "execution_count": 24,
   "metadata": {},
   "outputs": [
    {
     "name": "stdout",
     "output_type": "stream",
     "text": [
      "Accuracy: 0.9519628099173554 , Misclassification error: 0.04803719008264462\n"
     ]
    }
   ],
   "source": [
    "#Training performance\n",
    "acc = accuracy_score(y_unidir_train, ytrain_pred_uni, normalize=True)\n",
    "misclass_err = 1 - acc\n",
    "print(\"Accuracy:\", acc, \", Misclassification error:\", misclass_err)"
   ]
  },
  {
   "cell_type": "code",
   "execution_count": 25,
   "metadata": {},
   "outputs": [
    {
     "name": "stdout",
     "output_type": "stream",
     "text": [
      "Classification report for classifier LinearDiscriminantAnalysis():\n",
      "              precision    recall  f1-score   support\n",
      "\n",
      "         0.0       0.98      0.91      0.95       899\n",
      "         1.0       0.93      0.99      0.96      1037\n",
      "\n",
      "    accuracy                           0.95      1936\n",
      "   macro avg       0.96      0.95      0.95      1936\n",
      "weighted avg       0.95      0.95      0.95      1936\n",
      "\n",
      "\n"
     ]
    }
   ],
   "source": [
    "print(f\"Classification report for classifier {lda_uni}:\\n\"\n",
    "f\"{metrics.classification_report(y_unidir_train, ytrain_pred_uni)}\\n\")"
   ]
  },
  {
   "cell_type": "code",
   "execution_count": 28,
   "metadata": {},
   "outputs": [
    {
     "name": "stdout",
     "output_type": "stream",
     "text": [
      "Training Confusion matrix:\n",
      "[[ 819   80]\n",
      " [  13 1024]]\n"
     ]
    },
    {
     "data": {
      "image/png": "[encoded data removed]",
      "text/plain": [
       "<Figure size 432x288 with 2 Axes>"
      ]
     },
     "metadata": {
      "needs_background": "light"
     },
     "output_type": "display_data"
    }
   ],
   "source": [
    "disp = metrics.plot_confusion_matrix(lda_uni, X_unidir_train, y_unidir_train)\n",
    "disp.figure_.suptitle(\"Training data Confusion Matrix\")\n",
    "print(f\"Training Confusion matrix:\\n{disp.confusion_matrix}\")\n",
    "\n",
    "plt.show()"
   ]
  },
  {
   "cell_type": "code",
   "execution_count": 47,
   "metadata": {},
   "outputs": [],
   "source": [
    "#validation performance\n",
    "y_pred_uni = lda_uni.fit(X_unidir_train, y_unidir_train).predict(X_unidir_val)"
   ]
  },
  {
   "cell_type": "code",
   "execution_count": 48,
   "metadata": {},
   "outputs": [
    {
     "data": {
      "text/plain": [
       "0.9525773195876288"
      ]
     },
     "execution_count": 48,
     "metadata": {},
     "output_type": "execute_result"
    }
   ],
   "source": [
    "lda_uni.score(X_unidir_val, y_unidir_val)"
   ]
  },
  {
   "cell_type": "code",
   "execution_count": 49,
   "metadata": {},
   "outputs": [
    {
     "name": "stdout",
     "output_type": "stream",
     "text": [
      "Classification report for classifier LinearDiscriminantAnalysis():\n",
      "              precision    recall  f1-score   support\n",
      "\n",
      "         0.0       0.98      0.92      0.95       243\n",
      "         1.0       0.93      0.98      0.95       242\n",
      "\n",
      "    accuracy                           0.95       485\n",
      "   macro avg       0.95      0.95      0.95       485\n",
      "weighted avg       0.95      0.95      0.95       485\n",
      "\n",
      "\n"
     ]
    }
   ],
   "source": [
    "print(f\"Classification report for classifier {lda_uni}:\\n\"\n",
    "f\"{metrics.classification_report(y_unidir_val, y_pred_uni)}\\n\")"
   ]
  },
  {
   "cell_type": "code",
   "execution_count": 50,
   "metadata": {},
   "outputs": [
    {
     "name": "stdout",
     "output_type": "stream",
     "text": [
      "Confusion matrix:\n",
      "[[224  19]\n",
      " [  4 238]]\n"
     ]
    },
    {
     "data": {
      "image/png": "[encoded data removed]",
      "text/plain": [
       "<Figure size 432x288 with 2 Axes>"
      ]
     },
     "metadata": {
      "needs_background": "light"
     },
     "output_type": "display_data"
    }
   ],
   "source": [
    "disp = metrics.plot_confusion_matrix(lda_uni, X_unidir_val, y_unidir_val)\n",
    "disp.figure_.suptitle(\"Confusion Matrix\")\n",
    "print(f\"Confusion matrix:\\n{disp.confusion_matrix}\")\n",
    "\n",
    "plt.show()"
   ]
  },
  {
   "cell_type": "code",
   "execution_count": 51,
   "metadata": {},
   "outputs": [
    {
     "data": {
      "text/plain": [
       "0.9997651111807078"
      ]
     },
     "execution_count": 51,
     "metadata": {},
     "output_type": "execute_result"
    }
   ],
   "source": [
    "#Predicting the Testdata using LDA \n",
    "y_pred_test_uni = lda_uni.fit(X_unidir_train, y_unidir_train).predict(X_test_unidir)\n",
    "lda.score(X_test_bidir, y_test_bidir)\n"
   ]
  },
  {
   "cell_type": "code",
   "execution_count": 52,
   "metadata": {},
   "outputs": [
    {
     "name": "stdout",
     "output_type": "stream",
     "text": [
      "Testdata Classification report for classifier LinearDiscriminantAnalysis():\n",
      "              precision    recall  f1-score   support\n",
      "\n",
      "         0.0       0.99      0.92      0.95     11287\n",
      "         1.0       0.93      0.99      0.96     12892\n",
      "\n",
      "    accuracy                           0.96     24179\n",
      "   macro avg       0.96      0.95      0.96     24179\n",
      "weighted avg       0.96      0.96      0.96     24179\n",
      "\n",
      "\n"
     ]
    }
   ],
   "source": [
    "print(f\"Testdata Classification report for classifier {lda_uni}:\\n\"\n",
    "f\"{metrics.classification_report(y_test_unidir, y_pred_test_uni)}\\n\")"
   ]
  },
  {
   "cell_type": "code",
   "execution_count": 53,
   "metadata": {},
   "outputs": [
    {
     "name": "stdout",
     "output_type": "stream",
     "text": [
      "Testdata Confusion matrix:\n",
      "[[10392   895]\n",
      " [  156 12736]]\n"
     ]
    },
    {
     "data": {
      "image/png": "[encoded data removed]",
      "text/plain": [
       "<Figure size 432x288 with 2 Axes>"
      ]
     },
     "metadata": {
      "needs_background": "light"
     },
     "output_type": "display_data"
    }
   ],
   "source": [
    "disp = metrics.plot_confusion_matrix(lda_uni, X_test_unidir, y_test_unidir)\n",
    "disp.figure_.suptitle(\"Testdata Confusion Matrix\")\n",
    "print(f\"Testdata Confusion matrix:\\n{disp.confusion_matrix}\")\n",
    "\n",
    "plt.show()"
   ]
  },
  {
   "cell_type": "markdown",
   "metadata": {},
   "source": []
  },
  {
   "cell_type": "markdown",
   "metadata": {},
   "source": [
    "**************"
   ]
  },
  {
   "cell_type": "markdown",
   "metadata": {},
   "source": [
    "***KNN***"
   ]
  },
  {
   "cell_type": "markdown",
   "metadata": {},
   "source": [
    "**Bidir**"
   ]
  },
  {
   "cell_type": "code",
   "execution_count": 29,
   "metadata": {},
   "outputs": [
    {
     "data": {
      "text/plain": [
       "KNeighborsClassifier(n_neighbors=3)"
      ]
     },
     "execution_count": 29,
     "metadata": {},
     "output_type": "execute_result"
    }
   ],
   "source": [
    "neigh = KNeighborsClassifier(n_neighbors=3)\n",
    "neigh.fit(X_bidir_train, y_bidir_train)"
   ]
  },
  {
   "cell_type": "code",
   "execution_count": 30,
   "metadata": {},
   "outputs": [],
   "source": [
    "train_predicted = neigh.predict(X_bidir_train) #predicting training data"
   ]
  },
  {
   "cell_type": "code",
   "execution_count": 31,
   "metadata": {},
   "outputs": [
    {
     "name": "stdout",
     "output_type": "stream",
     "text": [
      "Accuracy: 0.9986910994764397 , Misclassification error: 0.0013089005235602524\n"
     ]
    }
   ],
   "source": [
    "acc = accuracy_score(y_bidir_train, train_predicted, normalize=True)\n",
    "misclass_err = 1 - acc\n",
    "print(\"Accuracy:\", acc, \", Misclassification error:\", misclass_err)"
   ]
  },
  {
   "cell_type": "code",
   "execution_count": 32,
   "metadata": {},
   "outputs": [
    {
     "name": "stdout",
     "output_type": "stream",
     "text": [
      "Classification report for classifier KNeighborsClassifier(n_neighbors=3):\n",
      "              precision    recall  f1-score   support\n",
      "\n",
      "         0.0       1.00      1.00      1.00      1454\n",
      "         1.0       1.00      1.00      1.00      1602\n",
      "\n",
      "    accuracy                           1.00      3056\n",
      "   macro avg       1.00      1.00      1.00      3056\n",
      "weighted avg       1.00      1.00      1.00      3056\n",
      "\n",
      "\n"
     ]
    }
   ],
   "source": [
    "print(f\"Classification report for classifier {neigh}:\\n\"\n",
    "f\"{metrics.classification_report(y_bidir_train, train_predicted)}\\n\")"
   ]
  },
  {
   "cell_type": "code",
   "execution_count": 33,
   "metadata": {},
   "outputs": [
    {
     "name": "stdout",
     "output_type": "stream",
     "text": [
      "Training Performance: \n",
      "Confusion matrix:\n",
      "[[1451    3]\n",
      " [   1 1601]]\n"
     ]
    },
    {
     "data": {
      "image/png": "[encoded data removed]",
      "text/plain": [
       "<Figure size 432x288 with 2 Axes>"
      ]
     },
     "metadata": {
      "needs_background": "light"
     },
     "output_type": "display_data"
    }
   ],
   "source": [
    "print('Training Performance: ')\n",
    "disp = metrics.plot_confusion_matrix(neigh, X_bidir_train, y_bidir_train)\n",
    "disp.figure_.suptitle(\"Confusion Matrix\")\n",
    "print(f\"Confusion matrix:\\n{disp.confusion_matrix}\")\n",
    "plt.show()"
   ]
  },
  {
   "cell_type": "code",
   "execution_count": 34,
   "metadata": {},
   "outputs": [
    {
     "name": "stdout",
     "output_type": "stream",
     "text": [
      "Validation performance :\n",
      "Accuracy: 0.9986910994764397 , Misclassification error: 0.0013089005235602524\n"
     ]
    }
   ],
   "source": [
    "print('Validation performance :')\n",
    "acc = accuracy_score(y_bidir_val, neigh.predict(X_bidir_val), normalize=True)\n",
    "misclass_err = 1 - acc\n",
    "print(\"Accuracy:\", acc, \", Misclassification error:\", misclass_err)"
   ]
  },
  {
   "cell_type": "code",
   "execution_count": 57,
   "metadata": {},
   "outputs": [
    {
     "name": "stdout",
     "output_type": "stream",
     "text": [
      "Classification report for classifier KNeighborsClassifier(n_neighbors=3):\n",
      "              precision    recall  f1-score   support\n",
      "\n",
      "         0.0       1.00      1.00      1.00       387\n",
      "         1.0       1.00      1.00      1.00       377\n",
      "\n",
      "    accuracy                           1.00       764\n",
      "   macro avg       1.00      1.00      1.00       764\n",
      "weighted avg       1.00      1.00      1.00       764\n",
      "\n",
      "\n"
     ]
    }
   ],
   "source": [
    "print(f\"Classification report for classifier {neigh}:\\n\"\n",
    "f\"{metrics.classification_report(y_bidir_val, neigh.predict(X_bidir_val))}\\n\")"
   ]
  },
  {
   "cell_type": "code",
   "execution_count": 58,
   "metadata": {},
   "outputs": [
    {
     "name": "stdout",
     "output_type": "stream",
     "text": [
      "Confusion matrix:\n",
      "[[386   1]\n",
      " [  0 377]]\n"
     ]
    },
    {
     "data": {
      "image/png": "[encoded data removed]",
      "text/plain": [
       "<Figure size 432x288 with 2 Axes>"
      ]
     },
     "metadata": {
      "needs_background": "light"
     },
     "output_type": "display_data"
    }
   ],
   "source": [
    "disp = metrics.plot_confusion_matrix(neigh, X_bidir_val, y_bidir_val)\n",
    "disp.figure_.suptitle(\"Confusion Matrix\")\n",
    "print(f\"Confusion matrix:\\n{disp.confusion_matrix}\")\n",
    "\n",
    "plt.show()"
   ]
  },
  {
   "cell_type": "code",
   "execution_count": 36,
   "metadata": {},
   "outputs": [],
   "source": [
    "test_predicted = neigh.predict(X_test_bidir) #predicting test data "
   ]
  },
  {
   "cell_type": "code",
   "execution_count": 37,
   "metadata": {},
   "outputs": [
    {
     "name": "stdout",
     "output_type": "stream",
     "text": [
      "Test performance :\n",
      "Accuracy: 0.997859901868671 , Misclassification error: 0.0021400981313289824\n"
     ]
    }
   ],
   "source": [
    "print('Test performance :')\n",
    "acc = accuracy_score(y_test_bidir, test_predicted, normalize=True)\n",
    "misclass_err = 1 - acc\n",
    "print(\"Accuracy:\", acc, \", Misclassification error:\", misclass_err)"
   ]
  },
  {
   "cell_type": "code",
   "execution_count": 38,
   "metadata": {},
   "outputs": [
    {
     "name": "stdout",
     "output_type": "stream",
     "text": [
      " Testdata Classification report for classifier KNeighborsClassifier(n_neighbors=3):\n",
      "              precision    recall  f1-score   support\n",
      "\n",
      "         0.0       1.00      1.00      1.00     18179\n",
      "         1.0       1.00      1.00      1.00     20137\n",
      "\n",
      "    accuracy                           1.00     38316\n",
      "   macro avg       1.00      1.00      1.00     38316\n",
      "weighted avg       1.00      1.00      1.00     38316\n",
      "\n",
      "\n"
     ]
    }
   ],
   "source": [
    "print(f\" Testdata Classification report for classifier {neigh}:\\n\"\n",
    "f\"{metrics.classification_report(y_test_bidir, test_predicted)}\\n\")"
   ]
  },
  {
   "cell_type": "code",
   "execution_count": 39,
   "metadata": {},
   "outputs": [
    {
     "name": "stdout",
     "output_type": "stream",
     "text": [
      "Testdata Confusion matrix:\n",
      "[[18120    59]\n",
      " [   23 20114]]\n"
     ]
    },
    {
     "data": {
      "image/png": "[encoded data removed]",
      "text/plain": [
       "<Figure size 432x288 with 2 Axes>"
      ]
     },
     "metadata": {
      "needs_background": "light"
     },
     "output_type": "display_data"
    }
   ],
   "source": [
    "disp = metrics.plot_confusion_matrix(neigh, X_test_bidir, y_test_bidir)\n",
    "disp.figure_.suptitle(\"Testdata Confusion Matrix\")\n",
    "print(f\"Testdata Confusion matrix:\\n{disp.confusion_matrix}\")\n",
    "\n",
    "plt.show()"
   ]
  },
  {
   "cell_type": "code",
   "execution_count": 62,
   "metadata": {},
   "outputs": [
    {
     "data": {
      "text/html": [
       "<div>\n",
       "<style scoped>\n",
       "    .dataframe tbody tr th:only-of-type {\n",
       "        vertical-align: middle;\n",
       "    }\n",
       "\n",
       "    .dataframe tbody tr th {\n",
       "        vertical-align: top;\n",
       "    }\n",
       "\n",
       "    .dataframe thead th {\n",
       "        text-align: right;\n",
       "    }\n",
       "</style>\n",
       "<table border=\"1\" class=\"dataframe\">\n",
       "  <thead>\n",
       "    <tr style=\"text-align: right;\">\n",
       "      <th>Predicted</th>\n",
       "      <th>0.0</th>\n",
       "      <th>1.0</th>\n",
       "      <th>All</th>\n",
       "    </tr>\n",
       "    <tr>\n",
       "      <th>Actual</th>\n",
       "      <th></th>\n",
       "      <th></th>\n",
       "      <th></th>\n",
       "    </tr>\n",
       "  </thead>\n",
       "  <tbody>\n",
       "    <tr>\n",
       "      <th>0.0</th>\n",
       "      <td>18120</td>\n",
       "      <td>59</td>\n",
       "      <td>18179</td>\n",
       "    </tr>\n",
       "    <tr>\n",
       "      <th>1.0</th>\n",
       "      <td>23</td>\n",
       "      <td>20114</td>\n",
       "      <td>20137</td>\n",
       "    </tr>\n",
       "    <tr>\n",
       "      <th>All</th>\n",
       "      <td>18143</td>\n",
       "      <td>20173</td>\n",
       "      <td>38316</td>\n",
       "    </tr>\n",
       "  </tbody>\n",
       "</table>\n",
       "</div>"
      ],
      "text/plain": [
       "Predicted    0.0    1.0    All\n",
       "Actual                        \n",
       "0.0        18120     59  18179\n",
       "1.0           23  20114  20137\n",
       "All        18143  20173  38316"
      ]
     },
     "execution_count": 62,
     "metadata": {},
     "output_type": "execute_result"
    }
   ],
   "source": [
    "#Get Performance by Class\n",
    "pd.crosstab(y_test_bidir, test_predicted, margins=True, rownames=['Actual'], colnames=['Predicted'])"
   ]
  },
  {
   "cell_type": "code",
   "execution_count": null,
   "metadata": {},
   "outputs": [],
   "source": []
  },
  {
   "cell_type": "markdown",
   "metadata": {},
   "source": [
    "**Unidir**"
   ]
  },
  {
   "cell_type": "code",
   "execution_count": 40,
   "metadata": {},
   "outputs": [
    {
     "data": {
      "text/plain": [
       "KNeighborsClassifier(n_neighbors=3)"
      ]
     },
     "execution_count": 40,
     "metadata": {},
     "output_type": "execute_result"
    }
   ],
   "source": [
    "neigh_uni = KNeighborsClassifier(n_neighbors=3)\n",
    "neigh_uni.fit(X_unidir_train, y_unidir_train)"
   ]
  },
  {
   "cell_type": "code",
   "execution_count": 41,
   "metadata": {},
   "outputs": [],
   "source": [
    "train_predicted_uni = neigh_uni.predict(X_unidir_train)#predicting train data "
   ]
  },
  {
   "cell_type": "code",
   "execution_count": 42,
   "metadata": {},
   "outputs": [
    {
     "name": "stdout",
     "output_type": "stream",
     "text": [
      "Training performance :\n",
      "Accuracy: 0.9994834710743802 , Misclassification error: 0.0005165289256198191\n"
     ]
    }
   ],
   "source": [
    "print('Training performance :')\n",
    "acc = accuracy_score(y_unidir_train, train_predicted_uni, normalize=True)\n",
    "misclass_err = 1 - acc\n",
    "print(\"Accuracy:\", acc, \", Misclassification error:\", misclass_err)"
   ]
  },
  {
   "cell_type": "code",
   "execution_count": 65,
   "metadata": {},
   "outputs": [
    {
     "name": "stdout",
     "output_type": "stream",
     "text": [
      "Classification report for classifier KNeighborsClassifier(n_neighbors=3):\n",
      "              precision    recall  f1-score   support\n",
      "\n",
      "         0.0       1.00      1.00      1.00       899\n",
      "         1.0       1.00      1.00      1.00      1037\n",
      "\n",
      "    accuracy                           1.00      1936\n",
      "   macro avg       1.00      1.00      1.00      1936\n",
      "weighted avg       1.00      1.00      1.00      1936\n",
      "\n",
      "\n"
     ]
    }
   ],
   "source": [
    "print(f\"Classification report for classifier {neigh_uni}:\\n\"\n",
    "f\"{metrics.classification_report(y_unidir_train, train_predicted_uni)}\\n\")"
   ]
  },
  {
   "cell_type": "code",
   "execution_count": 43,
   "metadata": {},
   "outputs": [
    {
     "name": "stdout",
     "output_type": "stream",
     "text": [
      "Confusion matrix:\n",
      "[[ 898    1]\n",
      " [   0 1037]]\n"
     ]
    },
    {
     "data": {
      "image/png": "[encoded data removed]",
      "text/plain": [
       "<Figure size 432x288 with 2 Axes>"
      ]
     },
     "metadata": {
      "needs_background": "light"
     },
     "output_type": "display_data"
    }
   ],
   "source": [
    "disp = metrics.plot_confusion_matrix(neigh_uni, X_unidir_train, y_unidir_train)\n",
    "disp.figure_.suptitle(\"Confusion Matrix\")\n",
    "print(f\"Confusion matrix:\\n{disp.confusion_matrix}\")\n",
    "plt.show()"
   ]
  },
  {
   "cell_type": "code",
   "execution_count": 44,
   "metadata": {},
   "outputs": [
    {
     "name": "stdout",
     "output_type": "stream",
     "text": [
      "Validation performance :\n",
      "Accuracy: 0.9979381443298969 , Misclassification error: 0.0020618556701030855\n"
     ]
    }
   ],
   "source": [
    "print('Validation performance :')\n",
    "acc = accuracy_score(y_unidir_val, neigh_uni.predict(X_unidir_val), normalize=True)\n",
    "misclass_err = 1 - acc\n",
    "print(\"Accuracy:\", acc, \", Misclassification error:\", misclass_err)"
   ]
  },
  {
   "cell_type": "code",
   "execution_count": 67,
   "metadata": {},
   "outputs": [
    {
     "name": "stdout",
     "output_type": "stream",
     "text": [
      "Classification report for classifier KNeighborsClassifier(n_neighbors=3):\n",
      "              precision    recall  f1-score   support\n",
      "\n",
      "         0.0       1.00      1.00      1.00       243\n",
      "         1.0       1.00      1.00      1.00       242\n",
      "\n",
      "    accuracy                           1.00       485\n",
      "   macro avg       1.00      1.00      1.00       485\n",
      "weighted avg       1.00      1.00      1.00       485\n",
      "\n",
      "\n"
     ]
    }
   ],
   "source": [
    "print(f\"Classification report for classifier {neigh_uni}:\\n\"\n",
    "f\"{metrics.classification_report(y_unidir_val, neigh_uni.predict(X_unidir_val))}\\n\")"
   ]
  },
  {
   "cell_type": "code",
   "execution_count": 68,
   "metadata": {},
   "outputs": [
    {
     "name": "stdout",
     "output_type": "stream",
     "text": [
      "Confusion matrix:\n",
      "[[243   0]\n",
      " [  1 241]]\n"
     ]
    },
    {
     "data": {
      "image/png": "[encoded data removed]",
      "text/plain": [
       "<Figure size 432x288 with 2 Axes>"
      ]
     },
     "metadata": {
      "needs_background": "light"
     },
     "output_type": "display_data"
    }
   ],
   "source": [
    "disp = metrics.plot_confusion_matrix(neigh_uni, X_unidir_val, y_unidir_val)\n",
    "disp.figure_.suptitle(\"Confusion Matrix\")\n",
    "print(f\"Confusion matrix:\\n{disp.confusion_matrix}\")\n",
    "\n",
    "plt.show()"
   ]
  },
  {
   "cell_type": "code",
   "execution_count": 45,
   "metadata": {},
   "outputs": [],
   "source": [
    "test_predicted_uni = neigh_uni.predict(X_test_unidir)#predicting test data "
   ]
  },
  {
   "cell_type": "code",
   "execution_count": 46,
   "metadata": {},
   "outputs": [
    {
     "name": "stdout",
     "output_type": "stream",
     "text": [
      "Test performance :\n",
      "Accuracy: 0.9980975226436164 , Misclassification error: 0.0019024773563836028\n"
     ]
    }
   ],
   "source": [
    "print('Test performance :')\n",
    "acc = accuracy_score(y_test_unidir, test_predicted_uni, normalize=True)\n",
    "misclass_err = 1 - acc\n",
    "print(\"Accuracy:\", acc, \", Misclassification error:\", misclass_err)"
   ]
  },
  {
   "cell_type": "code",
   "execution_count": 70,
   "metadata": {},
   "outputs": [
    {
     "name": "stdout",
     "output_type": "stream",
     "text": [
      " Testdata Classification report for classifier KNeighborsClassifier(n_neighbors=3):\n",
      "              precision    recall  f1-score   support\n",
      "\n",
      "         0.0       1.00      1.00      1.00     11287\n",
      "         1.0       1.00      1.00      1.00     12892\n",
      "\n",
      "    accuracy                           1.00     24179\n",
      "   macro avg       1.00      1.00      1.00     24179\n",
      "weighted avg       1.00      1.00      1.00     24179\n",
      "\n",
      "\n"
     ]
    }
   ],
   "source": [
    "print(f\" Testdata Classification report for classifier {neigh_uni}:\\n\"\n",
    "f\"{metrics.classification_report(y_test_unidir, test_predicted_uni)}\\n\")"
   ]
  },
  {
   "cell_type": "code",
   "execution_count": 71,
   "metadata": {},
   "outputs": [
    {
     "name": "stdout",
     "output_type": "stream",
     "text": [
      "Testdata Confusion matrix:\n",
      "[[11245    42]\n",
      " [    4 12888]]\n"
     ]
    },
    {
     "data": {
      "image/png": "[encoded data removed]",
      "text/plain": [
       "<Figure size 432x288 with 2 Axes>"
      ]
     },
     "metadata": {
      "needs_background": "light"
     },
     "output_type": "display_data"
    }
   ],
   "source": [
    "disp = metrics.plot_confusion_matrix(neigh_uni, X_test_unidir, y_test_unidir)\n",
    "disp.figure_.suptitle(\"Testdata Confusion Matrix\")\n",
    "print(f\"Testdata Confusion matrix:\\n{disp.confusion_matrix}\")\n",
    "\n",
    "plt.show()"
   ]
  },
  {
   "cell_type": "code",
   "execution_count": 72,
   "metadata": {},
   "outputs": [
    {
     "data": {
      "text/html": [
       "<div>\n",
       "<style scoped>\n",
       "    .dataframe tbody tr th:only-of-type {\n",
       "        vertical-align: middle;\n",
       "    }\n",
       "\n",
       "    .dataframe tbody tr th {\n",
       "        vertical-align: top;\n",
       "    }\n",
       "\n",
       "    .dataframe thead th {\n",
       "        text-align: right;\n",
       "    }\n",
       "</style>\n",
       "<table border=\"1\" class=\"dataframe\">\n",
       "  <thead>\n",
       "    <tr style=\"text-align: right;\">\n",
       "      <th>Predicted</th>\n",
       "      <th>0.0</th>\n",
       "      <th>1.0</th>\n",
       "      <th>All</th>\n",
       "    </tr>\n",
       "    <tr>\n",
       "      <th>Actual</th>\n",
       "      <th></th>\n",
       "      <th></th>\n",
       "      <th></th>\n",
       "    </tr>\n",
       "  </thead>\n",
       "  <tbody>\n",
       "    <tr>\n",
       "      <th>0.0</th>\n",
       "      <td>11245</td>\n",
       "      <td>42</td>\n",
       "      <td>11287</td>\n",
       "    </tr>\n",
       "    <tr>\n",
       "      <th>1.0</th>\n",
       "      <td>4</td>\n",
       "      <td>12888</td>\n",
       "      <td>12892</td>\n",
       "    </tr>\n",
       "    <tr>\n",
       "      <th>All</th>\n",
       "      <td>11249</td>\n",
       "      <td>12930</td>\n",
       "      <td>24179</td>\n",
       "    </tr>\n",
       "  </tbody>\n",
       "</table>\n",
       "</div>"
      ],
      "text/plain": [
       "Predicted    0.0    1.0    All\n",
       "Actual                        \n",
       "0.0        11245     42  11287\n",
       "1.0            4  12888  12892\n",
       "All        11249  12930  24179"
      ]
     },
     "execution_count": 72,
     "metadata": {},
     "output_type": "execute_result"
    }
   ],
   "source": [
    "#Get Performance by Class\n",
    "pd.crosstab(y_test_unidir, test_predicted_uni, margins=True, rownames=['Actual'], colnames=['Predicted'])"
   ]
  },
  {
   "cell_type": "markdown",
   "metadata": {},
   "source": []
  },
  {
   "cell_type": "markdown",
   "metadata": {},
   "source": [
    "**************"
   ]
  },
  {
   "cell_type": "markdown",
   "metadata": {},
   "source": [
    "***Decision Tree***"
   ]
  },
  {
   "cell_type": "markdown",
   "metadata": {},
   "source": [
    "**Bidir**"
   ]
  },
  {
   "cell_type": "code",
   "execution_count": 47,
   "metadata": {},
   "outputs": [
    {
     "data": {
      "text/plain": [
       "DecisionTreeClassifier(random_state=0)"
      ]
     },
     "execution_count": 47,
     "metadata": {},
     "output_type": "execute_result"
    }
   ],
   "source": [
    "DTclf = DecisionTreeClassifier(random_state=0)\n",
    "DTclf.fit(X_bidir_train, y_bidir_train)"
   ]
  },
  {
   "cell_type": "code",
   "execution_count": 48,
   "metadata": {},
   "outputs": [
    {
     "name": "stdout",
     "output_type": "stream",
     "text": [
      "Training performance :\n",
      "Accuracy: 1.0 , Misclassification error: 0.0\n"
     ]
    }
   ],
   "source": [
    "print('Training performance :')\n",
    "acc = accuracy_score(y_bidir_train, DTclf.predict(X_bidir_train), normalize=True)\n",
    "misclass_err = 1 - acc\n",
    "print(\"Accuracy:\", acc, \", Misclassification error:\", misclass_err)"
   ]
  },
  {
   "cell_type": "code",
   "execution_count": 75,
   "metadata": {},
   "outputs": [
    {
     "name": "stdout",
     "output_type": "stream",
     "text": [
      "Training data Classification report for classifier DecisionTreeClassifier(random_state=0):\n",
      "              precision    recall  f1-score   support\n",
      "\n",
      "         0.0       1.00      1.00      1.00      1454\n",
      "         1.0       1.00      1.00      1.00      1602\n",
      "\n",
      "    accuracy                           1.00      3056\n",
      "   macro avg       1.00      1.00      1.00      3056\n",
      "weighted avg       1.00      1.00      1.00      3056\n",
      "\n",
      "\n"
     ]
    }
   ],
   "source": [
    "print(f\"Training data Classification report for classifier {DTclf}:\\n\"\n",
    "f\"{metrics.classification_report(y_bidir_train, DTclf.predict(X_bidir_train))}\\n\")"
   ]
  },
  {
   "cell_type": "code",
   "execution_count": 76,
   "metadata": {},
   "outputs": [
    {
     "name": "stdout",
     "output_type": "stream",
     "text": [
      "Validation data Classification report for classifier DecisionTreeClassifier(random_state=0):\n",
      "              precision    recall  f1-score   support\n",
      "\n",
      "         0.0       1.00      1.00      1.00       387\n",
      "         1.0       1.00      1.00      1.00       377\n",
      "\n",
      "    accuracy                           1.00       764\n",
      "   macro avg       1.00      1.00      1.00       764\n",
      "weighted avg       1.00      1.00      1.00       764\n",
      "\n",
      "\n"
     ]
    }
   ],
   "source": [
    "print(f\"Validation data Classification report for classifier {DTclf}:\\n\"\n",
    "f\"{metrics.classification_report(y_bidir_val, DTclf.predict(X_bidir_val))}\\n\")"
   ]
  },
  {
   "cell_type": "code",
   "execution_count": 77,
   "metadata": {},
   "outputs": [
    {
     "name": "stdout",
     "output_type": "stream",
     "text": [
      "Confusion matrix:\n",
      "[[387   0]\n",
      " [  0 377]]\n"
     ]
    },
    {
     "data": {
      "image/png": "[encoded data removed]",
      "text/plain": [
       "<Figure size 432x288 with 2 Axes>"
      ]
     },
     "metadata": {
      "needs_background": "light"
     },
     "output_type": "display_data"
    }
   ],
   "source": [
    "disp = metrics.plot_confusion_matrix(DTclf, X_bidir_val, y_bidir_val)\n",
    "disp.figure_.suptitle(\"Confusion Matrix\")\n",
    "print(f\"Confusion matrix:\\n{disp.confusion_matrix}\")\n",
    "\n",
    "plt.show()"
   ]
  },
  {
   "cell_type": "code",
   "execution_count": 78,
   "metadata": {},
   "outputs": [
    {
     "data": {
      "image/png": "[encoded data removed]",
      "text/plain": [
       "<Figure size 1080x720 with 1 Axes>"
      ]
     },
     "metadata": {
      "needs_background": "light"
     },
     "output_type": "display_data"
    }
   ],
   "source": [
    "#visualizing decision tree\n",
    "fig = plt.figure(figsize=(15,10))\n",
    "_ = tree.plot_tree(DTclf, feature_names=X_training_bidir.columns, filled=True)"
   ]
  },
  {
   "cell_type": "code",
   "execution_count": 79,
   "metadata": {},
   "outputs": [],
   "source": [
    "DTy_pred = DTclf.predict(X_test_bidir) #predicting test data "
   ]
  },
  {
   "cell_type": "code",
   "execution_count": 80,
   "metadata": {},
   "outputs": [
    {
     "name": "stdout",
     "output_type": "stream",
     "text": [
      "Test accuracy: 1.0\n"
     ]
    }
   ],
   "source": [
    "print(\"Test accuracy:\", DTclf.score(X_test_bidir, y_test_bidir))"
   ]
  },
  {
   "cell_type": "code",
   "execution_count": 81,
   "metadata": {},
   "outputs": [
    {
     "name": "stdout",
     "output_type": "stream",
     "text": [
      "Testdata Classification report for classifier DecisionTreeClassifier(random_state=0):\n",
      "              precision    recall  f1-score   support\n",
      "\n",
      "         0.0       1.00      1.00      1.00     18179\n",
      "         1.0       1.00      1.00      1.00     20137\n",
      "\n",
      "    accuracy                           1.00     38316\n",
      "   macro avg       1.00      1.00      1.00     38316\n",
      "weighted avg       1.00      1.00      1.00     38316\n",
      "\n",
      "\n"
     ]
    }
   ],
   "source": [
    "print(f\"Testdata Classification report for classifier {DTclf}:\\n\"\n",
    "f\"{metrics.classification_report(y_test_bidir, DTy_pred)}\\n\")"
   ]
  },
  {
   "cell_type": "code",
   "execution_count": 82,
   "metadata": {},
   "outputs": [
    {
     "name": "stdout",
     "output_type": "stream",
     "text": [
      "Testdata Confusion matrix:\n",
      "[[18179     0]\n",
      " [    0 20137]]\n"
     ]
    },
    {
     "data": {
      "image/png": "[encoded data removed]",
      "text/plain": [
       "<Figure size 432x288 with 2 Axes>"
      ]
     },
     "metadata": {
      "needs_background": "light"
     },
     "output_type": "display_data"
    }
   ],
   "source": [
    "disp = metrics.plot_confusion_matrix(DTclf, X_test_bidir, y_test_bidir)\n",
    "disp.figure_.suptitle(\"Testdata Confusion Matrix\")\n",
    "print(f\"Testdata Confusion matrix:\\n{disp.confusion_matrix}\")\n",
    "\n",
    "plt.show()"
   ]
  },
  {
   "cell_type": "markdown",
   "metadata": {},
   "source": []
  },
  {
   "cell_type": "markdown",
   "metadata": {},
   "source": [
    "**Unidir**"
   ]
  },
  {
   "cell_type": "code",
   "execution_count": 83,
   "metadata": {},
   "outputs": [
    {
     "data": {
      "text/plain": [
       "DecisionTreeClassifier(random_state=0)"
      ]
     },
     "execution_count": 83,
     "metadata": {},
     "output_type": "execute_result"
    }
   ],
   "source": [
    "DTclf_uni = DecisionTreeClassifier(random_state=0)\n",
    "DTclf_uni.fit(X_unidir_train, y_unidir_train)"
   ]
  },
  {
   "cell_type": "code",
   "execution_count": 84,
   "metadata": {},
   "outputs": [
    {
     "name": "stdout",
     "output_type": "stream",
     "text": [
      "Training data Classification report for classifier DecisionTreeClassifier(random_state=0):\n",
      "              precision    recall  f1-score   support\n",
      "\n",
      "         0.0       1.00      1.00      1.00       899\n",
      "         1.0       1.00      1.00      1.00      1037\n",
      "\n",
      "    accuracy                           1.00      1936\n",
      "   macro avg       1.00      1.00      1.00      1936\n",
      "weighted avg       1.00      1.00      1.00      1936\n",
      "\n",
      "\n"
     ]
    }
   ],
   "source": [
    "print(f\"Training data Classification report for classifier {DTclf_uni}:\\n\"\n",
    "f\"{metrics.classification_report(y_unidir_train, DTclf_uni.predict(X_unidir_train))}\\n\")"
   ]
  },
  {
   "cell_type": "code",
   "execution_count": 85,
   "metadata": {},
   "outputs": [
    {
     "name": "stdout",
     "output_type": "stream",
     "text": [
      "Validation data Classification report for classifier DecisionTreeClassifier(random_state=0):\n",
      "              precision    recall  f1-score   support\n",
      "\n",
      "         0.0       1.00      1.00      1.00       243\n",
      "         1.0       1.00      1.00      1.00       242\n",
      "\n",
      "    accuracy                           1.00       485\n",
      "   macro avg       1.00      1.00      1.00       485\n",
      "weighted avg       1.00      1.00      1.00       485\n",
      "\n",
      "\n"
     ]
    }
   ],
   "source": [
    "print(f\"Validation data Classification report for classifier {DTclf_uni}:\\n\"\n",
    "f\"{metrics.classification_report(y_unidir_val, DTclf_uni.predict(X_unidir_val))}\\n\")"
   ]
  },
  {
   "cell_type": "code",
   "execution_count": 86,
   "metadata": {},
   "outputs": [
    {
     "name": "stdout",
     "output_type": "stream",
     "text": [
      "Confusion matrix:\n",
      "[[243   0]\n",
      " [  0 242]]\n"
     ]
    },
    {
     "data": {
      "image/png": "[encoded data removed]",
      "text/plain": [
       "<Figure size 432x288 with 2 Axes>"
      ]
     },
     "metadata": {
      "needs_background": "light"
     },
     "output_type": "display_data"
    }
   ],
   "source": [
    "disp = metrics.plot_confusion_matrix(DTclf_uni, X_unidir_val, y_unidir_val)\n",
    "disp.figure_.suptitle(\"Confusion Matrix\")\n",
    "print(f\"Confusion matrix:\\n{disp.confusion_matrix}\")\n",
    "\n",
    "plt.show()"
   ]
  },
  {
   "cell_type": "code",
   "execution_count": 87,
   "metadata": {},
   "outputs": [
    {
     "data": {
      "image/png": "[encoded data removed]",
      "text/plain": [
       "<Figure size 1080x720 with 1 Axes>"
      ]
     },
     "metadata": {
      "needs_background": "light"
     },
     "output_type": "display_data"
    }
   ],
   "source": [
    "#visualizing decision tree \n",
    "fig = plt.figure(figsize=(15,10))\n",
    "_ = tree.plot_tree(DTclf_uni, feature_names=X_training_unidir.columns, filled=True)"
   ]
  },
  {
   "cell_type": "code",
   "execution_count": 88,
   "metadata": {},
   "outputs": [],
   "source": [
    "DTy_pred_uni = DTclf_uni.predict(X_test_unidir) #predicting test data "
   ]
  },
  {
   "cell_type": "code",
   "execution_count": 89,
   "metadata": {},
   "outputs": [
    {
     "name": "stdout",
     "output_type": "stream",
     "text": [
      "Test accuracy: 0.9995450597626039\n"
     ]
    }
   ],
   "source": [
    "print(\"Test accuracy:\", DTclf_uni.score(X_test_unidir, y_test_unidir))"
   ]
  },
  {
   "cell_type": "code",
   "execution_count": 90,
   "metadata": {},
   "outputs": [
    {
     "name": "stdout",
     "output_type": "stream",
     "text": [
      "Testdata Classification report for classifier DecisionTreeClassifier(random_state=0):\n",
      "              precision    recall  f1-score   support\n",
      "\n",
      "         0.0       1.00      1.00      1.00     11287\n",
      "         1.0       1.00      1.00      1.00     12892\n",
      "\n",
      "    accuracy                           1.00     24179\n",
      "   macro avg       1.00      1.00      1.00     24179\n",
      "weighted avg       1.00      1.00      1.00     24179\n",
      "\n",
      "\n"
     ]
    }
   ],
   "source": [
    "print(f\"Testdata Classification report for classifier {DTclf_uni}:\\n\"\n",
    "f\"{metrics.classification_report(y_test_unidir, DTy_pred_uni)}\\n\")"
   ]
  },
  {
   "cell_type": "code",
   "execution_count": 91,
   "metadata": {},
   "outputs": [
    {
     "name": "stdout",
     "output_type": "stream",
     "text": [
      "Testdata Confusion matrix:\n",
      "[[11287     0]\n",
      " [   11 12881]]\n"
     ]
    },
    {
     "data": {
      "image/png": "[encoded data removed]",
      "text/plain": [
       "<Figure size 432x288 with 2 Axes>"
      ]
     },
     "metadata": {
      "needs_background": "light"
     },
     "output_type": "display_data"
    }
   ],
   "source": [
    "disp = metrics.plot_confusion_matrix(DTclf_uni, X_test_unidir, y_test_unidir)\n",
    "disp.figure_.suptitle(\"Testdata Confusion Matrix\")\n",
    "print(f\"Testdata Confusion matrix:\\n{disp.confusion_matrix}\")\n",
    "\n",
    "plt.show()"
   ]
  },
  {
   "cell_type": "markdown",
   "metadata": {},
   "source": []
  },
  {
   "cell_type": "markdown",
   "metadata": {},
   "source": [
    "*********************"
   ]
  },
  {
   "cell_type": "markdown",
   "metadata": {},
   "source": [
    "***Random Forest***"
   ]
  },
  {
   "cell_type": "markdown",
   "metadata": {},
   "source": [
    "**Bidir**"
   ]
  },
  {
   "cell_type": "code",
   "execution_count": 59,
   "metadata": {},
   "outputs": [
    {
     "data": {
      "text/plain": [
       "RandomForestClassifier(max_features=7, random_state=1)"
      ]
     },
     "execution_count": 59,
     "metadata": {},
     "output_type": "execute_result"
    }
   ],
   "source": [
    "RFclf = RandomForestClassifier(max_features=7, random_state=1)   #m = sqrt(p); m = sqrt(54) ~ 7\n",
    "RFclf.fit(X_bidir_train, y_bidir_train)"
   ]
  },
  {
   "cell_type": "code",
   "execution_count": 60,
   "metadata": {},
   "outputs": [
    {
     "name": "stdout",
     "output_type": "stream",
     "text": [
      "Training data Classification report for classifier RandomForestClassifier(max_features=7, random_state=1):\n",
      "              precision    recall  f1-score   support\n",
      "\n",
      "         0.0       1.00      1.00      1.00      1454\n",
      "         1.0       1.00      1.00      1.00      1602\n",
      "\n",
      "    accuracy                           1.00      3056\n",
      "   macro avg       1.00      1.00      1.00      3056\n",
      "weighted avg       1.00      1.00      1.00      3056\n",
      "\n",
      "\n"
     ]
    }
   ],
   "source": [
    "print(f\"Training data Classification report for classifier {RFclf}:\\n\"\n",
    "f\"{metrics.classification_report(y_bidir_train, RFclf.predict(X_bidir_train))}\\n\")"
   ]
  },
  {
   "cell_type": "code",
   "execution_count": 61,
   "metadata": {},
   "outputs": [
    {
     "name": "stdout",
     "output_type": "stream",
     "text": [
      "Validation data Classification report for classifier RandomForestClassifier(max_features=7, random_state=1):\n",
      "              precision    recall  f1-score   support\n",
      "\n",
      "         0.0       1.00      1.00      1.00       387\n",
      "         1.0       1.00      1.00      1.00       377\n",
      "\n",
      "    accuracy                           1.00       764\n",
      "   macro avg       1.00      1.00      1.00       764\n",
      "weighted avg       1.00      1.00      1.00       764\n",
      "\n",
      "\n"
     ]
    }
   ],
   "source": [
    "print(f\"Validation data Classification report for classifier {RFclf}:\\n\"\n",
    "f\"{metrics.classification_report(y_bidir_val, RFclf.predict(X_bidir_val))}\\n\")"
   ]
  },
  {
   "cell_type": "code",
   "execution_count": 62,
   "metadata": {},
   "outputs": [
    {
     "name": "stdout",
     "output_type": "stream",
     "text": [
      "Confusion matrix:\n",
      "[[387   0]\n",
      " [  0 377]]\n"
     ]
    },
    {
     "data": {
      "image/png": "[encoded data removed]",
      "text/plain": [
       "<Figure size 432x288 with 2 Axes>"
      ]
     },
     "metadata": {
      "needs_background": "light"
     },
     "output_type": "display_data"
    }
   ],
   "source": [
    "disp = metrics.plot_confusion_matrix(RFclf, X_bidir_val, y_bidir_val)\n",
    "disp.figure_.suptitle(\"Confusion Matrix\")\n",
    "print(f\"Confusion matrix:\\n{disp.confusion_matrix}\")\n",
    "\n",
    "plt.show()"
   ]
  },
  {
   "cell_type": "code",
   "execution_count": 63,
   "metadata": {},
   "outputs": [],
   "source": [
    "RFy_pred = RFclf.predict(X_test_bidir)#predicting test data "
   ]
  },
  {
   "cell_type": "code",
   "execution_count": 64,
   "metadata": {},
   "outputs": [
    {
     "name": "stdout",
     "output_type": "stream",
     "text": [
      "Testdata Classification report for classifier RandomForestClassifier(max_features=7, random_state=1):\n",
      "              precision    recall  f1-score   support\n",
      "\n",
      "         0.0       1.00      1.00      1.00     18179\n",
      "         1.0       1.00      1.00      1.00     20137\n",
      "\n",
      "    accuracy                           1.00     38316\n",
      "   macro avg       1.00      1.00      1.00     38316\n",
      "weighted avg       1.00      1.00      1.00     38316\n",
      "\n",
      "\n"
     ]
    }
   ],
   "source": [
    "print(f\"Testdata Classification report for classifier {RFclf}:\\n\"\n",
    "f\"{metrics.classification_report(y_test_bidir, RFy_pred)}\\n\")"
   ]
  },
  {
   "cell_type": "code",
   "execution_count": 65,
   "metadata": {},
   "outputs": [
    {
     "name": "stdout",
     "output_type": "stream",
     "text": [
      "Testdata Confusion matrix:\n",
      "[[18179     0]\n",
      " [    0 20137]]\n"
     ]
    },
    {
     "data": {
      "image/png": "[encoded data removed]",
      "text/plain": [
       "<Figure size 432x288 with 2 Axes>"
      ]
     },
     "metadata": {
      "needs_background": "light"
     },
     "output_type": "display_data"
    }
   ],
   "source": [
    "disp = metrics.plot_confusion_matrix(RFclf, X_test_bidir, y_test_bidir)\n",
    "disp.figure_.suptitle(\"Testdata Confusion Matrix\")\n",
    "print(f\"Testdata Confusion matrix:\\n{disp.confusion_matrix}\")\n",
    "\n",
    "plt.show()"
   ]
  },
  {
   "cell_type": "code",
   "execution_count": 69,
   "metadata": {},
   "outputs": [
    {
     "data": {
      "image/png": "[encoded data removed]",
      "text/plain": [
       "<Figure size 432x288 with 1 Axes>"
      ]
     },
     "metadata": {
      "needs_background": "light"
     },
     "output_type": "display_data"
    }
   ],
   "source": [
    "#Variable importance \n",
    "feature_importance = RFclf.feature_importances_*100\n",
    "Importance = pd.DataFrame({'Importance':feature_importance[0:27]}, index=X_bidir_train.columns[0:27])\n",
    "Importance.sort_values('Importance', axis=0, ascending=True).plot(kind='barh', color='r', )\n",
    "plt.xlabel('Variable Importance')\n",
    "plt.gca().legend_ = None"
   ]
  },
  {
   "cell_type": "code",
   "execution_count": 70,
   "metadata": {},
   "outputs": [
    {
     "data": {
      "image/png": "[encoded data removed]",
      "text/plain": [
       "<Figure size 432x288 with 1 Axes>"
      ]
     },
     "metadata": {
      "needs_background": "light"
     },
     "output_type": "display_data"
    }
   ],
   "source": [
    "#Variable importance \n",
    "feature_importance = RFclf.feature_importances_*100\n",
    "Importance = pd.DataFrame({'Importance':feature_importance[27:54]}, index=X_bidir_train.columns[27:54])\n",
    "Importance.sort_values('Importance', axis=0, ascending=True).plot(kind='barh', color='r', )\n",
    "plt.xlabel('Variable Importance')\n",
    "plt.gca().legend_ = None"
   ]
  },
  {
   "cell_type": "markdown",
   "metadata": {},
   "source": []
  },
  {
   "cell_type": "markdown",
   "metadata": {},
   "source": [
    "**Unidir**"
   ]
  },
  {
   "cell_type": "code",
   "execution_count": 42,
   "metadata": {},
   "outputs": [
    {
     "data": {
      "text/plain": [
       "RandomForestClassifier(max_features=4, random_state=1)"
      ]
     },
     "execution_count": 42,
     "metadata": {},
     "output_type": "execute_result"
    }
   ],
   "source": [
    "RFclf_uni = RandomForestClassifier(max_features=4, random_state=1)   #m = sqrt(p); m = sqrt(18) ~ 4\n",
    "RFclf_uni.fit(X_unidir_train, y_unidir_train)"
   ]
  },
  {
   "cell_type": "code",
   "execution_count": 43,
   "metadata": {},
   "outputs": [
    {
     "name": "stdout",
     "output_type": "stream",
     "text": [
      "Training data Classification report for classifier RandomForestClassifier(max_features=4, random_state=1):\n",
      "              precision    recall  f1-score   support\n",
      "\n",
      "         0.0       1.00      1.00      1.00       899\n",
      "         1.0       1.00      1.00      1.00      1037\n",
      "\n",
      "    accuracy                           1.00      1936\n",
      "   macro avg       1.00      1.00      1.00      1936\n",
      "weighted avg       1.00      1.00      1.00      1936\n",
      "\n",
      "\n"
     ]
    }
   ],
   "source": [
    "print(f\"Training data Classification report for classifier {RFclf_uni}:\\n\"\n",
    "f\"{metrics.classification_report(y_unidir_train, RFclf_uni.predict(X_unidir_train))}\\n\")"
   ]
  },
  {
   "cell_type": "code",
   "execution_count": 45,
   "metadata": {},
   "outputs": [
    {
     "name": "stdout",
     "output_type": "stream",
     "text": [
      "Validation data Classification report for classifier RandomForestClassifier(max_features=4, random_state=1):\n",
      "              precision    recall  f1-score   support\n",
      "\n",
      "         0.0       1.00      1.00      1.00       243\n",
      "         1.0       1.00      1.00      1.00       242\n",
      "\n",
      "    accuracy                           1.00       485\n",
      "   macro avg       1.00      1.00      1.00       485\n",
      "weighted avg       1.00      1.00      1.00       485\n",
      "\n",
      "\n"
     ]
    }
   ],
   "source": [
    "print(f\"Validation data Classification report for classifier {RFclf_uni}:\\n\"\n",
    "f\"{metrics.classification_report(y_unidir_val, RFclf_uni.predict(X_unidir_val))}\\n\")"
   ]
  },
  {
   "cell_type": "code",
   "execution_count": 46,
   "metadata": {},
   "outputs": [
    {
     "name": "stdout",
     "output_type": "stream",
     "text": [
      "Confusion matrix:\n",
      "[[243   0]\n",
      " [  0 242]]\n"
     ]
    },
    {
     "data": {
      "image/png": "[encoded data removed]",
      "text/plain": [
       "<Figure size 432x288 with 2 Axes>"
      ]
     },
     "metadata": {
      "needs_background": "light"
     },
     "output_type": "display_data"
    }
   ],
   "source": [
    "disp = metrics.plot_confusion_matrix(RFclf_uni, X_unidir_val, y_unidir_val)\n",
    "disp.figure_.suptitle(\"Confusion Matrix\")\n",
    "print(f\"Confusion matrix:\\n{disp.confusion_matrix}\")\n",
    "\n",
    "plt.show()"
   ]
  },
  {
   "cell_type": "code",
   "execution_count": 47,
   "metadata": {},
   "outputs": [],
   "source": [
    "RFy_pred_uni = RFclf_uni.predict(X_test_unidir)#predicting test data "
   ]
  },
  {
   "cell_type": "code",
   "execution_count": 48,
   "metadata": {},
   "outputs": [
    {
     "name": "stdout",
     "output_type": "stream",
     "text": [
      "Testdata Classification report for classifier RandomForestClassifier(max_features=4, random_state=1):\n",
      "              precision    recall  f1-score   support\n",
      "\n",
      "         0.0       1.00      1.00      1.00     11287\n",
      "         1.0       1.00      1.00      1.00     12892\n",
      "\n",
      "    accuracy                           1.00     24179\n",
      "   macro avg       1.00      1.00      1.00     24179\n",
      "weighted avg       1.00      1.00      1.00     24179\n",
      "\n",
      "\n"
     ]
    }
   ],
   "source": [
    "print(f\"Testdata Classification report for classifier {RFclf_uni}:\\n\"\n",
    "f\"{metrics.classification_report(y_test_unidir, RFy_pred_uni)}\\n\")"
   ]
  },
  {
   "cell_type": "code",
   "execution_count": 49,
   "metadata": {},
   "outputs": [
    {
     "name": "stdout",
     "output_type": "stream",
     "text": [
      "Testdata Confusion matrix:\n",
      "[[11282     5]\n",
      " [    0 12892]]\n"
     ]
    },
    {
     "data": {
      "image/png": "[encoded data removed]",
      "text/plain": [
       "<Figure size 432x288 with 2 Axes>"
      ]
     },
     "metadata": {
      "needs_background": "light"
     },
     "output_type": "display_data"
    }
   ],
   "source": [
    "disp = metrics.plot_confusion_matrix(RFclf_uni, X_test_unidir, y_test_unidir)\n",
    "disp.figure_.suptitle(\"Testdata Confusion Matrix\")\n",
    "print(f\"Testdata Confusion matrix:\\n{disp.confusion_matrix}\")\n",
    "\n",
    "plt.show()"
   ]
  },
  {
   "cell_type": "code",
   "execution_count": 50,
   "metadata": {},
   "outputs": [
    {
     "data": {
      "image/png": "[encoded data removed]",
      "text/plain": [
       "<Figure size 432x288 with 1 Axes>"
      ]
     },
     "metadata": {
      "needs_background": "light"
     },
     "output_type": "display_data"
    }
   ],
   "source": [
    "#Variable importance \n",
    "Importance = pd.DataFrame({'Importance':RFclf_uni.feature_importances_*100}, index=X_unidir_train.columns)\n",
    "Importance.sort_values('Importance', axis=0, ascending=True).plot(kind='barh', color='r', )\n",
    "plt.xlabel('Variable Importance')\n",
    "plt.gca().legend_ = None"
   ]
  },
  {
   "cell_type": "markdown",
   "metadata": {},
   "source": []
  },
  {
   "cell_type": "markdown",
   "metadata": {},
   "source": [
    "*****************"
   ]
  },
  {
   "cell_type": "markdown",
   "metadata": {},
   "source": [
    "***SVM***"
   ]
  },
  {
   "cell_type": "markdown",
   "metadata": {},
   "source": [
    "**Bidir**"
   ]
  },
  {
   "cell_type": "code",
   "execution_count": 18,
   "metadata": {},
   "outputs": [],
   "source": [
    "svc = svm.SVC(kernel='poly', C=1, gamma='auto').fit(X_bidir_train, y_bidir_train)"
   ]
  },
  {
   "cell_type": "code",
   "execution_count": 19,
   "metadata": {},
   "outputs": [
    {
     "name": "stdout",
     "output_type": "stream",
     "text": [
      "Training performance :\n",
      "Accuracy: 1.0 , Misclassification error: 0.0\n"
     ]
    }
   ],
   "source": [
    "print('Training performance :')\n",
    "acc = accuracy_score(y_bidir_train,svc.predict(X_bidir_train), normalize=True)\n",
    "misclass_err = 1 - acc\n",
    "print(\"Accuracy:\", acc, \", Misclassification error:\", misclass_err)"
   ]
  },
  {
   "cell_type": "code",
   "execution_count": 20,
   "metadata": {},
   "outputs": [
    {
     "name": "stdout",
     "output_type": "stream",
     "text": [
      "Training data Classification report for classifier SVC(C=1, gamma='auto', kernel='poly'):\n",
      "              precision    recall  f1-score   support\n",
      "\n",
      "         0.0       1.00      1.00      1.00      1454\n",
      "         1.0       1.00      1.00      1.00      1602\n",
      "\n",
      "    accuracy                           1.00      3056\n",
      "   macro avg       1.00      1.00      1.00      3056\n",
      "weighted avg       1.00      1.00      1.00      3056\n",
      "\n",
      "\n"
     ]
    }
   ],
   "source": [
    "print(f\"Training data Classification report for classifier {svc}:\\n\"\n",
    "f\"{metrics.classification_report(y_bidir_train, svc.predict(X_bidir_train))}\\n\")"
   ]
  },
  {
   "cell_type": "code",
   "execution_count": 21,
   "metadata": {},
   "outputs": [],
   "source": [
    "ypred = svc.predict(X_bidir_val)#predicting validation data "
   ]
  },
  {
   "cell_type": "code",
   "execution_count": 22,
   "metadata": {},
   "outputs": [
    {
     "name": "stdout",
     "output_type": "stream",
     "text": [
      "Validation performance :\n",
      "Accuracy: 1.0 , Misclassification error: 0.0\n"
     ]
    }
   ],
   "source": [
    "print('Validation performance :')\n",
    "acc = accuracy_score(y_bidir_val,ypred, normalize=True)\n",
    "misclass_err = 1 - acc\n",
    "print(\"Accuracy:\", acc, \", Misclassification error:\", misclass_err)"
   ]
  },
  {
   "cell_type": "code",
   "execution_count": 23,
   "metadata": {},
   "outputs": [
    {
     "name": "stdout",
     "output_type": "stream",
     "text": [
      "Validation data Classification report for classifier SVC(C=1, gamma='auto', kernel='poly'):\n",
      "              precision    recall  f1-score   support\n",
      "\n",
      "         0.0       1.00      1.00      1.00       387\n",
      "         1.0       1.00      1.00      1.00       377\n",
      "\n",
      "    accuracy                           1.00       764\n",
      "   macro avg       1.00      1.00      1.00       764\n",
      "weighted avg       1.00      1.00      1.00       764\n",
      "\n",
      "\n"
     ]
    }
   ],
   "source": [
    "print(f\"Validation data Classification report for classifier {svc}:\\n\"\n",
    "f\"{metrics.classification_report(y_bidir_val, ypred)}\\n\")"
   ]
  },
  {
   "cell_type": "code",
   "execution_count": 24,
   "metadata": {},
   "outputs": [
    {
     "name": "stdout",
     "output_type": "stream",
     "text": [
      "Validation Confusion matrix:\n",
      "[[387   0]\n",
      " [  0 377]]\n"
     ]
    },
    {
     "data": {
      "image/png": "[encoded data removed]",
      "text/plain": [
       "<Figure size 432x288 with 2 Axes>"
      ]
     },
     "metadata": {
      "needs_background": "light"
     },
     "output_type": "display_data"
    }
   ],
   "source": [
    "disp = metrics.plot_confusion_matrix(svc, X_bidir_val, y_bidir_val)\n",
    "disp.figure_.suptitle(\"Validation Confusion Matrix\")\n",
    "print(f\"Validation Confusion matrix:\\n{disp.confusion_matrix}\")\n",
    "plt.show()"
   ]
  },
  {
   "cell_type": "code",
   "execution_count": 25,
   "metadata": {},
   "outputs": [],
   "source": [
    "SVMy_pred = svc.predict(X_test_bidir)#predicting test data "
   ]
  },
  {
   "cell_type": "code",
   "execution_count": 26,
   "metadata": {},
   "outputs": [
    {
     "name": "stdout",
     "output_type": "stream",
     "text": [
      "Test performance :\n",
      "Accuracy: 0.9986167658419459 , Misclassification error: 0.0013832341580540808\n"
     ]
    }
   ],
   "source": [
    "print('Test performance :')\n",
    "acc = accuracy_score(y_test_bidir,SVMy_pred, normalize=True)\n",
    "misclass_err = 1 - acc\n",
    "print(\"Accuracy:\", acc, \", Misclassification error:\", misclass_err)"
   ]
  },
  {
   "cell_type": "code",
   "execution_count": 27,
   "metadata": {},
   "outputs": [
    {
     "name": "stdout",
     "output_type": "stream",
     "text": [
      "Testdata Classification report for classifier SVC(C=1, gamma='auto', kernel='poly'):\n",
      "              precision    recall  f1-score   support\n",
      "\n",
      "         0.0       1.00      1.00      1.00     18179\n",
      "         1.0       1.00      1.00      1.00     20137\n",
      "\n",
      "    accuracy                           1.00     38316\n",
      "   macro avg       1.00      1.00      1.00     38316\n",
      "weighted avg       1.00      1.00      1.00     38316\n",
      "\n",
      "\n"
     ]
    }
   ],
   "source": [
    "print(f\"Testdata Classification report for classifier {svc}:\\n\"\n",
    "f\"{metrics.classification_report(y_test_bidir, SVMy_pred)}\\n\")"
   ]
  },
  {
   "cell_type": "code",
   "execution_count": 28,
   "metadata": {},
   "outputs": [
    {
     "name": "stdout",
     "output_type": "stream",
     "text": [
      "Testdata Confusion matrix:\n",
      "[[18135    44]\n",
      " [    9 20128]]\n"
     ]
    },
    {
     "data": {
      "image/png": "[encoded data removed]",
      "text/plain": [
       "<Figure size 432x288 with 2 Axes>"
      ]
     },
     "metadata": {
      "needs_background": "light"
     },
     "output_type": "display_data"
    }
   ],
   "source": [
    "disp = metrics.plot_confusion_matrix(svc, X_test_bidir, y_test_bidir)\n",
    "disp.figure_.suptitle(\"Testdata Confusion Matrix\")\n",
    "print(f\"Testdata Confusion matrix:\\n{disp.confusion_matrix}\")\n",
    "\n",
    "plt.show()"
   ]
  },
  {
   "cell_type": "code",
   "execution_count": 29,
   "metadata": {},
   "outputs": [
    {
     "data": {
      "text/html": [
       "<div>\n",
       "<style scoped>\n",
       "    .dataframe tbody tr th:only-of-type {\n",
       "        vertical-align: middle;\n",
       "    }\n",
       "\n",
       "    .dataframe tbody tr th {\n",
       "        vertical-align: top;\n",
       "    }\n",
       "\n",
       "    .dataframe thead th {\n",
       "        text-align: right;\n",
       "    }\n",
       "</style>\n",
       "<table border=\"1\" class=\"dataframe\">\n",
       "  <thead>\n",
       "    <tr style=\"text-align: right;\">\n",
       "      <th>Predicted</th>\n",
       "      <th>0.0</th>\n",
       "      <th>1.0</th>\n",
       "      <th>All</th>\n",
       "    </tr>\n",
       "    <tr>\n",
       "      <th>Actual</th>\n",
       "      <th></th>\n",
       "      <th></th>\n",
       "      <th></th>\n",
       "    </tr>\n",
       "  </thead>\n",
       "  <tbody>\n",
       "    <tr>\n",
       "      <th>0.0</th>\n",
       "      <td>18135</td>\n",
       "      <td>44</td>\n",
       "      <td>18179</td>\n",
       "    </tr>\n",
       "    <tr>\n",
       "      <th>1.0</th>\n",
       "      <td>9</td>\n",
       "      <td>20128</td>\n",
       "      <td>20137</td>\n",
       "    </tr>\n",
       "    <tr>\n",
       "      <th>All</th>\n",
       "      <td>18144</td>\n",
       "      <td>20172</td>\n",
       "      <td>38316</td>\n",
       "    </tr>\n",
       "  </tbody>\n",
       "</table>\n",
       "</div>"
      ],
      "text/plain": [
       "Predicted    0.0    1.0    All\n",
       "Actual                        \n",
       "0.0        18135     44  18179\n",
       "1.0            9  20128  20137\n",
       "All        18144  20172  38316"
      ]
     },
     "execution_count": 29,
     "metadata": {},
     "output_type": "execute_result"
    }
   ],
   "source": [
    "pd.crosstab(y_test_bidir, SVMy_pred, margins=True, rownames=['Actual'], colnames=['Predicted'])"
   ]
  },
  {
   "cell_type": "markdown",
   "metadata": {},
   "source": []
  },
  {
   "cell_type": "markdown",
   "metadata": {},
   "source": [
    "**Unidir**"
   ]
  },
  {
   "cell_type": "code",
   "execution_count": 30,
   "metadata": {},
   "outputs": [],
   "source": [
    "svc_uni = svm.SVC(kernel='poly', C=1, gamma='auto').fit(X_unidir_train, y_unidir_train)"
   ]
  },
  {
   "cell_type": "code",
   "execution_count": 31,
   "metadata": {},
   "outputs": [
    {
     "name": "stdout",
     "output_type": "stream",
     "text": [
      "Training performance :\n",
      "Accuracy: 1.0 , Misclassification error: 0.0\n"
     ]
    }
   ],
   "source": [
    "print('Training performance :')\n",
    "acc = accuracy_score(y_unidir_train,svc_uni.predict(X_unidir_train), normalize=True)\n",
    "misclass_err = 1 - acc\n",
    "print(\"Accuracy:\", acc, \", Misclassification error:\", misclass_err)"
   ]
  },
  {
   "cell_type": "code",
   "execution_count": 32,
   "metadata": {},
   "outputs": [
    {
     "name": "stdout",
     "output_type": "stream",
     "text": [
      "Training data Classification report for classifier SVC(C=1, gamma='auto', kernel='poly'):\n",
      "              precision    recall  f1-score   support\n",
      "\n",
      "         0.0       1.00      1.00      1.00       899\n",
      "         1.0       1.00      1.00      1.00      1037\n",
      "\n",
      "    accuracy                           1.00      1936\n",
      "   macro avg       1.00      1.00      1.00      1936\n",
      "weighted avg       1.00      1.00      1.00      1936\n",
      "\n",
      "\n"
     ]
    }
   ],
   "source": [
    "print(f\"Training data Classification report for classifier {svc_uni}:\\n\"\n",
    "f\"{metrics.classification_report(y_unidir_train, svc_uni.predict(X_unidir_train))}\\n\")"
   ]
  },
  {
   "cell_type": "code",
   "execution_count": 33,
   "metadata": {},
   "outputs": [],
   "source": [
    "ypred_uni = svc_uni.predict(X_unidir_val)#predicting validation data "
   ]
  },
  {
   "cell_type": "code",
   "execution_count": 34,
   "metadata": {},
   "outputs": [
    {
     "name": "stdout",
     "output_type": "stream",
     "text": [
      "Training performance :\n",
      "Accuracy: 0.9979381443298969 , Misclassification error: 0.0020618556701030855\n"
     ]
    }
   ],
   "source": [
    "print('Training performance :')\n",
    "acc = accuracy_score(y_unidir_val,ypred_uni, normalize=True)\n",
    "misclass_err = 1 - acc\n",
    "print(\"Accuracy:\", acc, \", Misclassification error:\", misclass_err)"
   ]
  },
  {
   "cell_type": "code",
   "execution_count": 35,
   "metadata": {},
   "outputs": [
    {
     "name": "stdout",
     "output_type": "stream",
     "text": [
      "Validation data Classification report for classifier SVC(C=1, gamma='auto', kernel='poly'):\n",
      "              precision    recall  f1-score   support\n",
      "\n",
      "         0.0       1.00      1.00      1.00       243\n",
      "         1.0       1.00      1.00      1.00       242\n",
      "\n",
      "    accuracy                           1.00       485\n",
      "   macro avg       1.00      1.00      1.00       485\n",
      "weighted avg       1.00      1.00      1.00       485\n",
      "\n",
      "\n"
     ]
    }
   ],
   "source": [
    "print(f\"Validation data Classification report for classifier {svc_uni}:\\n\"\n",
    "f\"{metrics.classification_report(y_unidir_val, ypred_uni)}\\n\")"
   ]
  },
  {
   "cell_type": "code",
   "execution_count": 36,
   "metadata": {},
   "outputs": [
    {
     "name": "stdout",
     "output_type": "stream",
     "text": [
      "Validation Confusion matrix:\n",
      "[[243   0]\n",
      " [  1 241]]\n"
     ]
    },
    {
     "data": {
      "image/png": "[encoded data removed]",
      "text/plain": [
       "<Figure size 432x288 with 2 Axes>"
      ]
     },
     "metadata": {
      "needs_background": "light"
     },
     "output_type": "display_data"
    }
   ],
   "source": [
    "disp = metrics.plot_confusion_matrix(svc_uni, X_unidir_val, y_unidir_val)\n",
    "disp.figure_.suptitle(\"Validation Confusion Matrix\")\n",
    "print(f\"Validation Confusion matrix:\\n{disp.confusion_matrix}\")\n",
    "\n",
    "plt.show()"
   ]
  },
  {
   "cell_type": "code",
   "execution_count": 37,
   "metadata": {},
   "outputs": [],
   "source": [
    "SVMy_pred_uni = svc_uni.predict(X_test_unidir)#predicting test data "
   ]
  },
  {
   "cell_type": "code",
   "execution_count": 38,
   "metadata": {},
   "outputs": [
    {
     "name": "stdout",
     "output_type": "stream",
     "text": [
      "Test performance :\n",
      "Accuracy: 0.9988833285082096 , Misclassification error: 0.0011166714917903997\n"
     ]
    }
   ],
   "source": [
    "print('Test performance :')\n",
    "acc = accuracy_score(y_test_unidir,SVMy_pred_uni, normalize=True)\n",
    "misclass_err = 1 - acc\n",
    "print(\"Accuracy:\", acc, \", Misclassification error:\", misclass_err)"
   ]
  },
  {
   "cell_type": "code",
   "execution_count": 39,
   "metadata": {},
   "outputs": [
    {
     "name": "stdout",
     "output_type": "stream",
     "text": [
      "Testdata Classification report for classifier SVC(C=1, gamma='auto', kernel='poly'):\n",
      "              precision    recall  f1-score   support\n",
      "\n",
      "         0.0       1.00      1.00      1.00     11287\n",
      "         1.0       1.00      1.00      1.00     12892\n",
      "\n",
      "    accuracy                           1.00     24179\n",
      "   macro avg       1.00      1.00      1.00     24179\n",
      "weighted avg       1.00      1.00      1.00     24179\n",
      "\n",
      "\n"
     ]
    }
   ],
   "source": [
    "print(f\"Testdata Classification report for classifier {svc_uni}:\\n\"\n",
    "f\"{metrics.classification_report(y_test_unidir, SVMy_pred_uni)}\\n\")"
   ]
  },
  {
   "cell_type": "code",
   "execution_count": 40,
   "metadata": {},
   "outputs": [
    {
     "name": "stdout",
     "output_type": "stream",
     "text": [
      "Testdata Confusion matrix:\n",
      "[[11286     1]\n",
      " [   26 12866]]\n"
     ]
    },
    {
     "data": {
      "image/png": "[encoded data removed]",
      "text/plain": [
       "<Figure size 432x288 with 2 Axes>"
      ]
     },
     "metadata": {
      "needs_background": "light"
     },
     "output_type": "display_data"
    }
   ],
   "source": [
    "disp = metrics.plot_confusion_matrix(svc_uni, X_test_unidir, y_test_unidir)\n",
    "disp.figure_.suptitle(\"Testdata Confusion Matrix\")\n",
    "print(f\"Testdata Confusion matrix:\\n{disp.confusion_matrix}\")\n",
    "\n",
    "plt.show()"
   ]
  },
  {
   "cell_type": "code",
   "execution_count": 41,
   "metadata": {},
   "outputs": [
    {
     "data": {
      "text/html": [
       "<div>\n",
       "<style scoped>\n",
       "    .dataframe tbody tr th:only-of-type {\n",
       "        vertical-align: middle;\n",
       "    }\n",
       "\n",
       "    .dataframe tbody tr th {\n",
       "        vertical-align: top;\n",
       "    }\n",
       "\n",
       "    .dataframe thead th {\n",
       "        text-align: right;\n",
       "    }\n",
       "</style>\n",
       "<table border=\"1\" class=\"dataframe\">\n",
       "  <thead>\n",
       "    <tr style=\"text-align: right;\">\n",
       "      <th>Predicted</th>\n",
       "      <th>0.0</th>\n",
       "      <th>1.0</th>\n",
       "      <th>All</th>\n",
       "    </tr>\n",
       "    <tr>\n",
       "      <th>Actual</th>\n",
       "      <th></th>\n",
       "      <th></th>\n",
       "      <th></th>\n",
       "    </tr>\n",
       "  </thead>\n",
       "  <tbody>\n",
       "    <tr>\n",
       "      <th>0.0</th>\n",
       "      <td>11286</td>\n",
       "      <td>1</td>\n",
       "      <td>11287</td>\n",
       "    </tr>\n",
       "    <tr>\n",
       "      <th>1.0</th>\n",
       "      <td>26</td>\n",
       "      <td>12866</td>\n",
       "      <td>12892</td>\n",
       "    </tr>\n",
       "    <tr>\n",
       "      <th>All</th>\n",
       "      <td>11312</td>\n",
       "      <td>12867</td>\n",
       "      <td>24179</td>\n",
       "    </tr>\n",
       "  </tbody>\n",
       "</table>\n",
       "</div>"
      ],
      "text/plain": [
       "Predicted    0.0    1.0    All\n",
       "Actual                        \n",
       "0.0        11286      1  11287\n",
       "1.0           26  12866  12892\n",
       "All        11312  12867  24179"
      ]
     },
     "execution_count": 41,
     "metadata": {},
     "output_type": "execute_result"
    }
   ],
   "source": [
    "pd.crosstab(y_test_unidir, SVMy_pred_uni, margins=True, rownames=['Actual'], colnames=['Predicted'])"
   ]
  },
  {
   "cell_type": "markdown",
   "metadata": {},
   "source": []
  },
  {
   "cell_type": "markdown",
   "metadata": {},
   "source": [
    "#### Boosting "
   ]
  },
  {
   "cell_type": "markdown",
   "metadata": {},
   "source": [
    "#### Bidirectional "
   ]
  },
  {
   "cell_type": "code",
   "execution_count": 93,
   "metadata": {},
   "outputs": [
    {
     "data": {
      "text/plain": [
       "GradientBoostingClassifier(learning_rate=0.001, n_estimators=1000,\n",
       "                           random_state=1)"
      ]
     },
     "execution_count": 93,
     "metadata": {},
     "output_type": "execute_result"
    }
   ],
   "source": [
    "boostclass = GradientBoostingClassifier(n_estimators=1000, learning_rate=0.001, random_state=1)\n",
    "boostclass.fit(X_bidir_train, y_bidir_train)"
   ]
  },
  {
   "cell_type": "code",
   "execution_count": 95,
   "metadata": {},
   "outputs": [
    {
     "name": "stdout",
     "output_type": "stream",
     "text": [
      "25    3.598914e-15\n",
      "12    1.724399e-14\n",
      "15    2.136926e-14\n",
      "20    3.205137e-14\n",
      "7     3.430973e-14\n",
      "21    3.571901e-14\n",
      "19    4.865458e-14\n",
      "14    5.049378e-14\n",
      "10    5.510137e-14\n",
      "26    5.776592e-14\n",
      "23    6.133289e-14\n",
      "13    6.266621e-14\n",
      "2     6.451866e-14\n",
      "3     6.734201e-14\n",
      "24    6.996394e-14\n",
      "18    7.943354e-14\n",
      "22    8.032786e-14\n",
      "5     8.282709e-14\n",
      "6     8.349929e-14\n",
      "1     8.354023e-14\n",
      "4     9.084096e-14\n",
      "8     9.438307e-14\n",
      "0     9.916707e-14\n",
      "9     1.869825e+01\n",
      "11    1.901995e+01\n",
      "17    1.999508e+01\n",
      "16    2.107518e+01\n",
      "dtype: float64\n"
     ]
    },
    {
     "data": {
      "image/png": "[encoded data removed]",
      "text/plain": [
       "<Figure size 432x288 with 1 Axes>"
      ]
     },
     "metadata": {
      "needs_background": "light"
     },
     "output_type": "display_data"
    }
   ],
   "source": [
    "#Visualising the important features\n",
    "feature_importance = boostclass.feature_importances_*100\n",
    "rel_imp = pd.Series(feature_importance[0:27], index=X_bidir_train.columns[0:27]).sort_values(inplace=False)\n",
    "print(rel_imp)\n",
    "rel_imp.T.plot(kind='barh', color='r', )\n",
    "plt.xlabel('Variable Importance')\n",
    "plt.gca().legend_ = None"
   ]
  },
  {
   "cell_type": "code",
   "execution_count": 96,
   "metadata": {},
   "outputs": [
    {
     "name": "stdout",
     "output_type": "stream",
     "text": [
      "34    1.510740e-15\n",
      "30    2.267099e-15\n",
      "29    8.512810e-15\n",
      "43    8.558369e-15\n",
      "47    1.208172e-14\n",
      "48    1.578723e-14\n",
      "51    1.717959e-14\n",
      "33    1.917569e-14\n",
      "39    2.817747e-14\n",
      "44    3.398497e-14\n",
      "42    3.406535e-14\n",
      "38    5.646919e-14\n",
      "28    5.746091e-14\n",
      "49    6.124543e-14\n",
      "35    6.222191e-14\n",
      "40    6.529715e-14\n",
      "41    6.811596e-14\n",
      "31    7.030858e-14\n",
      "53    7.231337e-14\n",
      "27    7.588562e-14\n",
      "32    8.107989e-14\n",
      "36    8.798804e-14\n",
      "46    9.817482e-14\n",
      "45    9.890972e-14\n",
      "50    1.064916e-13\n",
      "37    1.064981e-13\n",
      "52    2.121153e+01\n",
      "dtype: float64\n"
     ]
    },
    {
     "data": {
      "image/png": "[encoded data removed]",
      "text/plain": [
       "<Figure size 432x288 with 1 Axes>"
      ]
     },
     "metadata": {
      "needs_background": "light"
     },
     "output_type": "display_data"
    }
   ],
   "source": [
    "rel_imp = pd.Series(feature_importance[27:54], index=X_bidir_train.columns[27:54]).sort_values(inplace=False)\n",
    "print(rel_imp)\n",
    "rel_imp.T.plot(kind='barh', color='r', )\n",
    "plt.xlabel('Variable Importance')\n",
    "plt.gca().legend_ = None"
   ]
  },
  {
   "cell_type": "code",
   "execution_count": 97,
   "metadata": {},
   "outputs": [
    {
     "name": "stdout",
     "output_type": "stream",
     "text": [
      "Validation Performance:\n",
      "Accuracy: 1.0 , Misclassification error: 0.0\n",
      "Classification report for classifier GradientBoostingClassifier(learning_rate=0.001, n_estimators=1000,\n",
      "                           random_state=1):\n",
      "              precision    recall  f1-score   support\n",
      "\n",
      "         0.0       1.00      1.00      1.00       387\n",
      "         1.0       1.00      1.00      1.00       377\n",
      "\n",
      "    accuracy                           1.00       764\n",
      "   macro avg       1.00      1.00      1.00       764\n",
      "weighted avg       1.00      1.00      1.00       764\n",
      "\n",
      "\n",
      "Confusion matrix:\n",
      "[[387   0]\n",
      " [  0 377]]\n"
     ]
    },
    {
     "data": {
      "image/png": "[encoded data removed]",
      "text/plain": [
       "<Figure size 432x288 with 2 Axes>"
      ]
     },
     "metadata": {
      "needs_background": "light"
     },
     "output_type": "display_data"
    }
   ],
   "source": [
    "print('Validation Performance:')\n",
    "y_pred = boostclass.predict(X_bidir_val) #prediction for validation dataset \n",
    "acc = accuracy_score(y_bidir_val, y_pred, normalize=True)\n",
    "misclass_err = 1 - acc\n",
    "print(\"Accuracy:\", acc, \", Misclassification error:\", misclass_err)\n",
    "\n",
    "print(f\"Classification report for classifier {boostclass}:\\n\"\n",
    "f\"{metrics.classification_report(y_bidir_val, y_pred)}\\n\")\n",
    "\n",
    "disp = metrics.plot_confusion_matrix(boostclass, X_bidir_val, y_bidir_val)\n",
    "disp.figure_.suptitle(\"Confusion Matrix\")\n",
    "print(f\"Confusion matrix:\\n{disp.confusion_matrix}\")\n",
    "plt.show()"
   ]
  },
  {
   "cell_type": "code",
   "execution_count": 98,
   "metadata": {},
   "outputs": [
    {
     "name": "stdout",
     "output_type": "stream",
     "text": [
      "Training Performance:\n",
      "Accuracy: 1.0 , Misclassification error: 0.0\n",
      "Classification report for classifier GradientBoostingClassifier(learning_rate=0.001, n_estimators=1000,\n",
      "                           random_state=1):\n",
      "              precision    recall  f1-score   support\n",
      "\n",
      "         0.0       1.00      1.00      1.00      1454\n",
      "         1.0       1.00      1.00      1.00      1602\n",
      "\n",
      "    accuracy                           1.00      3056\n",
      "   macro avg       1.00      1.00      1.00      3056\n",
      "weighted avg       1.00      1.00      1.00      3056\n",
      "\n",
      "\n",
      "Confusion matrix:\n",
      "[[1454    0]\n",
      " [   0 1602]]\n"
     ]
    },
    {
     "data": {
      "image/png": "[encoded data removed]",
      "text/plain": [
       "<Figure size 432x288 with 2 Axes>"
      ]
     },
     "metadata": {
      "needs_background": "light"
     },
     "output_type": "display_data"
    }
   ],
   "source": [
    "print('Training Performance:')\n",
    "ytrain_pred = boostclass.predict(X_bidir_train) #prediction for train dataset \n",
    "acc = accuracy_score(y_bidir_train, ytrain_pred, normalize=True)\n",
    "misclass_err = 1 - acc\n",
    "print(\"Accuracy:\", acc, \", Misclassification error:\", misclass_err)\n",
    "\n",
    "print(f\"Classification report for classifier {boostclass}:\\n\"\n",
    "f\"{metrics.classification_report(y_bidir_train, ytrain_pred)}\\n\")\n",
    "\n",
    "disp = metrics.plot_confusion_matrix(boostclass, X_bidir_train, y_bidir_train)\n",
    "disp.figure_.suptitle(\"Confusion Matrix\")\n",
    "print(f\"Confusion matrix:\\n{disp.confusion_matrix}\")\n",
    "plt.show()"
   ]
  },
  {
   "cell_type": "code",
   "execution_count": 101,
   "metadata": {},
   "outputs": [
    {
     "name": "stdout",
     "output_type": "stream",
     "text": [
      "Test Performance:\n",
      "Test Accuracy: 1.0 , Test Misclassification error: 0.0\n",
      "Testdata Classification report for classifier GradientBoostingClassifier(learning_rate=0.001, n_estimators=1000,\n",
      "                           random_state=1):\n",
      "              precision    recall  f1-score   support\n",
      "\n",
      "         0.0       1.00      1.00      1.00     18179\n",
      "         1.0       1.00      1.00      1.00     20137\n",
      "\n",
      "    accuracy                           1.00     38316\n",
      "   macro avg       1.00      1.00      1.00     38316\n",
      "weighted avg       1.00      1.00      1.00     38316\n",
      "\n",
      "\n",
      "Testdata Confusion matrix:\n",
      "[[18179     0]\n",
      " [    0 20137]]\n"
     ]
    },
    {
     "data": {
      "image/png": "[encoded data removed]",
      "text/plain": [
       "<Figure size 432x288 with 2 Axes>"
      ]
     },
     "metadata": {
      "needs_background": "light"
     },
     "output_type": "display_data"
    }
   ],
   "source": [
    "#Predicting the test data \n",
    "print('Test Performance:')\n",
    "y_pred_test = boostclass.predict(X_test_bidir)\n",
    "acc = accuracy_score(y_test_bidir, y_pred_test, normalize=True)\n",
    "misclass_err_test = 1 - acc\n",
    "print(\"Test Accuracy:\", acc, \", Test Misclassification error:\", misclass_err)\n",
    "\n",
    "print(f\"Testdata Classification report for classifier {boostclass}:\\n\"\n",
    "f\"{metrics.classification_report(y_test_bidir, y_pred_test)}\\n\")\n",
    "\n",
    "disp = metrics.plot_confusion_matrix(boostclass, X_test_bidir, y_test_bidir)\n",
    "disp.figure_.suptitle(\"Confusion Matrix for Testdata\")\n",
    "print(f\"Testdata Confusion matrix:\\n{disp.confusion_matrix}\")\n",
    "plt.show()"
   ]
  },
  {
   "cell_type": "code",
   "execution_count": 103,
   "metadata": {},
   "outputs": [
    {
     "name": "stdout",
     "output_type": "stream",
     "text": [
      "15    1.228765e-14\n",
      "7     2.506219e-14\n",
      "11    2.653592e-14\n",
      "12    3.232266e-14\n",
      "4     1.107313e-13\n",
      "14    1.110096e-13\n",
      "3     1.157008e-13\n",
      "9     1.223529e-13\n",
      "17    1.274335e-13\n",
      "6     1.322799e-13\n",
      "5     1.327387e-13\n",
      "13    1.345880e-13\n",
      "0     1.382597e-13\n",
      "10    1.422589e-13\n",
      "8     1.442328e-13\n",
      "2     1.462044e-13\n",
      "1     1.589032e-13\n",
      "16    1.000000e+02\n",
      "dtype: float64\n"
     ]
    },
    {
     "data": {
      "image/png": "[encoded data removed]",
      "text/plain": [
       "<Figure size 432x288 with 1 Axes>"
      ]
     },
     "metadata": {
      "needs_background": "light"
     },
     "output_type": "display_data"
    }
   ],
   "source": [
    "#Unidirectional\n",
    "\n",
    "boostclass = GradientBoostingClassifier(n_estimators=1000, learning_rate=0.001, random_state=1)\n",
    "boostclass.fit(X_unidir_train, y_unidir_train)\n",
    "\n",
    "#Visualising the important features\n",
    "feature_importance = boostclass.feature_importances_*100\n",
    "rel_imp = pd.Series(feature_importance[0:27], index=X_unidir_train.columns[0:27]).sort_values(inplace=False)\n",
    "print(rel_imp)\n",
    "rel_imp.T.plot(kind='barh', color='r', )\n",
    "plt.xlabel('Variable Importance')\n",
    "plt.gca().legend_ = None"
   ]
  },
  {
   "cell_type": "code",
   "execution_count": 104,
   "metadata": {},
   "outputs": [
    {
     "name": "stdout",
     "output_type": "stream",
     "text": [
      "Training Performance:\n",
      "Accuracy: 1.0 , Misclassification error: 0.0\n",
      "Classification report for classifier GradientBoostingClassifier(learning_rate=0.001, n_estimators=1000,\n",
      "                           random_state=1):\n",
      "              precision    recall  f1-score   support\n",
      "\n",
      "         0.0       1.00      1.00      1.00       899\n",
      "         1.0       1.00      1.00      1.00      1037\n",
      "\n",
      "    accuracy                           1.00      1936\n",
      "   macro avg       1.00      1.00      1.00      1936\n",
      "weighted avg       1.00      1.00      1.00      1936\n",
      "\n",
      "\n",
      "Confusion matrix:\n",
      "[[ 899    0]\n",
      " [   0 1037]]\n"
     ]
    },
    {
     "data": {
      "image/png": "[encoded data removed]",
      "text/plain": [
       "<Figure size 432x288 with 2 Axes>"
      ]
     },
     "metadata": {
      "needs_background": "light"
     },
     "output_type": "display_data"
    }
   ],
   "source": [
    "print('Training Performance:')\n",
    "ytrain_pred = boostclass.predict(X_unidir_train) #prediction for train dataset \n",
    "acc = accuracy_score(y_unidir_train, ytrain_pred, normalize=True)\n",
    "misclass_err = 1 - acc\n",
    "print(\"Accuracy:\", acc, \", Misclassification error:\", misclass_err)\n",
    "\n",
    "print(f\"Classification report for classifier {boostclass}:\\n\"\n",
    "f\"{metrics.classification_report(y_unidir_train, ytrain_pred)}\\n\")\n",
    "\n",
    "disp = metrics.plot_confusion_matrix(boostclass, X_unidir_train, y_unidir_train)\n",
    "disp.figure_.suptitle(\"Confusion Matrix\")\n",
    "print(f\"Confusion matrix:\\n{disp.confusion_matrix}\")\n",
    "plt.show()\n"
   ]
  },
  {
   "cell_type": "code",
   "execution_count": 105,
   "metadata": {},
   "outputs": [
    {
     "name": "stdout",
     "output_type": "stream",
     "text": [
      "Validation Performance:\n",
      "Accuracy: 1.0 , Misclassification error: 0.0\n",
      "Classification report for classifier GradientBoostingClassifier(learning_rate=0.001, n_estimators=1000,\n",
      "                           random_state=1):\n",
      "              precision    recall  f1-score   support\n",
      "\n",
      "         0.0       1.00      1.00      1.00       243\n",
      "         1.0       1.00      1.00      1.00       242\n",
      "\n",
      "    accuracy                           1.00       485\n",
      "   macro avg       1.00      1.00      1.00       485\n",
      "weighted avg       1.00      1.00      1.00       485\n",
      "\n",
      "\n",
      "Confusion matrix:\n",
      "[[243   0]\n",
      " [  0 242]]\n"
     ]
    },
    {
     "data": {
      "image/png": "[encoded data removed]",
      "text/plain": [
       "<Figure size 432x288 with 2 Axes>"
      ]
     },
     "metadata": {
      "needs_background": "light"
     },
     "output_type": "display_data"
    }
   ],
   "source": [
    "\n",
    "print('Validation Performance:')\n",
    "y_pred = boostclass.predict(X_unidir_val) #prediction for validation dataset \n",
    "acc = accuracy_score(y_unidir_val, y_pred, normalize=True)\n",
    "misclass_err = 1 - acc\n",
    "print(\"Accuracy:\", acc, \", Misclassification error:\", misclass_err)\n",
    "\n",
    "print(f\"Classification report for classifier {boostclass}:\\n\"\n",
    "f\"{metrics.classification_report(y_unidir_val, y_pred)}\\n\")\n",
    "\n",
    "disp = metrics.plot_confusion_matrix(boostclass, X_unidir_val, y_unidir_val)\n",
    "disp.figure_.suptitle(\"Confusion Matrix\")\n",
    "print(f\"Confusion matrix:\\n{disp.confusion_matrix}\")\n",
    "plt.show()"
   ]
  },
  {
   "cell_type": "code",
   "execution_count": 106,
   "metadata": {},
   "outputs": [
    {
     "name": "stdout",
     "output_type": "stream",
     "text": [
      "Test Performance:\n",
      "Test Accuracy: 0.9995450597626039 , Test Misclassification error: 0.0\n",
      "Testdata Classification report for classifier GradientBoostingClassifier(learning_rate=0.001, n_estimators=1000,\n",
      "                           random_state=1):\n",
      "              precision    recall  f1-score   support\n",
      "\n",
      "         0.0       1.00      1.00      1.00     11287\n",
      "         1.0       1.00      1.00      1.00     12892\n",
      "\n",
      "    accuracy                           1.00     24179\n",
      "   macro avg       1.00      1.00      1.00     24179\n",
      "weighted avg       1.00      1.00      1.00     24179\n",
      "\n",
      "\n",
      "Testdata Confusion matrix:\n",
      "[[11287     0]\n",
      " [   11 12881]]\n"
     ]
    },
    {
     "data": {
      "image/png": "[encoded data removed]",
      "text/plain": [
       "<Figure size 432x288 with 2 Axes>"
      ]
     },
     "metadata": {
      "needs_background": "light"
     },
     "output_type": "display_data"
    }
   ],
   "source": [
    "\n",
    "#Predicting the test data \n",
    "print('Test Performance:')\n",
    "y_pred_test = boostclass.predict(X_test_unidir)\n",
    "acc = accuracy_score(y_test_unidir, y_pred_test, normalize=True)\n",
    "misclass_err_test = 1 - acc\n",
    "print(\"Test Accuracy:\", acc, \", Test Misclassification error:\", misclass_err)\n",
    "\n",
    "print(f\"Testdata Classification report for classifier {boostclass}:\\n\"\n",
    "f\"{metrics.classification_report(y_test_unidir, y_pred_test)}\\n\")\n",
    "\n",
    "disp = metrics.plot_confusion_matrix(boostclass, X_test_unidir, y_test_unidir)\n",
    "disp.figure_.suptitle(\"Confusion Matrix for Testdata\")\n",
    "print(f\"Testdata Confusion matrix:\\n{disp.confusion_matrix}\")\n",
    "plt.show()"
   ]
  },
  {
   "cell_type": "markdown",
   "metadata": {},
   "source": [
    "***************"
   ]
  },
  {
   "cell_type": "markdown",
   "metadata": {},
   "source": [
    "#### Bagging "
   ]
  },
  {
   "cell_type": "markdown",
   "metadata": {},
   "source": [
    "#### Bidirectional"
   ]
  },
  {
   "cell_type": "code",
   "execution_count": 109,
   "metadata": {},
   "outputs": [
    {
     "data": {
      "text/plain": [
       "RandomForestClassifier(max_features=54, random_state=1)"
      ]
     },
     "execution_count": 109,
     "metadata": {},
     "output_type": "execute_result"
    }
   ],
   "source": [
    "#Bagging = Random forest with complete features \n",
    "bgclf = RandomForestClassifier(max_features=54, random_state=1)   \n",
    "bgclf.fit(X_bidir_train, y_bidir_train)"
   ]
  },
  {
   "cell_type": "code",
   "execution_count": 110,
   "metadata": {},
   "outputs": [
    {
     "name": "stdout",
     "output_type": "stream",
     "text": [
      "Training Performance:\n",
      "Accuracy: 1.0 , Misclassification error: 0.0\n",
      "Classification report for Bagging classifier:\n",
      "              precision    recall  f1-score   support\n",
      "\n",
      "         0.0       1.00      1.00      1.00      1454\n",
      "         1.0       1.00      1.00      1.00      1602\n",
      "\n",
      "    accuracy                           1.00      3056\n",
      "   macro avg       1.00      1.00      1.00      3056\n",
      "weighted avg       1.00      1.00      1.00      3056\n",
      "\n",
      "\n",
      "Confusion matrix:\n",
      "[[1454    0]\n",
      " [   0 1602]]\n"
     ]
    },
    {
     "data": {
      "image/png": "[encoded data removed]",
      "text/plain": [
       "<Figure size 432x288 with 2 Axes>"
      ]
     },
     "metadata": {
      "needs_background": "light"
     },
     "output_type": "display_data"
    }
   ],
   "source": [
    "print('Training Performance:')\n",
    "ytrain_pred = bgclf.predict(X_bidir_train) #prediction for train dataset \n",
    "acc = accuracy_score(y_bidir_train, ytrain_pred, normalize=True)\n",
    "misclass_err = 1 - acc\n",
    "print(\"Accuracy:\", acc, \", Misclassification error:\", misclass_err)\n",
    "\n",
    "print(f\"Classification report for Bagging classifier:\\n\"\n",
    "f\"{metrics.classification_report(y_bidir_train, ytrain_pred)}\\n\")\n",
    "\n",
    "disp = metrics.plot_confusion_matrix(bgclf, X_bidir_train, y_bidir_train)\n",
    "disp.figure_.suptitle(\"Confusion Matrix\")\n",
    "print(f\"Confusion matrix:\\n{disp.confusion_matrix}\")\n",
    "plt.show()"
   ]
  },
  {
   "cell_type": "code",
   "execution_count": 111,
   "metadata": {},
   "outputs": [
    {
     "name": "stdout",
     "output_type": "stream",
     "text": [
      "Validation Performance:\n",
      "Accuracy: 1.0 , Misclassification error: 0.0\n",
      "Classification report for Bagging classifier:\n",
      "              precision    recall  f1-score   support\n",
      "\n",
      "         0.0       1.00      1.00      1.00       387\n",
      "         1.0       1.00      1.00      1.00       377\n",
      "\n",
      "    accuracy                           1.00       764\n",
      "   macro avg       1.00      1.00      1.00       764\n",
      "weighted avg       1.00      1.00      1.00       764\n",
      "\n",
      "\n",
      "Confusion matrix:\n",
      "[[387   0]\n",
      " [  0 377]]\n"
     ]
    },
    {
     "data": {
      "image/png": "[encoded data removed]",
      "text/plain": [
       "<Figure size 432x288 with 2 Axes>"
      ]
     },
     "metadata": {
      "needs_background": "light"
     },
     "output_type": "display_data"
    }
   ],
   "source": [
    "print('Validation Performance:')\n",
    "y_pred = bgclf.predict(X_bidir_val) #prediction for validation dataset \n",
    "acc = accuracy_score(y_bidir_val, y_pred, normalize=True)\n",
    "misclass_err = 1 - acc\n",
    "print(\"Accuracy:\", acc, \", Misclassification error:\", misclass_err)\n",
    "\n",
    "print(f\"Classification report for Bagging classifier:\\n\"\n",
    "f\"{metrics.classification_report(y_bidir_val, y_pred)}\\n\")\n",
    "\n",
    "disp = metrics.plot_confusion_matrix(bgclf, X_bidir_val, y_bidir_val)\n",
    "disp.figure_.suptitle(\"Confusion Matrix\")\n",
    "print(f\"Confusion matrix:\\n{disp.confusion_matrix}\")\n",
    "plt.show()"
   ]
  },
  {
   "cell_type": "code",
   "execution_count": 112,
   "metadata": {},
   "outputs": [
    {
     "name": "stdout",
     "output_type": "stream",
     "text": [
      "Test Performance:\n",
      "Test Accuracy: 1.0 , Test Misclassification error: 0.0\n",
      "Testdata Classification report for bagging classifier :\n",
      "              precision    recall  f1-score   support\n",
      "\n",
      "         0.0       1.00      1.00      1.00     18179\n",
      "         1.0       1.00      1.00      1.00     20137\n",
      "\n",
      "    accuracy                           1.00     38316\n",
      "   macro avg       1.00      1.00      1.00     38316\n",
      "weighted avg       1.00      1.00      1.00     38316\n",
      "\n",
      "\n",
      "Testdata Confusion matrix:\n",
      "[[18179     0]\n",
      " [    0 20137]]\n"
     ]
    },
    {
     "data": {
      "image/png": "[encoded data removed]",
      "text/plain": [
       "<Figure size 432x288 with 2 Axes>"
      ]
     },
     "metadata": {
      "needs_background": "light"
     },
     "output_type": "display_data"
    }
   ],
   "source": [
    "#Predicting the test data \n",
    "print('Test Performance:')\n",
    "y_pred_test = bgclf.predict(X_test_bidir)\n",
    "acc = accuracy_score(y_test_bidir, y_pred_test, normalize=True)\n",
    "misclass_err_test = 1 - acc\n",
    "print(\"Test Accuracy:\", acc, \", Test Misclassification error:\", misclass_err)\n",
    "\n",
    "print(f\"Testdata Classification report for bagging classifier :\\n\"\n",
    "f\"{metrics.classification_report(y_test_bidir, y_pred_test)}\\n\")\n",
    "\n",
    "disp = metrics.plot_confusion_matrix(bgclf, X_test_bidir, y_test_bidir)\n",
    "disp.figure_.suptitle(\"Confusion Matrix for Testdata\")\n",
    "print(f\"Testdata Confusion matrix:\\n{disp.confusion_matrix}\")\n",
    "plt.show()"
   ]
  },
  {
   "cell_type": "markdown",
   "metadata": {},
   "source": [
    "#### Unidirectional"
   ]
  },
  {
   "cell_type": "code",
   "execution_count": 113,
   "metadata": {},
   "outputs": [
    {
     "data": {
      "text/plain": [
       "RandomForestClassifier(max_features=18, random_state=1)"
      ]
     },
     "execution_count": 113,
     "metadata": {},
     "output_type": "execute_result"
    }
   ],
   "source": [
    "#Bagging = Random forest with complete features \n",
    "bgclf_uni = RandomForestClassifier(max_features=18, random_state=1)   \n",
    "bgclf_uni.fit(X_unidir_train, y_unidir_train)"
   ]
  },
  {
   "cell_type": "code",
   "execution_count": 115,
   "metadata": {},
   "outputs": [
    {
     "name": "stdout",
     "output_type": "stream",
     "text": [
      "Training Performance:\n",
      "Accuracy: 1.0 , Misclassification error: 0.0\n",
      "Classification report for Bagging classifier:\n",
      "              precision    recall  f1-score   support\n",
      "\n",
      "         0.0       1.00      1.00      1.00       899\n",
      "         1.0       1.00      1.00      1.00      1037\n",
      "\n",
      "    accuracy                           1.00      1936\n",
      "   macro avg       1.00      1.00      1.00      1936\n",
      "weighted avg       1.00      1.00      1.00      1936\n",
      "\n",
      "\n",
      "Confusion matrix:\n",
      "[[ 899    0]\n",
      " [   0 1037]]\n"
     ]
    },
    {
     "data": {
      "image/png": "[encoded data removed]",
      "text/plain": [
       "<Figure size 432x288 with 2 Axes>"
      ]
     },
     "metadata": {
      "needs_background": "light"
     },
     "output_type": "display_data"
    }
   ],
   "source": [
    "print('Training Performance:')\n",
    "ytrain_pred = bgclf_uni.predict(X_unidir_train) #prediction for train dataset \n",
    "acc = accuracy_score(y_unidir_train, ytrain_pred, normalize=True)\n",
    "misclass_err = 1 - acc\n",
    "print(\"Accuracy:\", acc, \", Misclassification error:\", misclass_err)\n",
    "\n",
    "print(f\"Classification report for Bagging classifier:\\n\"\n",
    "f\"{metrics.classification_report(y_unidir_train, ytrain_pred)}\\n\")\n",
    "\n",
    "disp = metrics.plot_confusion_matrix(bgclf_uni, X_unidir_train, y_unidir_train)\n",
    "disp.figure_.suptitle(\"Confusion Matrix\")\n",
    "print(f\"Confusion matrix:\\n{disp.confusion_matrix}\")\n",
    "plt.show()"
   ]
  },
  {
   "cell_type": "code",
   "execution_count": 116,
   "metadata": {},
   "outputs": [
    {
     "name": "stdout",
     "output_type": "stream",
     "text": [
      "Validation Performance:\n",
      "Accuracy: 1.0 , Misclassification error: 0.0\n",
      "Classification report for Bagging classifier:\n",
      "              precision    recall  f1-score   support\n",
      "\n",
      "         0.0       1.00      1.00      1.00       243\n",
      "         1.0       1.00      1.00      1.00       242\n",
      "\n",
      "    accuracy                           1.00       485\n",
      "   macro avg       1.00      1.00      1.00       485\n",
      "weighted avg       1.00      1.00      1.00       485\n",
      "\n",
      "\n",
      "Confusion matrix:\n",
      "[[243   0]\n",
      " [  0 242]]\n"
     ]
    },
    {
     "data": {
      "image/png": "[encoded data removed]",
      "text/plain": [
       "<Figure size 432x288 with 2 Axes>"
      ]
     },
     "metadata": {
      "needs_background": "light"
     },
     "output_type": "display_data"
    }
   ],
   "source": [
    "print('Validation Performance:')\n",
    "y_pred = bgclf_uni.predict(X_unidir_val) #prediction for validation dataset \n",
    "acc = accuracy_score(y_unidir_val, y_pred, normalize=True)\n",
    "misclass_err = 1 - acc\n",
    "print(\"Accuracy:\", acc, \", Misclassification error:\", misclass_err)\n",
    "\n",
    "print(f\"Classification report for Bagging classifier:\\n\"\n",
    "f\"{metrics.classification_report(y_unidir_val, y_pred)}\\n\")\n",
    "\n",
    "disp = metrics.plot_confusion_matrix(bgclf_uni, X_unidir_val, y_unidir_val)\n",
    "disp.figure_.suptitle(\"Confusion Matrix\")\n",
    "print(f\"Confusion matrix:\\n{disp.confusion_matrix}\")\n",
    "plt.show()"
   ]
  },
  {
   "cell_type": "code",
   "execution_count": 117,
   "metadata": {},
   "outputs": [
    {
     "name": "stdout",
     "output_type": "stream",
     "text": [
      "Test Performance:\n",
      "Test Accuracy: 0.9995450597626039 , Test Misclassification error: 0.0\n",
      "Testdata Classification report for bagging classifier :\n",
      "              precision    recall  f1-score   support\n",
      "\n",
      "         0.0       1.00      1.00      1.00     11287\n",
      "         1.0       1.00      1.00      1.00     12892\n",
      "\n",
      "    accuracy                           1.00     24179\n",
      "   macro avg       1.00      1.00      1.00     24179\n",
      "weighted avg       1.00      1.00      1.00     24179\n",
      "\n",
      "\n",
      "Testdata Confusion matrix:\n",
      "[[11287     0]\n",
      " [   11 12881]]\n"
     ]
    },
    {
     "data": {
      "image/png": "[encoded data removed]",
      "text/plain": [
       "<Figure size 432x288 with 2 Axes>"
      ]
     },
     "metadata": {
      "needs_background": "light"
     },
     "output_type": "display_data"
    }
   ],
   "source": [
    "#Predicting the test data \n",
    "print('Test Performance:')\n",
    "y_pred_test = bgclf_uni.predict(X_test_unidir)\n",
    "acc = accuracy_score(y_test_unidir, y_pred_test, normalize=True)\n",
    "misclass_err_test = 1 - acc\n",
    "print(\"Test Accuracy:\", acc, \", Test Misclassification error:\", misclass_err)\n",
    "\n",
    "print(f\"Testdata Classification report for bagging classifier :\\n\"\n",
    "f\"{metrics.classification_report(y_test_unidir, y_pred_test)}\\n\")\n",
    "\n",
    "disp = metrics.plot_confusion_matrix(bgclf_uni, X_test_unidir, y_test_unidir)\n",
    "disp.figure_.suptitle(\"Confusion Matrix for Testdata\")\n",
    "print(f\"Testdata Confusion matrix:\\n{disp.confusion_matrix}\")\n",
    "plt.show()"
   ]
  },
  {
   "cell_type": "markdown",
   "metadata": {},
   "source": [
    "#### QDA"
   ]
  },
  {
   "cell_type": "markdown",
   "metadata": {},
   "source": [
    "Bidir"
   ]
  },
  {
   "cell_type": "code",
   "execution_count": 11,
   "metadata": {},
   "outputs": [],
   "source": [
    "from sklearn.discriminant_analysis import QuadraticDiscriminantAnalysis\n",
    "qda = QuadraticDiscriminantAnalysis()"
   ]
  },
  {
   "cell_type": "code",
   "execution_count": 12,
   "metadata": {},
   "outputs": [
    {
     "name": "stdout",
     "output_type": "stream",
     "text": [
      "Validation Performance:\n",
      "Accuracy: 0.9947643979057592 , Misclassification error: 0.005235602094240788\n",
      "Classification report for classifier QuadraticDiscriminantAnalysis():\n",
      "              precision    recall  f1-score   support\n",
      "\n",
      "         0.0       0.99      1.00      0.99       387\n",
      "         1.0       1.00      0.99      0.99       377\n",
      "\n",
      "    accuracy                           0.99       764\n",
      "   macro avg       0.99      0.99      0.99       764\n",
      "weighted avg       0.99      0.99      0.99       764\n",
      "\n",
      "\n",
      "Confusion matrix:\n",
      "[[387   0]\n",
      " [  4 373]]\n"
     ]
    },
    {
     "data": {
      "image/png": "[encoded data removed]",
      "text/plain": [
       "<Figure size 432x288 with 2 Axes>"
      ]
     },
     "metadata": {
      "needs_background": "light"
     },
     "output_type": "display_data"
    }
   ],
   "source": [
    "print('Validation Performance:')\n",
    "y_pred = qda.fit(X_bidir_train, y_bidir_train).predict(X_bidir_val) #prediction for validation dataset \n",
    "acc = accuracy_score(y_bidir_val, y_pred, normalize=True)\n",
    "misclass_err = 1 - acc\n",
    "print(\"Accuracy:\", acc, \", Misclassification error:\", misclass_err)\n",
    "\n",
    "print(f\"Classification report for classifier {qda}:\\n\"\n",
    "f\"{metrics.classification_report(y_bidir_val, y_pred)}\\n\")\n",
    "\n",
    "disp = metrics.plot_confusion_matrix(qda, X_bidir_val, y_bidir_val)\n",
    "disp.figure_.suptitle(\"Confusion Matrix\")\n",
    "print(f\"Confusion matrix:\\n{disp.confusion_matrix}\")\n",
    "plt.show()"
   ]
  },
  {
   "cell_type": "code",
   "execution_count": 13,
   "metadata": {},
   "outputs": [
    {
     "name": "stdout",
     "output_type": "stream",
     "text": [
      "Training Performance:\n",
      "Accuracy: 0.9973821989528796 , Misclassification error: 0.002617801047120394\n",
      "Classification report for classifier QuadraticDiscriminantAnalysis():\n",
      "              precision    recall  f1-score   support\n",
      "\n",
      "         0.0       0.99      1.00      1.00      1454\n",
      "         1.0       1.00      1.00      1.00      1602\n",
      "\n",
      "    accuracy                           1.00      3056\n",
      "   macro avg       1.00      1.00      1.00      3056\n",
      "weighted avg       1.00      1.00      1.00      3056\n",
      "\n",
      "\n",
      "Confusion matrix:\n",
      "[[1454    0]\n",
      " [   8 1594]]\n"
     ]
    },
    {
     "data": {
      "image/png": "[encoded data removed]",
      "text/plain": [
       "<Figure size 432x288 with 2 Axes>"
      ]
     },
     "metadata": {
      "needs_background": "light"
     },
     "output_type": "display_data"
    }
   ],
   "source": [
    "print('Training Performance:')\n",
    "ytrain_pred = qda.fit(X_bidir_train, y_bidir_train).predict(X_bidir_train) #prediction for training dataset \n",
    "acc = accuracy_score(y_bidir_train, ytrain_pred, normalize=True)\n",
    "misclass_err = 1 - acc\n",
    "print(\"Accuracy:\", acc, \", Misclassification error:\", misclass_err)\n",
    "\n",
    "print(f\"Classification report for classifier {qda}:\\n\"\n",
    "f\"{metrics.classification_report(y_bidir_train, ytrain_pred)}\\n\")\n",
    "\n",
    "disp = metrics.plot_confusion_matrix(qda, X_bidir_train, y_bidir_train)\n",
    "disp.figure_.suptitle(\"Confusion Matrix\")\n",
    "print(f\"Confusion matrix:\\n{disp.confusion_matrix}\")\n",
    "plt.show()"
   ]
  },
  {
   "cell_type": "code",
   "execution_count": 14,
   "metadata": {},
   "outputs": [
    {
     "name": "stdout",
     "output_type": "stream",
     "text": [
      "Test Performance:\n",
      "Test Accuracy: 0.9933448167867209 , Test Misclassification error: 0.002617801047120394\n",
      "Testdata Classification report for classifier QuadraticDiscriminantAnalysis():\n",
      "              precision    recall  f1-score   support\n",
      "\n",
      "         0.0       0.99      1.00      0.99     18179\n",
      "         1.0       1.00      0.99      0.99     20137\n",
      "\n",
      "    accuracy                           0.99     38316\n",
      "   macro avg       0.99      0.99      0.99     38316\n",
      "weighted avg       0.99      0.99      0.99     38316\n",
      "\n",
      "\n",
      "Testdata Confusion matrix:\n",
      "[[18179     0]\n",
      " [  255 19882]]\n"
     ]
    },
    {
     "data": {
      "image/png": "[encoded data removed]",
      "text/plain": [
       "<Figure size 432x288 with 2 Axes>"
      ]
     },
     "metadata": {
      "needs_background": "light"
     },
     "output_type": "display_data"
    }
   ],
   "source": [
    "#Predicting the test data \n",
    "print('Test Performance:')\n",
    "y_pred_test = qda.fit(X_bidir_train, y_bidir_train).predict(X_test_bidir)\n",
    "acc = accuracy_score(y_test_bidir, y_pred_test, normalize=True)\n",
    "misclass_err_test = 1 - acc\n",
    "print(\"Test Accuracy:\", acc, \", Test Misclassification error:\", misclass_err)\n",
    "\n",
    "print(f\"Testdata Classification report for classifier {qda}:\\n\"\n",
    "f\"{metrics.classification_report(y_test_bidir, y_pred_test)}\\n\")\n",
    "\n",
    "disp = metrics.plot_confusion_matrix(qda, X_test_bidir, y_test_bidir)\n",
    "disp.figure_.suptitle(\"Confusion Matrix for Testdata\")\n",
    "print(f\"Testdata Confusion matrix:\\n{disp.confusion_matrix}\")\n",
    "plt.show()"
   ]
  },
  {
   "cell_type": "markdown",
   "metadata": {},
   "source": [
    "Unidir"
   ]
  },
  {
   "cell_type": "code",
   "execution_count": 15,
   "metadata": {},
   "outputs": [
    {
     "name": "stdout",
     "output_type": "stream",
     "text": [
      "Validation Performance:\n",
      "Accuracy: 0.9814432989690721 , Misclassification error: 0.01855670103092788\n",
      "Classification report for classifier QuadraticDiscriminantAnalysis():\n",
      "              precision    recall  f1-score   support\n",
      "\n",
      "         0.0       0.96      1.00      0.98       243\n",
      "         1.0       1.00      0.96      0.98       242\n",
      "\n",
      "    accuracy                           0.98       485\n",
      "   macro avg       0.98      0.98      0.98       485\n",
      "weighted avg       0.98      0.98      0.98       485\n",
      "\n",
      "\n",
      "Confusion matrix:\n",
      "[[243   0]\n",
      " [  9 233]]\n"
     ]
    },
    {
     "data": {
      "image/png": "[encoded data removed]",
      "text/plain": [
       "<Figure size 432x288 with 2 Axes>"
      ]
     },
     "metadata": {
      "needs_background": "light"
     },
     "output_type": "display_data"
    }
   ],
   "source": [
    "print('Validation Performance:')\n",
    "y_pred = qda.fit(X_unidir_train, y_unidir_train).predict(X_unidir_val) #prediction for validation dataset \n",
    "acc = accuracy_score(y_unidir_val, y_pred, normalize=True)\n",
    "misclass_err = 1 - acc\n",
    "print(\"Accuracy:\", acc, \", Misclassification error:\", misclass_err)\n",
    "\n",
    "print(f\"Classification report for classifier {qda}:\\n\"\n",
    "f\"{metrics.classification_report(y_unidir_val, y_pred)}\\n\")\n",
    "\n",
    "disp = metrics.plot_confusion_matrix(qda, X_unidir_val, y_unidir_val)\n",
    "disp.figure_.suptitle(\"Confusion Matrix\")\n",
    "print(f\"Confusion matrix:\\n{disp.confusion_matrix}\")\n",
    "plt.show()"
   ]
  },
  {
   "cell_type": "code",
   "execution_count": 16,
   "metadata": {},
   "outputs": [
    {
     "name": "stdout",
     "output_type": "stream",
     "text": [
      "Training Performance:\n",
      "Accuracy: 0.9943181818181818 , Misclassification error: 0.005681818181818232\n",
      "Classification report for classifier QuadraticDiscriminantAnalysis():\n",
      "              precision    recall  f1-score   support\n",
      "\n",
      "         0.0       0.99      1.00      0.99       899\n",
      "         1.0       1.00      0.99      0.99      1037\n",
      "\n",
      "    accuracy                           0.99      1936\n",
      "   macro avg       0.99      0.99      0.99      1936\n",
      "weighted avg       0.99      0.99      0.99      1936\n",
      "\n",
      "\n",
      "Confusion matrix:\n",
      "[[ 899    0]\n",
      " [  11 1026]]\n"
     ]
    },
    {
     "data": {
      "image/png": "[encoded data removed]",
      "text/plain": [
       "<Figure size 432x288 with 2 Axes>"
      ]
     },
     "metadata": {
      "needs_background": "light"
     },
     "output_type": "display_data"
    }
   ],
   "source": [
    "print('Training Performance:')\n",
    "ytrain_pred = qda.fit(X_unidir_train, y_unidir_train).predict(X_unidir_train) #prediction for training dataset \n",
    "acc = accuracy_score(y_unidir_train, ytrain_pred, normalize=True)\n",
    "misclass_err = 1 - acc\n",
    "print(\"Accuracy:\", acc, \", Misclassification error:\", misclass_err)\n",
    "\n",
    "print(f\"Classification report for classifier {qda}:\\n\"\n",
    "f\"{metrics.classification_report(y_unidir_train, ytrain_pred)}\\n\")\n",
    "\n",
    "disp = metrics.plot_confusion_matrix(qda, X_unidir_train, y_unidir_train)\n",
    "disp.figure_.suptitle(\"Confusion Matrix\")\n",
    "print(f\"Confusion matrix:\\n{disp.confusion_matrix}\")\n",
    "plt.show()"
   ]
  },
  {
   "cell_type": "code",
   "execution_count": 17,
   "metadata": {},
   "outputs": [
    {
     "name": "stdout",
     "output_type": "stream",
     "text": [
      "Test Performance:\n",
      "Test Accuracy: 0.9890400760990943 , Test Misclassification error: 0.005681818181818232\n",
      "Testdata Classification report for classifier QuadraticDiscriminantAnalysis():\n",
      "              precision    recall  f1-score   support\n",
      "\n",
      "         0.0       0.98      1.00      0.99     11287\n",
      "         1.0       1.00      0.98      0.99     12892\n",
      "\n",
      "    accuracy                           0.99     24179\n",
      "   macro avg       0.99      0.99      0.99     24179\n",
      "weighted avg       0.99      0.99      0.99     24179\n",
      "\n",
      "\n",
      "Testdata Confusion matrix:\n",
      "[[11287     0]\n",
      " [  265 12627]]\n"
     ]
    },
    {
     "data": {
      "image/png": "[encoded data removed]",
      "text/plain": [
       "<Figure size 432x288 with 2 Axes>"
      ]
     },
     "metadata": {
      "needs_background": "light"
     },
     "output_type": "display_data"
    }
   ],
   "source": [
    "#Predicting the test data \n",
    "print('Test Performance:')\n",
    "y_pred_test = qda.fit(X_unidir_train, y_unidir_train).predict(X_test_unidir)\n",
    "acc = accuracy_score(y_test_unidir, y_pred_test, normalize=True)\n",
    "misclass_err_test = 1 - acc\n",
    "print(\"Test Accuracy:\", acc, \", Test Misclassification error:\", misclass_err)\n",
    "\n",
    "print(f\"Testdata Classification report for classifier {qda}:\\n\"\n",
    "f\"{metrics.classification_report(y_test_unidir, y_pred_test)}\\n\")\n",
    "\n",
    "disp = metrics.plot_confusion_matrix(qda, X_test_unidir, y_test_unidir)\n",
    "disp.figure_.suptitle(\"Confusion Matrix for Testdata\")\n",
    "print(f\"Testdata Confusion matrix:\\n{disp.confusion_matrix}\")\n",
    "plt.show()"
   ]
  },
  {
   "cell_type": "code",
   "execution_count": null,
   "metadata": {},
   "outputs": [],
   "source": []
  }
 ],
 "metadata": {
  "kernelspec": {
   "display_name": "Python 3",
   "language": "python",
   "name": "python3"
  },
  "language_info": {
   "codemirror_mode": {
    "name": "ipython",
    "version": 3
   },
   "file_extension": ".py",
   "mimetype": "text/x-python",
   "name": "python",
   "nbconvert_exporter": "python",
   "pygments_lexer": "ipython3",
   "version": "3.8.5"
  }
 },
 "nbformat": 4,
 "nbformat_minor": 5
}
