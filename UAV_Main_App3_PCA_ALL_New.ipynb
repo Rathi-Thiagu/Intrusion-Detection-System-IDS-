{
 "cells": [
  {
   "cell_type": "markdown",
   "metadata": {},
   "source": [
    "**Principal Component Analysis**\n",
    "\n",
    "1. Logistic Regression\n",
    "2. LDA\n",
    "3. QDA\n",
    "4. KNN\n",
    "5. Decision Tree\n",
    "6. SVM\n",
    "\n"
   ]
  },
  {
   "cell_type": "code",
   "execution_count": 1,
   "metadata": {},
   "outputs": [],
   "source": [
    "#import libraries\n",
    "import pandas as pd\n",
    "import numpy as np\n",
    "import h5py\n",
    "%matplotlib inline\n",
    "from matplotlib import pyplot as plt\n",
    "import seaborn as sns\n",
    "import statsmodels.api as sm\n",
    "\n",
    "import pickle\n",
    "\n",
    "from sklearn.decomposition import PCA\n",
    "import sklearn.linear_model as skl_lm\n",
    "from sklearn.metrics import mean_squared_error, accuracy_score, classification_report, confusion_matrix\n",
    "from sklearn.model_selection import train_test_split\n",
    "from sklearn.linear_model import LogisticRegression\n",
    "import sklearn.metrics as metrics\n",
    "from sklearn.neighbors import KNeighborsClassifier\n",
    "from sklearn.discriminant_analysis import LinearDiscriminantAnalysis, QuadraticDiscriminantAnalysis\n",
    "from sklearn.tree import DecisionTreeClassifier\n",
    "from sklearn import tree, svm\n",
    "from sklearn.ensemble import RandomForestClassifier\n",
    "\n",
    "import warnings\n",
    "warnings.filterwarnings(\"ignore\")"
   ]
  },
  {
   "cell_type": "code",
   "execution_count": 2,
   "metadata": {},
   "outputs": [],
   "source": [
    "#loading bidir data \n",
    "pickle_in = open(\"X_train_bidir.pickle\",\"rb\")\n",
    "X_training_bidir = pickle.load(pickle_in)\n",
    "\n",
    "pickle_in = open(\"y_train_bidir.pickle\",\"rb\")\n",
    "y_training_bidir = pickle.load(pickle_in)\n",
    "\n",
    "pickle_in = open(\"X_test_bidir.pickle\",\"rb\")\n",
    "X_test_bidir = pickle.load(pickle_in)\n",
    "\n",
    "pickle_in = open(\"y_test_bidir.pickle\",\"rb\")\n",
    "y_test_bidir = pickle.load(pickle_in)"
   ]
  },
  {
   "cell_type": "code",
   "execution_count": 3,
   "metadata": {},
   "outputs": [],
   "source": [
    "#loading unidir data \n",
    "pickle_in = open(\"X_train_unidir.pickle\",\"rb\")\n",
    "X_training_unidir = pickle.load(pickle_in)\n",
    "\n",
    "pickle_in = open(\"y_train_unidir.pickle\",\"rb\")\n",
    "y_training_unidir = pickle.load(pickle_in)\n",
    "\n",
    "pickle_in = open(\"X_test_unidir.pickle\",\"rb\")\n",
    "X_test_unidir = pickle.load(pickle_in)\n",
    "\n",
    "pickle_in = open(\"y_test_unidir.pickle\",\"rb\")\n",
    "y_test_unidir = pickle.load(pickle_in)"
   ]
  },
  {
   "cell_type": "code",
   "execution_count": 4,
   "metadata": {},
   "outputs": [
    {
     "data": {
      "text/plain": [
       "(3820, 54)"
      ]
     },
     "execution_count": 4,
     "metadata": {},
     "output_type": "execute_result"
    }
   ],
   "source": [
    "X_training_bidir.shape"
   ]
  },
  {
   "cell_type": "code",
   "execution_count": 5,
   "metadata": {},
   "outputs": [
    {
     "data": {
      "text/html": [
       "<div>\n",
       "<style scoped>\n",
       "    .dataframe tbody tr th:only-of-type {\n",
       "        vertical-align: middle;\n",
       "    }\n",
       "\n",
       "    .dataframe tbody tr th {\n",
       "        vertical-align: top;\n",
       "    }\n",
       "\n",
       "    .dataframe thead th {\n",
       "        text-align: right;\n",
       "    }\n",
       "</style>\n",
       "<table border=\"1\" class=\"dataframe\">\n",
       "  <thead>\n",
       "    <tr style=\"text-align: right;\">\n",
       "      <th></th>\n",
       "      <th>0</th>\n",
       "      <th>1</th>\n",
       "      <th>2</th>\n",
       "      <th>3</th>\n",
       "      <th>4</th>\n",
       "      <th>5</th>\n",
       "      <th>6</th>\n",
       "      <th>7</th>\n",
       "      <th>8</th>\n",
       "      <th>9</th>\n",
       "      <th>...</th>\n",
       "      <th>44</th>\n",
       "      <th>45</th>\n",
       "      <th>46</th>\n",
       "      <th>47</th>\n",
       "      <th>48</th>\n",
       "      <th>49</th>\n",
       "      <th>50</th>\n",
       "      <th>51</th>\n",
       "      <th>52</th>\n",
       "      <th>53</th>\n",
       "    </tr>\n",
       "  </thead>\n",
       "  <tbody>\n",
       "    <tr>\n",
       "      <th>count</th>\n",
       "      <td>3820.000000</td>\n",
       "      <td>3820.000000</td>\n",
       "      <td>3.820000e+03</td>\n",
       "      <td>3820.000000</td>\n",
       "      <td>3820.000000</td>\n",
       "      <td>3820.000000</td>\n",
       "      <td>3820.000000</td>\n",
       "      <td>3820.000000</td>\n",
       "      <td>3820.000000</td>\n",
       "      <td>3820.000000</td>\n",
       "      <td>...</td>\n",
       "      <td>3820.000000</td>\n",
       "      <td>3820.000000</td>\n",
       "      <td>3820.000000</td>\n",
       "      <td>3820.000000</td>\n",
       "      <td>3820.000000</td>\n",
       "      <td>3820.000000</td>\n",
       "      <td>3820.000000</td>\n",
       "      <td>3820.000000</td>\n",
       "      <td>3820.000000</td>\n",
       "      <td>3820.000000</td>\n",
       "    </tr>\n",
       "    <tr>\n",
       "      <th>mean</th>\n",
       "      <td>1.332478</td>\n",
       "      <td>5.323875</td>\n",
       "      <td>1.053956e-01</td>\n",
       "      <td>0.069902</td>\n",
       "      <td>2.177862</td>\n",
       "      <td>6.954766</td>\n",
       "      <td>28.332281</td>\n",
       "      <td>0.026375</td>\n",
       "      <td>5.405151</td>\n",
       "      <td>283.655126</td>\n",
       "      <td>...</td>\n",
       "      <td>3.097261</td>\n",
       "      <td>604.312052</td>\n",
       "      <td>474.518646</td>\n",
       "      <td>493.121204</td>\n",
       "      <td>149.378160</td>\n",
       "      <td>0.894648</td>\n",
       "      <td>2.370409</td>\n",
       "      <td>1369.241885</td>\n",
       "      <td>150.578272</td>\n",
       "      <td>774.780764</td>\n",
       "    </tr>\n",
       "    <tr>\n",
       "      <th>std</th>\n",
       "      <td>15.579214</td>\n",
       "      <td>65.289705</td>\n",
       "      <td>1.812016e+00</td>\n",
       "      <td>0.625769</td>\n",
       "      <td>1.477678</td>\n",
       "      <td>9.095396</td>\n",
       "      <td>368.018183</td>\n",
       "      <td>0.594549</td>\n",
       "      <td>65.412880</td>\n",
       "      <td>287.380691</td>\n",
       "      <td>...</td>\n",
       "      <td>37.492839</td>\n",
       "      <td>277.500543</td>\n",
       "      <td>204.007224</td>\n",
       "      <td>491.915636</td>\n",
       "      <td>230.081989</td>\n",
       "      <td>1.476588</td>\n",
       "      <td>8.214460</td>\n",
       "      <td>387.839069</td>\n",
       "      <td>76.825446</td>\n",
       "      <td>325.622800</td>\n",
       "    </tr>\n",
       "    <tr>\n",
       "      <th>min</th>\n",
       "      <td>0.000097</td>\n",
       "      <td>0.000047</td>\n",
       "      <td>9.999999e-07</td>\n",
       "      <td>0.000000</td>\n",
       "      <td>-2.624767</td>\n",
       "      <td>-2.750000</td>\n",
       "      <td>0.000160</td>\n",
       "      <td>0.000000</td>\n",
       "      <td>0.000108</td>\n",
       "      <td>64.666667</td>\n",
       "      <td>...</td>\n",
       "      <td>0.000310</td>\n",
       "      <td>83.310000</td>\n",
       "      <td>4.757174</td>\n",
       "      <td>62.000000</td>\n",
       "      <td>0.000000</td>\n",
       "      <td>-5.235293</td>\n",
       "      <td>-2.019192</td>\n",
       "      <td>141.000000</td>\n",
       "      <td>61.000000</td>\n",
       "      <td>89.508435</td>\n",
       "    </tr>\n",
       "    <tr>\n",
       "      <th>25%</th>\n",
       "      <td>0.005726</td>\n",
       "      <td>0.007946</td>\n",
       "      <td>1.106254e-03</td>\n",
       "      <td>0.001242</td>\n",
       "      <td>1.085203</td>\n",
       "      <td>1.577083</td>\n",
       "      <td>0.026852</td>\n",
       "      <td>0.000016</td>\n",
       "      <td>0.009998</td>\n",
       "      <td>112.150968</td>\n",
       "      <td>...</td>\n",
       "      <td>0.005369</td>\n",
       "      <td>399.870000</td>\n",
       "      <td>370.221288</td>\n",
       "      <td>168.000000</td>\n",
       "      <td>11.860800</td>\n",
       "      <td>0.034340</td>\n",
       "      <td>-1.653898</td>\n",
       "      <td>1130.000000</td>\n",
       "      <td>76.000000</td>\n",
       "      <td>552.557505</td>\n",
       "    </tr>\n",
       "    <tr>\n",
       "      <th>50%</th>\n",
       "      <td>0.012637</td>\n",
       "      <td>0.016799</td>\n",
       "      <td>2.796750e-03</td>\n",
       "      <td>0.003574</td>\n",
       "      <td>1.858385</td>\n",
       "      <td>3.534626</td>\n",
       "      <td>0.053482</td>\n",
       "      <td>0.000103</td>\n",
       "      <td>0.022811</td>\n",
       "      <td>143.724101</td>\n",
       "      <td>...</td>\n",
       "      <td>0.012594</td>\n",
       "      <td>577.135000</td>\n",
       "      <td>510.599261</td>\n",
       "      <td>240.000000</td>\n",
       "      <td>57.821400</td>\n",
       "      <td>0.416053</td>\n",
       "      <td>0.397923</td>\n",
       "      <td>1594.000000</td>\n",
       "      <td>133.000000</td>\n",
       "      <td>783.001559</td>\n",
       "    </tr>\n",
       "    <tr>\n",
       "      <th>75%</th>\n",
       "      <td>0.071216</td>\n",
       "      <td>0.140025</td>\n",
       "      <td>1.057355e-02</td>\n",
       "      <td>0.012393</td>\n",
       "      <td>3.032946</td>\n",
       "      <td>9.574888</td>\n",
       "      <td>0.624446</td>\n",
       "      <td>0.000164</td>\n",
       "      <td>0.159069</td>\n",
       "      <td>321.813596</td>\n",
       "      <td>...</td>\n",
       "      <td>0.073867</td>\n",
       "      <td>772.907500</td>\n",
       "      <td>654.076318</td>\n",
       "      <td>631.750000</td>\n",
       "      <td>146.962725</td>\n",
       "      <td>1.489333</td>\n",
       "      <td>1.619110</td>\n",
       "      <td>1646.000000</td>\n",
       "      <td>216.000000</td>\n",
       "      <td>1021.513932</td>\n",
       "    </tr>\n",
       "    <tr>\n",
       "      <th>max</th>\n",
       "      <td>582.693350</td>\n",
       "      <td>1949.488161</td>\n",
       "      <td>6.200286e+01</td>\n",
       "      <td>20.655980</td>\n",
       "      <td>9.141791</td>\n",
       "      <td>84.381947</td>\n",
       "      <td>12783.920643</td>\n",
       "      <td>27.864530</td>\n",
       "      <td>1949.529861</td>\n",
       "      <td>1667.208000</td>\n",
       "      <td>...</td>\n",
       "      <td>1277.096064</td>\n",
       "      <td>1620.640000</td>\n",
       "      <td>757.396865</td>\n",
       "      <td>1676.000000</td>\n",
       "      <td>1111.950000</td>\n",
       "      <td>9.567016</td>\n",
       "      <td>91.297446</td>\n",
       "      <td>1676.000000</td>\n",
       "      <td>304.000000</td>\n",
       "      <td>1635.989633</td>\n",
       "    </tr>\n",
       "  </tbody>\n",
       "</table>\n",
       "<p>8 rows × 54 columns</p>\n",
       "</div>"
      ],
      "text/plain": [
       "                0            1             2            3            4   \\\n",
       "count  3820.000000  3820.000000  3.820000e+03  3820.000000  3820.000000   \n",
       "mean      1.332478     5.323875  1.053956e-01     0.069902     2.177862   \n",
       "std      15.579214    65.289705  1.812016e+00     0.625769     1.477678   \n",
       "min       0.000097     0.000047  9.999999e-07     0.000000    -2.624767   \n",
       "25%       0.005726     0.007946  1.106254e-03     0.001242     1.085203   \n",
       "50%       0.012637     0.016799  2.796750e-03     0.003574     1.858385   \n",
       "75%       0.071216     0.140025  1.057355e-02     0.012393     3.032946   \n",
       "max     582.693350  1949.488161  6.200286e+01    20.655980     9.141791   \n",
       "\n",
       "                5             6            7            8            9   ...  \\\n",
       "count  3820.000000   3820.000000  3820.000000  3820.000000  3820.000000  ...   \n",
       "mean      6.954766     28.332281     0.026375     5.405151   283.655126  ...   \n",
       "std       9.095396    368.018183     0.594549    65.412880   287.380691  ...   \n",
       "min      -2.750000      0.000160     0.000000     0.000108    64.666667  ...   \n",
       "25%       1.577083      0.026852     0.000016     0.009998   112.150968  ...   \n",
       "50%       3.534626      0.053482     0.000103     0.022811   143.724101  ...   \n",
       "75%       9.574888      0.624446     0.000164     0.159069   321.813596  ...   \n",
       "max      84.381947  12783.920643    27.864530  1949.529861  1667.208000  ...   \n",
       "\n",
       "                44           45           46           47           48  \\\n",
       "count  3820.000000  3820.000000  3820.000000  3820.000000  3820.000000   \n",
       "mean      3.097261   604.312052   474.518646   493.121204   149.378160   \n",
       "std      37.492839   277.500543   204.007224   491.915636   230.081989   \n",
       "min       0.000310    83.310000     4.757174    62.000000     0.000000   \n",
       "25%       0.005369   399.870000   370.221288   168.000000    11.860800   \n",
       "50%       0.012594   577.135000   510.599261   240.000000    57.821400   \n",
       "75%       0.073867   772.907500   654.076318   631.750000   146.962725   \n",
       "max    1277.096064  1620.640000   757.396865  1676.000000  1111.950000   \n",
       "\n",
       "                49           50           51           52           53  \n",
       "count  3820.000000  3820.000000  3820.000000  3820.000000  3820.000000  \n",
       "mean      0.894648     2.370409  1369.241885   150.578272   774.780764  \n",
       "std       1.476588     8.214460   387.839069    76.825446   325.622800  \n",
       "min      -5.235293    -2.019192   141.000000    61.000000    89.508435  \n",
       "25%       0.034340    -1.653898  1130.000000    76.000000   552.557505  \n",
       "50%       0.416053     0.397923  1594.000000   133.000000   783.001559  \n",
       "75%       1.489333     1.619110  1646.000000   216.000000  1021.513932  \n",
       "max       9.567016    91.297446  1676.000000   304.000000  1635.989633  \n",
       "\n",
       "[8 rows x 54 columns]"
      ]
     },
     "execution_count": 5,
     "metadata": {},
     "output_type": "execute_result"
    }
   ],
   "source": [
    "X_training_bidir.describe()"
   ]
  },
  {
   "cell_type": "code",
   "execution_count": 6,
   "metadata": {},
   "outputs": [
    {
     "data": {
      "text/plain": [
       "(3820,)"
      ]
     },
     "execution_count": 6,
     "metadata": {},
     "output_type": "execute_result"
    }
   ],
   "source": [
    "y_training_bidir.shape"
   ]
  },
  {
   "cell_type": "code",
   "execution_count": 7,
   "metadata": {},
   "outputs": [
    {
     "data": {
      "text/html": [
       "<div>\n",
       "<style scoped>\n",
       "    .dataframe tbody tr th:only-of-type {\n",
       "        vertical-align: middle;\n",
       "    }\n",
       "\n",
       "    .dataframe tbody tr th {\n",
       "        vertical-align: top;\n",
       "    }\n",
       "\n",
       "    .dataframe thead th {\n",
       "        text-align: right;\n",
       "    }\n",
       "</style>\n",
       "<table border=\"1\" class=\"dataframe\">\n",
       "  <thead>\n",
       "    <tr style=\"text-align: right;\">\n",
       "      <th></th>\n",
       "      <th>0</th>\n",
       "      <th>1</th>\n",
       "      <th>2</th>\n",
       "      <th>3</th>\n",
       "      <th>4</th>\n",
       "      <th>5</th>\n",
       "      <th>6</th>\n",
       "      <th>7</th>\n",
       "      <th>8</th>\n",
       "      <th>9</th>\n",
       "      <th>10</th>\n",
       "      <th>11</th>\n",
       "      <th>12</th>\n",
       "      <th>13</th>\n",
       "      <th>14</th>\n",
       "      <th>15</th>\n",
       "      <th>16</th>\n",
       "      <th>17</th>\n",
       "    </tr>\n",
       "  </thead>\n",
       "  <tbody>\n",
       "    <tr>\n",
       "      <th>count</th>\n",
       "      <td>2421.000000</td>\n",
       "      <td>2421.000000</td>\n",
       "      <td>2.421000e+03</td>\n",
       "      <td>2.421000e+03</td>\n",
       "      <td>2421.000000</td>\n",
       "      <td>2421.000000</td>\n",
       "      <td>2421.000000</td>\n",
       "      <td>2421.000000</td>\n",
       "      <td>2421.000000</td>\n",
       "      <td>2421.000000</td>\n",
       "      <td>2421.000000</td>\n",
       "      <td>2421.000000</td>\n",
       "      <td>2421.000000</td>\n",
       "      <td>2421.000000</td>\n",
       "      <td>2421.000000</td>\n",
       "      <td>2421.000000</td>\n",
       "      <td>2421.000000</td>\n",
       "      <td>2421.000000</td>\n",
       "    </tr>\n",
       "    <tr>\n",
       "      <th>mean</th>\n",
       "      <td>0.239355</td>\n",
       "      <td>1.822079</td>\n",
       "      <td>4.027823e-03</td>\n",
       "      <td>5.058278e-03</td>\n",
       "      <td>4.017216</td>\n",
       "      <td>23.229229</td>\n",
       "      <td>17.376285</td>\n",
       "      <td>0.000082</td>\n",
       "      <td>1.834983</td>\n",
       "      <td>748.091805</td>\n",
       "      <td>351.040642</td>\n",
       "      <td>868.900454</td>\n",
       "      <td>95.560337</td>\n",
       "      <td>-0.502218</td>\n",
       "      <td>4.739149</td>\n",
       "      <td>1120.776126</td>\n",
       "      <td>168.023544</td>\n",
       "      <td>843.643489</td>\n",
       "    </tr>\n",
       "    <tr>\n",
       "      <th>std</th>\n",
       "      <td>3.997258</td>\n",
       "      <td>39.397897</td>\n",
       "      <td>2.638855e-02</td>\n",
       "      <td>3.204921e-02</td>\n",
       "      <td>2.265203</td>\n",
       "      <td>23.702235</td>\n",
       "      <td>393.914607</td>\n",
       "      <td>0.000158</td>\n",
       "      <td>39.403392</td>\n",
       "      <td>514.309346</td>\n",
       "      <td>264.080666</td>\n",
       "      <td>658.463166</td>\n",
       "      <td>190.559361</td>\n",
       "      <td>2.245961</td>\n",
       "      <td>14.264153</td>\n",
       "      <td>655.057807</td>\n",
       "      <td>153.040358</td>\n",
       "      <td>550.860352</td>\n",
       "    </tr>\n",
       "    <tr>\n",
       "      <th>min</th>\n",
       "      <td>0.000087</td>\n",
       "      <td>0.000057</td>\n",
       "      <td>9.999999e-07</td>\n",
       "      <td>1.685521e-13</td>\n",
       "      <td>-1.439182</td>\n",
       "      <td>-1.980735</td>\n",
       "      <td>0.000327</td>\n",
       "      <td>0.000000</td>\n",
       "      <td>0.000137</td>\n",
       "      <td>65.000000</td>\n",
       "      <td>0.460566</td>\n",
       "      <td>62.000000</td>\n",
       "      <td>0.000000</td>\n",
       "      <td>-9.702000</td>\n",
       "      <td>-2.019900</td>\n",
       "      <td>68.000000</td>\n",
       "      <td>62.000000</td>\n",
       "      <td>65.069194</td>\n",
       "    </tr>\n",
       "    <tr>\n",
       "      <th>25%</th>\n",
       "      <td>0.001454</td>\n",
       "      <td>0.002697</td>\n",
       "      <td>1.180000e-04</td>\n",
       "      <td>7.836356e-05</td>\n",
       "      <td>2.291043</td>\n",
       "      <td>5.743582</td>\n",
       "      <td>0.019119</td>\n",
       "      <td>0.000002</td>\n",
       "      <td>0.003215</td>\n",
       "      <td>123.960000</td>\n",
       "      <td>40.683260</td>\n",
       "      <td>138.000000</td>\n",
       "      <td>0.000000</td>\n",
       "      <td>-1.020628</td>\n",
       "      <td>-1.243943</td>\n",
       "      <td>198.000000</td>\n",
       "      <td>76.000000</td>\n",
       "      <td>131.181744</td>\n",
       "    </tr>\n",
       "    <tr>\n",
       "      <th>50%</th>\n",
       "      <td>0.003340</td>\n",
       "      <td>0.008333</td>\n",
       "      <td>3.355000e-04</td>\n",
       "      <td>1.838424e-04</td>\n",
       "      <td>3.468520</td>\n",
       "      <td>13.585992</td>\n",
       "      <td>0.050067</td>\n",
       "      <td>0.000007</td>\n",
       "      <td>0.009430</td>\n",
       "      <td>869.310000</td>\n",
       "      <td>356.073698</td>\n",
       "      <td>1194.000000</td>\n",
       "      <td>0.000000</td>\n",
       "      <td>-0.350602</td>\n",
       "      <td>1.174561</td>\n",
       "      <td>1476.000000</td>\n",
       "      <td>76.000000</td>\n",
       "      <td>1086.611375</td>\n",
       "    </tr>\n",
       "    <tr>\n",
       "      <th>75%</th>\n",
       "      <td>0.012421</td>\n",
       "      <td>0.027533</td>\n",
       "      <td>9.110000e-04</td>\n",
       "      <td>8.673210e-04</td>\n",
       "      <td>5.552119</td>\n",
       "      <td>34.620315</td>\n",
       "      <td>0.160139</td>\n",
       "      <td>0.000121</td>\n",
       "      <td>0.029599</td>\n",
       "      <td>1150.840000</td>\n",
       "      <td>619.363670</td>\n",
       "      <td>1476.000000</td>\n",
       "      <td>106.747200</td>\n",
       "      <td>0.561935</td>\n",
       "      <td>2.297498</td>\n",
       "      <td>1610.000000</td>\n",
       "      <td>222.000000</td>\n",
       "      <td>1292.594770</td>\n",
       "    </tr>\n",
       "    <tr>\n",
       "      <th>max</th>\n",
       "      <td>149.871076</td>\n",
       "      <td>1492.436792</td>\n",
       "      <td>8.174215e-01</td>\n",
       "      <td>9.856102e-01</td>\n",
       "      <td>9.849347</td>\n",
       "      <td>98.009791</td>\n",
       "      <td>14924.969473</td>\n",
       "      <td>0.005399</td>\n",
       "      <td>1492.499662</td>\n",
       "      <td>1675.080000</td>\n",
       "      <td>755.780064</td>\n",
       "      <td>1676.000000</td>\n",
       "      <td>1136.412900</td>\n",
       "      <td>9.702000</td>\n",
       "      <td>93.059700</td>\n",
       "      <td>1676.000000</td>\n",
       "      <td>1632.000000</td>\n",
       "      <td>1675.105012</td>\n",
       "    </tr>\n",
       "  </tbody>\n",
       "</table>\n",
       "</div>"
      ],
      "text/plain": [
       "                0            1             2             3            4   \\\n",
       "count  2421.000000  2421.000000  2.421000e+03  2.421000e+03  2421.000000   \n",
       "mean      0.239355     1.822079  4.027823e-03  5.058278e-03     4.017216   \n",
       "std       3.997258    39.397897  2.638855e-02  3.204921e-02     2.265203   \n",
       "min       0.000087     0.000057  9.999999e-07  1.685521e-13    -1.439182   \n",
       "25%       0.001454     0.002697  1.180000e-04  7.836356e-05     2.291043   \n",
       "50%       0.003340     0.008333  3.355000e-04  1.838424e-04     3.468520   \n",
       "75%       0.012421     0.027533  9.110000e-04  8.673210e-04     5.552119   \n",
       "max     149.871076  1492.436792  8.174215e-01  9.856102e-01     9.849347   \n",
       "\n",
       "                5             6            7            8            9   \\\n",
       "count  2421.000000   2421.000000  2421.000000  2421.000000  2421.000000   \n",
       "mean     23.229229     17.376285     0.000082     1.834983   748.091805   \n",
       "std      23.702235    393.914607     0.000158    39.403392   514.309346   \n",
       "min      -1.980735      0.000327     0.000000     0.000137    65.000000   \n",
       "25%       5.743582      0.019119     0.000002     0.003215   123.960000   \n",
       "50%      13.585992      0.050067     0.000007     0.009430   869.310000   \n",
       "75%      34.620315      0.160139     0.000121     0.029599  1150.840000   \n",
       "max      98.009791  14924.969473     0.005399  1492.499662  1675.080000   \n",
       "\n",
       "                10           11           12           13           14  \\\n",
       "count  2421.000000  2421.000000  2421.000000  2421.000000  2421.000000   \n",
       "mean    351.040642   868.900454    95.560337    -0.502218     4.739149   \n",
       "std     264.080666   658.463166   190.559361     2.245961    14.264153   \n",
       "min       0.460566    62.000000     0.000000    -9.702000    -2.019900   \n",
       "25%      40.683260   138.000000     0.000000    -1.020628    -1.243943   \n",
       "50%     356.073698  1194.000000     0.000000    -0.350602     1.174561   \n",
       "75%     619.363670  1476.000000   106.747200     0.561935     2.297498   \n",
       "max     755.780064  1676.000000  1136.412900     9.702000    93.059700   \n",
       "\n",
       "                15           16           17  \n",
       "count  2421.000000  2421.000000  2421.000000  \n",
       "mean   1120.776126   168.023544   843.643489  \n",
       "std     655.057807   153.040358   550.860352  \n",
       "min      68.000000    62.000000    65.069194  \n",
       "25%     198.000000    76.000000   131.181744  \n",
       "50%    1476.000000    76.000000  1086.611375  \n",
       "75%    1610.000000   222.000000  1292.594770  \n",
       "max    1676.000000  1632.000000  1675.105012  "
      ]
     },
     "execution_count": 7,
     "metadata": {},
     "output_type": "execute_result"
    }
   ],
   "source": [
    "X_training_unidir.describe()"
   ]
  },
  {
   "cell_type": "code",
   "execution_count": 8,
   "metadata": {},
   "outputs": [],
   "source": [
    "# CV from bidirectional dataset\n",
    "X_bidir_train, X_bidir_val, y_bidir_train, y_bidir_val = train_test_split(X_training_bidir, y_training_bidir, test_size=0.2, random_state=1)"
   ]
  },
  {
   "cell_type": "code",
   "execution_count": 9,
   "metadata": {},
   "outputs": [],
   "source": [
    "X_unidir_train, X_unidir_val, y_unidir_train, y_unidir_val = train_test_split(X_training_unidir, y_training_unidir, test_size=0.2, random_state=1)"
   ]
  },
  {
   "cell_type": "code",
   "execution_count": 10,
   "metadata": {},
   "outputs": [
    {
     "data": {
      "text/plain": [
       "(3056, 54)"
      ]
     },
     "execution_count": 10,
     "metadata": {},
     "output_type": "execute_result"
    }
   ],
   "source": [
    "X_bidir_train.shape"
   ]
  },
  {
   "cell_type": "code",
   "execution_count": 11,
   "metadata": {},
   "outputs": [
    {
     "data": {
      "text/plain": [
       "(764, 54)"
      ]
     },
     "execution_count": 11,
     "metadata": {},
     "output_type": "execute_result"
    }
   ],
   "source": [
    "X_bidir_val.shape"
   ]
  },
  {
   "cell_type": "markdown",
   "metadata": {},
   "source": [
    "***PCA***"
   ]
  },
  {
   "cell_type": "markdown",
   "metadata": {},
   "source": [
    "**Bidir**"
   ]
  },
  {
   "cell_type": "code",
   "execution_count": 12,
   "metadata": {},
   "outputs": [
    {
     "name": "stdout",
     "output_type": "stream",
     "text": [
      "Number of Principal Components that explain >=85% of Variance:  4\n",
      "Total Variance Explained by 4 components: 86.23518550396182%\n"
     ]
    }
   ],
   "source": [
    "#Create and fit PCA object\n",
    "pca = PCA()\n",
    "pca.fit(X_bidir_train)\n",
    "\n",
    "#Transforming x_train and x_test \n",
    "x_train_pca = pca.transform(X_bidir_train)\n",
    "x_val_pca = pca.transform(X_bidir_val)\n",
    "\n",
    "#Find number of components that explain predefined variance threshold\n",
    "sum_variance, component_count = 0, 0\n",
    "while sum_variance < 0.85:\n",
    "    sum_variance += pca.explained_variance_ratio_[component_count]\n",
    "    component_count += 1\n",
    "    \n",
    "print('Number of Principal Components that explain >=85% of Variance: ', component_count)\n",
    "print('Total Variance Explained by '+str(component_count)+' components:', str(sum_variance*100)+'%')"
   ]
  },
  {
   "cell_type": "code",
   "execution_count": 13,
   "metadata": {},
   "outputs": [],
   "source": [
    "#Create and fit PCA object\n",
    "pca = PCA(n_components=component_count)\n",
    "pca.fit(X_bidir_train)\n",
    "\n",
    "#Transforming x_train and x_val \n",
    "x_train_pca = pca.transform(X_bidir_train)\n",
    "x_val_pca = pca.transform(X_bidir_val)\n",
    "\n",
    "#Add constant to x_train and x_val\n",
    "x_train_pca_cst = sm.add_constant(x_train_pca)\n",
    "x_val_pca_cst = sm.add_constant(x_val_pca)\n",
    "\n",
    "#Test dataset\n",
    "# Transform x_test\n",
    "x_test_pca = pca.transform(X_test_bidir)\n",
    "\n",
    "# Add constant\n",
    "x_test_pca_cst = sm.add_constant(x_test_pca)"
   ]
  },
  {
   "cell_type": "code",
   "execution_count": 14,
   "metadata": {},
   "outputs": [
    {
     "data": {
      "text/plain": [
       "Text(0, 0.5, 'Second Principal Component')"
      ]
     },
     "execution_count": 14,
     "metadata": {},
     "output_type": "execute_result"
    },
    {
     "data": {
      "image/png": "[encoded data removed]",
      "text/plain": [
       "<Figure size 432x288 with 2 Axes>"
      ]
     },
     "metadata": {
      "needs_background": "light"
     },
     "output_type": "display_data"
    }
   ],
   "source": [
    "pca = PCA(n_components=2)\n",
    "proj = pca.fit_transform(X_bidir_train)\n",
    "plt.scatter(proj[:, 0], proj[:, 1], c=y_bidir_train)\n",
    "plt.colorbar()\n",
    "plt.xlabel(\"First Principal Component\")\n",
    "plt.ylabel(\"Second Principal Component\")"
   ]
  },
  {
   "cell_type": "markdown",
   "metadata": {},
   "source": [
    "**Unidir**"
   ]
  },
  {
   "cell_type": "code",
   "execution_count": 15,
   "metadata": {},
   "outputs": [
    {
     "name": "stdout",
     "output_type": "stream",
     "text": [
      "Number of Principal Components that explain >=85% of Variance:  2\n",
      "Total Variance Explained by 2 components: 92.04307054701216%\n"
     ]
    }
   ],
   "source": [
    "#Create and fit PCA object\n",
    "pca = PCA()\n",
    "pca.fit(X_unidir_train)\n",
    "\n",
    "#Transforming x_train and x_test \n",
    "x_train_pca_uni = pca.transform(X_unidir_train)\n",
    "x_val_pca_uni = pca.transform(X_unidir_val)\n",
    "\n",
    "#Find number of components that explain predefined variance threshold\n",
    "sum_variance, component_count = 0, 0\n",
    "while sum_variance < 0.85:\n",
    "    sum_variance += pca.explained_variance_ratio_[component_count]\n",
    "    component_count += 1\n",
    "    \n",
    "print('Number of Principal Components that explain >=85% of Variance: ', component_count)\n",
    "print('Total Variance Explained by '+str(component_count)+' components:', str(sum_variance*100)+'%')"
   ]
  },
  {
   "cell_type": "code",
   "execution_count": 16,
   "metadata": {},
   "outputs": [],
   "source": [
    "#Create and fit PCA object\n",
    "pca = PCA(n_components=component_count)\n",
    "pca.fit(X_unidir_train)\n",
    "\n",
    "#Transforming x_train and x_val \n",
    "x_train_pca_uni = pca.transform(X_unidir_train)\n",
    "x_val_pca_uni = pca.transform(X_unidir_val)\n",
    "\n",
    "#Add constant to x_train and x_val\n",
    "x_train_pca_uni_cst = sm.add_constant(x_train_pca_uni)\n",
    "x_val_pca_uni_cst = sm.add_constant(x_val_pca_uni)\n",
    "\n",
    "# TEST DATASET\n",
    "# Transform x_test\n",
    "x_test_pca_uni = pca.transform(X_test_unidir)\n",
    "\n",
    "# Add constant\n",
    "x_test_pca_uni_cst = sm.add_constant(x_test_pca_uni)"
   ]
  },
  {
   "cell_type": "code",
   "execution_count": 17,
   "metadata": {},
   "outputs": [
    {
     "data": {
      "text/plain": [
       "Text(0, 0.5, 'Second Principal Component')"
      ]
     },
     "execution_count": 17,
     "metadata": {},
     "output_type": "execute_result"
    },
    {
     "data": {
      "image/png": "[encoded data removed]",
      "text/plain": [
       "<Figure size 432x288 with 2 Axes>"
      ]
     },
     "metadata": {
      "needs_background": "light"
     },
     "output_type": "display_data"
    }
   ],
   "source": [
    "pca = PCA(n_components=2)\n",
    "proj = pca.fit_transform(X_unidir_train)\n",
    "plt.scatter(proj[:, 0], proj[:, 1], c=y_unidir_train)\n",
    "plt.colorbar()\n",
    "plt.xlabel(\"First Principal Component\")\n",
    "plt.ylabel(\"Second Principal Component\")"
   ]
  },
  {
   "cell_type": "markdown",
   "metadata": {},
   "source": [
    "***Logistic Regression***"
   ]
  },
  {
   "cell_type": "markdown",
   "metadata": {},
   "source": [
    "**Bidir**"
   ]
  },
  {
   "cell_type": "code",
   "execution_count": 18,
   "metadata": {},
   "outputs": [
    {
     "name": "stdout",
     "output_type": "stream",
     "text": [
      "Training Set Accuracy: 0.9950916230366492\n",
      "Validation Set Accuracy: 0.9986910994764397\n"
     ]
    }
   ],
   "source": [
    "#Training\n",
    "model_lr = LogisticRegression(C=100000).fit(x_train_pca_cst, y_bidir_train)\n",
    "\n",
    "#Predict\n",
    "y_pred_train = model_lr.predict(x_train_pca_cst)\n",
    "y_pred_val = model_lr.predict(x_val_pca_cst)\n",
    "\n",
    "print(\"Training Set Accuracy:\", accuracy_score(y_bidir_train, y_pred_train))\n",
    "print(\"Validation Set Accuracy:\", accuracy_score(y_bidir_val, y_pred_val))"
   ]
  },
  {
   "cell_type": "code",
   "execution_count": 19,
   "metadata": {},
   "outputs": [
    {
     "name": "stdout",
     "output_type": "stream",
     "text": [
      "Training data Classification report for classifier LogisticRegression(C=100000):\n",
      "              precision    recall  f1-score   support\n",
      "\n",
      "         0.0       1.00      0.99      0.99      1454\n",
      "         1.0       1.00      1.00      1.00      1602\n",
      "\n",
      "    accuracy                           1.00      3056\n",
      "   macro avg       1.00      1.00      1.00      3056\n",
      "weighted avg       1.00      1.00      1.00      3056\n",
      "\n",
      "\n"
     ]
    }
   ],
   "source": [
    "print(f\"Training data Classification report for classifier {model_lr}:\\n\"\n",
    "f\"{metrics.classification_report(y_bidir_train, y_pred_train)}\\n\")"
   ]
  },
  {
   "cell_type": "code",
   "execution_count": 20,
   "metadata": {},
   "outputs": [
    {
     "name": "stdout",
     "output_type": "stream",
     "text": [
      "Validation data Classification report for classifier LogisticRegression(C=100000):\n",
      "              precision    recall  f1-score   support\n",
      "\n",
      "         0.0       1.00      1.00      1.00       387\n",
      "         1.0       1.00      1.00      1.00       377\n",
      "\n",
      "    accuracy                           1.00       764\n",
      "   macro avg       1.00      1.00      1.00       764\n",
      "weighted avg       1.00      1.00      1.00       764\n",
      "\n",
      "\n"
     ]
    }
   ],
   "source": [
    "print(f\"Validation data Classification report for classifier {model_lr}:\\n\"\n",
    "f\"{metrics.classification_report(y_bidir_val, y_pred_val)}\\n\")"
   ]
  },
  {
   "cell_type": "code",
   "execution_count": 21,
   "metadata": {},
   "outputs": [
    {
     "name": "stdout",
     "output_type": "stream",
     "text": [
      "Validation data Confusion matrix:\n",
      "[[387   0]\n",
      " [  1 376]]\n"
     ]
    },
    {
     "data": {
      "image/png": "[encoded data removed]",
      "text/plain": [
       "<Figure size 432x288 with 2 Axes>"
      ]
     },
     "metadata": {
      "needs_background": "light"
     },
     "output_type": "display_data"
    }
   ],
   "source": [
    "disp = metrics.plot_confusion_matrix(model_lr, x_val_pca_cst, y_bidir_val)\n",
    "disp.figure_.suptitle(\"Validation data Confusion Matrix\")\n",
    "print(f\"Validation data Confusion matrix:\\n{disp.confusion_matrix}\")\n",
    "\n",
    "plt.show()"
   ]
  },
  {
   "cell_type": "code",
   "execution_count": 22,
   "metadata": {},
   "outputs": [
    {
     "name": "stdout",
     "output_type": "stream",
     "text": [
      "Test Set Accuracy: 0.9950151372794654\n"
     ]
    }
   ],
   "source": [
    "#Predict\n",
    "y_pred_test = model_lr.predict(x_test_pca_cst)\n",
    "\n",
    "print(\"Test Set Accuracy:\", accuracy_score(y_test_bidir, y_pred_test))"
   ]
  },
  {
   "cell_type": "code",
   "execution_count": 23,
   "metadata": {},
   "outputs": [
    {
     "data": {
      "text/html": [
       "<div>\n",
       "<style scoped>\n",
       "    .dataframe tbody tr th:only-of-type {\n",
       "        vertical-align: middle;\n",
       "    }\n",
       "\n",
       "    .dataframe tbody tr th {\n",
       "        vertical-align: top;\n",
       "    }\n",
       "\n",
       "    .dataframe thead th {\n",
       "        text-align: right;\n",
       "    }\n",
       "</style>\n",
       "<table border=\"1\" class=\"dataframe\">\n",
       "  <thead>\n",
       "    <tr style=\"text-align: right;\">\n",
       "      <th>Predicted</th>\n",
       "      <th>0.0</th>\n",
       "      <th>1.0</th>\n",
       "      <th>All</th>\n",
       "    </tr>\n",
       "    <tr>\n",
       "      <th>Actual</th>\n",
       "      <th></th>\n",
       "      <th></th>\n",
       "      <th></th>\n",
       "    </tr>\n",
       "  </thead>\n",
       "  <tbody>\n",
       "    <tr>\n",
       "      <th>0.0</th>\n",
       "      <td>18075</td>\n",
       "      <td>104</td>\n",
       "      <td>18179</td>\n",
       "    </tr>\n",
       "    <tr>\n",
       "      <th>1.0</th>\n",
       "      <td>87</td>\n",
       "      <td>20050</td>\n",
       "      <td>20137</td>\n",
       "    </tr>\n",
       "    <tr>\n",
       "      <th>All</th>\n",
       "      <td>18162</td>\n",
       "      <td>20154</td>\n",
       "      <td>38316</td>\n",
       "    </tr>\n",
       "  </tbody>\n",
       "</table>\n",
       "</div>"
      ],
      "text/plain": [
       "Predicted    0.0    1.0    All\n",
       "Actual                        \n",
       "0.0        18075    104  18179\n",
       "1.0           87  20050  20137\n",
       "All        18162  20154  38316"
      ]
     },
     "execution_count": 23,
     "metadata": {},
     "output_type": "execute_result"
    }
   ],
   "source": [
    "pd.crosstab(y_test_bidir, y_pred_test, margins=True, rownames=['Actual'], colnames=['Predicted'])"
   ]
  },
  {
   "cell_type": "code",
   "execution_count": 24,
   "metadata": {},
   "outputs": [
    {
     "name": "stdout",
     "output_type": "stream",
     "text": [
      "Classification report for classifier LogisticRegression(C=100000):\n",
      "              precision    recall  f1-score   support\n",
      "\n",
      "         0.0       1.00      0.99      0.99     18179\n",
      "         1.0       0.99      1.00      1.00     20137\n",
      "\n",
      "    accuracy                           1.00     38316\n",
      "   macro avg       1.00      0.99      1.00     38316\n",
      "weighted avg       1.00      1.00      1.00     38316\n",
      "\n",
      "\n"
     ]
    }
   ],
   "source": [
    "print(f\"Classification report for classifier {model_lr}:\\n\"\n",
    "f\"{metrics.classification_report(y_test_bidir, y_pred_test)}\\n\")"
   ]
  },
  {
   "cell_type": "code",
   "execution_count": 25,
   "metadata": {},
   "outputs": [
    {
     "name": "stdout",
     "output_type": "stream",
     "text": [
      "Test data Confusion matrix:\n",
      "[[18075   104]\n",
      " [   87 20050]]\n"
     ]
    },
    {
     "data": {
      "image/png": "[encoded data removed]",
      "text/plain": [
       "<Figure size 432x288 with 2 Axes>"
      ]
     },
     "metadata": {
      "needs_background": "light"
     },
     "output_type": "display_data"
    }
   ],
   "source": [
    "disp = metrics.plot_confusion_matrix(model_lr, x_test_pca_cst, y_test_bidir)\n",
    "disp.figure_.suptitle(\"Test data Confusion Matrix\")\n",
    "print(f\"Test data Confusion matrix:\\n{disp.confusion_matrix}\")\n",
    "\n",
    "plt.show()"
   ]
  },
  {
   "cell_type": "markdown",
   "metadata": {},
   "source": [
    "**Unidir**"
   ]
  },
  {
   "cell_type": "code",
   "execution_count": 26,
   "metadata": {},
   "outputs": [
    {
     "name": "stdout",
     "output_type": "stream",
     "text": [
      "Training Set Accuracy: 0.609504132231405\n",
      "Validation Set Accuracy: 0.622680412371134\n"
     ]
    }
   ],
   "source": [
    "#Training\n",
    "model_lr_uni = LogisticRegression(C=100000).fit(x_train_pca_uni_cst, y_unidir_train)\n",
    "\n",
    "#Predict\n",
    "y_pred_train_uni = model_lr_uni.predict(x_train_pca_uni_cst)\n",
    "y_pred_val_uni = model_lr_uni.predict(x_val_pca_uni_cst)\n",
    "\n",
    "print(\"Training Set Accuracy:\", accuracy_score(y_unidir_train, y_pred_train_uni))\n",
    "print(\"Validation Set Accuracy:\", accuracy_score(y_unidir_val, y_pred_val_uni))"
   ]
  },
  {
   "cell_type": "code",
   "execution_count": 27,
   "metadata": {},
   "outputs": [
    {
     "name": "stdout",
     "output_type": "stream",
     "text": [
      "Training data Classification report for classifier LogisticRegression(C=100000):\n",
      "              precision    recall  f1-score   support\n",
      "\n",
      "         0.0       0.57      0.69      0.62       899\n",
      "         1.0       0.67      0.54      0.60      1037\n",
      "\n",
      "    accuracy                           0.61      1936\n",
      "   macro avg       0.62      0.61      0.61      1936\n",
      "weighted avg       0.62      0.61      0.61      1936\n",
      "\n",
      "\n"
     ]
    }
   ],
   "source": [
    "print(f\"Training data Classification report for classifier {model_lr_uni}:\\n\"\n",
    "f\"{metrics.classification_report(y_unidir_train, y_pred_train_uni)}\\n\")"
   ]
  },
  {
   "cell_type": "code",
   "execution_count": 28,
   "metadata": {},
   "outputs": [
    {
     "name": "stdout",
     "output_type": "stream",
     "text": [
      "Validation data Classification report for classifier LogisticRegression(C=100000):\n",
      "              precision    recall  f1-score   support\n",
      "\n",
      "         0.0       0.60      0.72      0.66       243\n",
      "         1.0       0.65      0.52      0.58       242\n",
      "\n",
      "    accuracy                           0.62       485\n",
      "   macro avg       0.63      0.62      0.62       485\n",
      "weighted avg       0.63      0.62      0.62       485\n",
      "\n",
      "\n"
     ]
    }
   ],
   "source": [
    "print(f\"Validation data Classification report for classifier {model_lr_uni}:\\n\"\n",
    "f\"{metrics.classification_report(y_unidir_val, y_pred_val_uni)}\\n\")"
   ]
  },
  {
   "cell_type": "code",
   "execution_count": 29,
   "metadata": {},
   "outputs": [
    {
     "name": "stdout",
     "output_type": "stream",
     "text": [
      "Validation data Confusion matrix:\n",
      "[[175  68]\n",
      " [115 127]]\n"
     ]
    },
    {
     "data": {
      "image/png": "[encoded data removed]",
      "text/plain": [
       "<Figure size 432x288 with 2 Axes>"
      ]
     },
     "metadata": {
      "needs_background": "light"
     },
     "output_type": "display_data"
    }
   ],
   "source": [
    "disp = metrics.plot_confusion_matrix(model_lr_uni, x_val_pca_uni_cst, y_unidir_val)\n",
    "disp.figure_.suptitle(\"Validation data Confusion Matrix\")\n",
    "print(f\"Validation data Confusion matrix:\\n{disp.confusion_matrix}\")\n",
    "\n",
    "plt.show()"
   ]
  },
  {
   "cell_type": "code",
   "execution_count": 30,
   "metadata": {},
   "outputs": [
    {
     "name": "stdout",
     "output_type": "stream",
     "text": [
      "Test Set Accuracy: 0.6120186939079366\n"
     ]
    }
   ],
   "source": [
    "#Predict\n",
    "y_pred_uni_test = model_lr_uni.predict(x_test_pca_uni_cst)\n",
    "\n",
    "print(\"Test Set Accuracy:\", accuracy_score(y_test_unidir, y_pred_uni_test))"
   ]
  },
  {
   "cell_type": "code",
   "execution_count": 31,
   "metadata": {},
   "outputs": [
    {
     "data": {
      "text/html": [
       "<div>\n",
       "<style scoped>\n",
       "    .dataframe tbody tr th:only-of-type {\n",
       "        vertical-align: middle;\n",
       "    }\n",
       "\n",
       "    .dataframe tbody tr th {\n",
       "        vertical-align: top;\n",
       "    }\n",
       "\n",
       "    .dataframe thead th {\n",
       "        text-align: right;\n",
       "    }\n",
       "</style>\n",
       "<table border=\"1\" class=\"dataframe\">\n",
       "  <thead>\n",
       "    <tr style=\"text-align: right;\">\n",
       "      <th>Predicted</th>\n",
       "      <th>0.0</th>\n",
       "      <th>1.0</th>\n",
       "      <th>All</th>\n",
       "    </tr>\n",
       "    <tr>\n",
       "      <th>Actual</th>\n",
       "      <th></th>\n",
       "      <th></th>\n",
       "      <th></th>\n",
       "    </tr>\n",
       "  </thead>\n",
       "  <tbody>\n",
       "    <tr>\n",
       "      <th>0.0</th>\n",
       "      <td>7843</td>\n",
       "      <td>3444</td>\n",
       "      <td>11287</td>\n",
       "    </tr>\n",
       "    <tr>\n",
       "      <th>1.0</th>\n",
       "      <td>5937</td>\n",
       "      <td>6955</td>\n",
       "      <td>12892</td>\n",
       "    </tr>\n",
       "    <tr>\n",
       "      <th>All</th>\n",
       "      <td>13780</td>\n",
       "      <td>10399</td>\n",
       "      <td>24179</td>\n",
       "    </tr>\n",
       "  </tbody>\n",
       "</table>\n",
       "</div>"
      ],
      "text/plain": [
       "Predicted    0.0    1.0    All\n",
       "Actual                        \n",
       "0.0         7843   3444  11287\n",
       "1.0         5937   6955  12892\n",
       "All        13780  10399  24179"
      ]
     },
     "execution_count": 31,
     "metadata": {},
     "output_type": "execute_result"
    }
   ],
   "source": [
    "pd.crosstab(y_test_unidir, y_pred_uni_test, margins=True, rownames=['Actual'], colnames=['Predicted'])"
   ]
  },
  {
   "cell_type": "code",
   "execution_count": 32,
   "metadata": {},
   "outputs": [
    {
     "name": "stdout",
     "output_type": "stream",
     "text": [
      "Classification report for classifier LogisticRegression(C=100000):\n",
      "              precision    recall  f1-score   support\n",
      "\n",
      "         0.0       0.57      0.69      0.63     11287\n",
      "         1.0       0.67      0.54      0.60     12892\n",
      "\n",
      "    accuracy                           0.61     24179\n",
      "   macro avg       0.62      0.62      0.61     24179\n",
      "weighted avg       0.62      0.61      0.61     24179\n",
      "\n",
      "\n"
     ]
    }
   ],
   "source": [
    "print(f\"Classification report for classifier {model_lr_uni}:\\n\"\n",
    "f\"{metrics.classification_report(y_test_unidir, y_pred_uni_test)}\\n\")"
   ]
  },
  {
   "cell_type": "code",
   "execution_count": 33,
   "metadata": {},
   "outputs": [
    {
     "name": "stdout",
     "output_type": "stream",
     "text": [
      "Test data Confusion matrix:\n",
      "[[7843 3444]\n",
      " [5937 6955]]\n"
     ]
    },
    {
     "data": {
      "image/png": "[encoded data removed]",
      "text/plain": [
       "<Figure size 432x288 with 2 Axes>"
      ]
     },
     "metadata": {
      "needs_background": "light"
     },
     "output_type": "display_data"
    }
   ],
   "source": [
    "disp = metrics.plot_confusion_matrix(model_lr_uni, x_test_pca_uni_cst, y_test_unidir)\n",
    "disp.figure_.suptitle(\"Test data Confusion Matrix\")\n",
    "print(f\"Test data Confusion matrix:\\n{disp.confusion_matrix}\")\n",
    "\n",
    "plt.show()"
   ]
  },
  {
   "cell_type": "markdown",
   "metadata": {},
   "source": []
  },
  {
   "cell_type": "markdown",
   "metadata": {},
   "source": [
    "*************"
   ]
  },
  {
   "cell_type": "markdown",
   "metadata": {},
   "source": [
    "***LDA***"
   ]
  },
  {
   "cell_type": "markdown",
   "metadata": {},
   "source": [
    "**Bidir**"
   ]
  },
  {
   "cell_type": "code",
   "execution_count": 34,
   "metadata": {},
   "outputs": [
    {
     "name": "stdout",
     "output_type": "stream",
     "text": [
      "Training Set Accuracy: 0.912303664921466\n",
      "Validation Set Accuracy: 0.9057591623036649\n"
     ]
    }
   ],
   "source": [
    "#Training\n",
    "model_lda = LinearDiscriminantAnalysis(solver='svd').fit(x_train_pca_cst, y_bidir_train)\n",
    "\n",
    "#Predict\n",
    "lday_pred_train = model_lda.predict(x_train_pca_cst)\n",
    "lday_pred_val = model_lda.predict(x_val_pca_cst)\n",
    "\n",
    "print(\"Training Set Accuracy:\", accuracy_score(y_bidir_train, lday_pred_train))\n",
    "print(\"Validation Set Accuracy:\", accuracy_score(y_bidir_val, lday_pred_val))"
   ]
  },
  {
   "cell_type": "code",
   "execution_count": 35,
   "metadata": {},
   "outputs": [
    {
     "name": "stdout",
     "output_type": "stream",
     "text": [
      "Training data Classification report for classifier LinearDiscriminantAnalysis():\n",
      "              precision    recall  f1-score   support\n",
      "\n",
      "         0.0       1.00      0.82      0.90      1454\n",
      "         1.0       0.86      1.00      0.92      1602\n",
      "\n",
      "    accuracy                           0.91      3056\n",
      "   macro avg       0.93      0.91      0.91      3056\n",
      "weighted avg       0.92      0.91      0.91      3056\n",
      "\n",
      "\n"
     ]
    }
   ],
   "source": [
    "print(f\"Training data Classification report for classifier {model_lda}:\\n\"\n",
    "f\"{metrics.classification_report(y_bidir_train, lday_pred_train)}\\n\")"
   ]
  },
  {
   "cell_type": "code",
   "execution_count": 36,
   "metadata": {},
   "outputs": [
    {
     "name": "stdout",
     "output_type": "stream",
     "text": [
      "Validation data Classification report for classifier LinearDiscriminantAnalysis():\n",
      "              precision    recall  f1-score   support\n",
      "\n",
      "         0.0       1.00      0.81      0.90       387\n",
      "         1.0       0.84      1.00      0.91       377\n",
      "\n",
      "    accuracy                           0.91       764\n",
      "   macro avg       0.92      0.91      0.91       764\n",
      "weighted avg       0.92      0.91      0.91       764\n",
      "\n",
      "\n"
     ]
    }
   ],
   "source": [
    "print(f\"Validation data Classification report for classifier {model_lda}:\\n\"\n",
    "f\"{metrics.classification_report(y_bidir_val, lday_pred_val)}\\n\")"
   ]
  },
  {
   "cell_type": "code",
   "execution_count": 37,
   "metadata": {},
   "outputs": [
    {
     "name": "stdout",
     "output_type": "stream",
     "text": [
      "Validation data Confusion matrix:\n",
      "[[315  72]\n",
      " [  0 377]]\n"
     ]
    },
    {
     "data": {
      "image/png": "[encoded data removed]",
      "text/plain": [
       "<Figure size 432x288 with 2 Axes>"
      ]
     },
     "metadata": {
      "needs_background": "light"
     },
     "output_type": "display_data"
    }
   ],
   "source": [
    "disp = metrics.plot_confusion_matrix(model_lda, x_val_pca_cst, y_bidir_val)\n",
    "disp.figure_.suptitle(\"Validation data Confusion Matrix\")\n",
    "print(f\"Validation data Confusion matrix:\\n{disp.confusion_matrix}\")\n",
    "\n",
    "plt.show()"
   ]
  },
  {
   "cell_type": "code",
   "execution_count": 38,
   "metadata": {},
   "outputs": [
    {
     "name": "stdout",
     "output_type": "stream",
     "text": [
      "Test Set Accuracy: 0.9167971604551624\n"
     ]
    }
   ],
   "source": [
    "#Predict\n",
    "lday_pred_test = model_lda.predict(x_test_pca_cst)\n",
    "\n",
    "print(\"Test Set Accuracy:\", accuracy_score(y_test_bidir, lday_pred_test))"
   ]
  },
  {
   "cell_type": "code",
   "execution_count": 39,
   "metadata": {},
   "outputs": [
    {
     "data": {
      "text/html": [
       "<div>\n",
       "<style scoped>\n",
       "    .dataframe tbody tr th:only-of-type {\n",
       "        vertical-align: middle;\n",
       "    }\n",
       "\n",
       "    .dataframe tbody tr th {\n",
       "        vertical-align: top;\n",
       "    }\n",
       "\n",
       "    .dataframe thead th {\n",
       "        text-align: right;\n",
       "    }\n",
       "</style>\n",
       "<table border=\"1\" class=\"dataframe\">\n",
       "  <thead>\n",
       "    <tr style=\"text-align: right;\">\n",
       "      <th>Predicted</th>\n",
       "      <th>0.0</th>\n",
       "      <th>1.0</th>\n",
       "      <th>All</th>\n",
       "    </tr>\n",
       "    <tr>\n",
       "      <th>Actual</th>\n",
       "      <th></th>\n",
       "      <th></th>\n",
       "      <th></th>\n",
       "    </tr>\n",
       "  </thead>\n",
       "  <tbody>\n",
       "    <tr>\n",
       "      <th>0.0</th>\n",
       "      <td>14994</td>\n",
       "      <td>3185</td>\n",
       "      <td>18179</td>\n",
       "    </tr>\n",
       "    <tr>\n",
       "      <th>1.0</th>\n",
       "      <td>3</td>\n",
       "      <td>20134</td>\n",
       "      <td>20137</td>\n",
       "    </tr>\n",
       "    <tr>\n",
       "      <th>All</th>\n",
       "      <td>14997</td>\n",
       "      <td>23319</td>\n",
       "      <td>38316</td>\n",
       "    </tr>\n",
       "  </tbody>\n",
       "</table>\n",
       "</div>"
      ],
      "text/plain": [
       "Predicted    0.0    1.0    All\n",
       "Actual                        \n",
       "0.0        14994   3185  18179\n",
       "1.0            3  20134  20137\n",
       "All        14997  23319  38316"
      ]
     },
     "execution_count": 39,
     "metadata": {},
     "output_type": "execute_result"
    }
   ],
   "source": [
    "pd.crosstab(y_test_bidir, lday_pred_test, margins=True, rownames=['Actual'], colnames=['Predicted'])"
   ]
  },
  {
   "cell_type": "code",
   "execution_count": 40,
   "metadata": {},
   "outputs": [
    {
     "name": "stdout",
     "output_type": "stream",
     "text": [
      "Classification report for classifier LinearDiscriminantAnalysis():\n",
      "              precision    recall  f1-score   support\n",
      "\n",
      "         0.0       1.00      0.82      0.90     18179\n",
      "         1.0       0.86      1.00      0.93     20137\n",
      "\n",
      "    accuracy                           0.92     38316\n",
      "   macro avg       0.93      0.91      0.92     38316\n",
      "weighted avg       0.93      0.92      0.92     38316\n",
      "\n",
      "\n"
     ]
    }
   ],
   "source": [
    "print(f\"Classification report for classifier {model_lda}:\\n\"\n",
    "f\"{metrics.classification_report(y_test_bidir, lday_pred_test)}\\n\")"
   ]
  },
  {
   "cell_type": "code",
   "execution_count": 41,
   "metadata": {},
   "outputs": [
    {
     "name": "stdout",
     "output_type": "stream",
     "text": [
      "Test data Confusion matrix:\n",
      "[[14994  3185]\n",
      " [    3 20134]]\n"
     ]
    },
    {
     "data": {
      "image/png": "[encoded data removed]",
      "text/plain": [
       "<Figure size 432x288 with 2 Axes>"
      ]
     },
     "metadata": {
      "needs_background": "light"
     },
     "output_type": "display_data"
    }
   ],
   "source": [
    "disp = metrics.plot_confusion_matrix(model_lda, x_test_pca_cst, y_test_bidir)\n",
    "disp.figure_.suptitle(\"Test data Confusion Matrix\")\n",
    "print(f\"Test data Confusion matrix:\\n{disp.confusion_matrix}\")\n",
    "\n",
    "plt.show()"
   ]
  },
  {
   "cell_type": "code",
   "execution_count": null,
   "metadata": {},
   "outputs": [],
   "source": []
  },
  {
   "cell_type": "markdown",
   "metadata": {},
   "source": [
    "**Unidir**"
   ]
  },
  {
   "cell_type": "code",
   "execution_count": 42,
   "metadata": {},
   "outputs": [
    {
     "name": "stdout",
     "output_type": "stream",
     "text": [
      "Training Set Accuracy: 0.6089876033057852\n",
      "Validation Set Accuracy: 0.6247422680412371\n"
     ]
    }
   ],
   "source": [
    "#Training\n",
    "model_lda_uni = LinearDiscriminantAnalysis(solver='svd').fit(x_train_pca_uni_cst, y_unidir_train)\n",
    "\n",
    "#Predict\n",
    "lday_pred_train_uni = model_lda_uni.predict(x_train_pca_uni_cst)\n",
    "lday_pred_val_uni = model_lda_uni.predict(x_val_pca_uni_cst)\n",
    "\n",
    "print(\"Training Set Accuracy:\", accuracy_score(y_unidir_train, lday_pred_train_uni))\n",
    "print(\"Validation Set Accuracy:\", accuracy_score(y_unidir_val, lday_pred_val_uni))"
   ]
  },
  {
   "cell_type": "code",
   "execution_count": 43,
   "metadata": {},
   "outputs": [
    {
     "name": "stdout",
     "output_type": "stream",
     "text": [
      "Training data Classification report for classifier LinearDiscriminantAnalysis():\n",
      "              precision    recall  f1-score   support\n",
      "\n",
      "         0.0       0.57      0.68      0.62       899\n",
      "         1.0       0.67      0.54      0.60      1037\n",
      "\n",
      "    accuracy                           0.61      1936\n",
      "   macro avg       0.62      0.61      0.61      1936\n",
      "weighted avg       0.62      0.61      0.61      1936\n",
      "\n",
      "\n"
     ]
    }
   ],
   "source": [
    "print(f\"Training data Classification report for classifier {model_lda_uni}:\\n\"\n",
    "f\"{metrics.classification_report(y_unidir_train, lday_pred_train_uni)}\\n\")"
   ]
  },
  {
   "cell_type": "code",
   "execution_count": 44,
   "metadata": {},
   "outputs": [
    {
     "name": "stdout",
     "output_type": "stream",
     "text": [
      "Validation data Classification report for classifier LinearDiscriminantAnalysis():\n",
      "              precision    recall  f1-score   support\n",
      "\n",
      "         0.0       0.60      0.72      0.66       243\n",
      "         1.0       0.65      0.52      0.58       242\n",
      "\n",
      "    accuracy                           0.62       485\n",
      "   macro avg       0.63      0.62      0.62       485\n",
      "weighted avg       0.63      0.62      0.62       485\n",
      "\n",
      "\n"
     ]
    }
   ],
   "source": [
    "print(f\"Validation data Classification report for classifier {model_lda_uni}:\\n\"\n",
    "f\"{metrics.classification_report(y_unidir_val, lday_pred_val_uni)}\\n\")"
   ]
  },
  {
   "cell_type": "code",
   "execution_count": 45,
   "metadata": {},
   "outputs": [
    {
     "name": "stdout",
     "output_type": "stream",
     "text": [
      "Validation data Confusion matrix:\n",
      "[[176  67]\n",
      " [115 127]]\n"
     ]
    },
    {
     "data": {
      "image/png": "[encoded data removed]",
      "text/plain": [
       "<Figure size 432x288 with 2 Axes>"
      ]
     },
     "metadata": {
      "needs_background": "light"
     },
     "output_type": "display_data"
    }
   ],
   "source": [
    "disp = metrics.plot_confusion_matrix(model_lda_uni, x_val_pca_uni_cst, y_unidir_val)\n",
    "disp.figure_.suptitle(\"Validation data Confusion Matrix\")\n",
    "print(f\"Validation data Confusion matrix:\\n{disp.confusion_matrix}\")\n",
    "\n",
    "plt.show()"
   ]
  },
  {
   "cell_type": "code",
   "execution_count": 46,
   "metadata": {},
   "outputs": [
    {
     "name": "stdout",
     "output_type": "stream",
     "text": [
      "Test Set Accuracy: 0.6123082013317341\n"
     ]
    }
   ],
   "source": [
    "#Predict\n",
    "lday_pred_uni_test = model_lda_uni.predict(x_test_pca_uni_cst)\n",
    "\n",
    "print(\"Test Set Accuracy:\", accuracy_score(y_test_unidir, lday_pred_uni_test))"
   ]
  },
  {
   "cell_type": "code",
   "execution_count": 47,
   "metadata": {},
   "outputs": [
    {
     "data": {
      "text/html": [
       "<div>\n",
       "<style scoped>\n",
       "    .dataframe tbody tr th:only-of-type {\n",
       "        vertical-align: middle;\n",
       "    }\n",
       "\n",
       "    .dataframe tbody tr th {\n",
       "        vertical-align: top;\n",
       "    }\n",
       "\n",
       "    .dataframe thead th {\n",
       "        text-align: right;\n",
       "    }\n",
       "</style>\n",
       "<table border=\"1\" class=\"dataframe\">\n",
       "  <thead>\n",
       "    <tr style=\"text-align: right;\">\n",
       "      <th>Predicted</th>\n",
       "      <th>0.0</th>\n",
       "      <th>1.0</th>\n",
       "      <th>All</th>\n",
       "    </tr>\n",
       "    <tr>\n",
       "      <th>Actual</th>\n",
       "      <th></th>\n",
       "      <th></th>\n",
       "      <th></th>\n",
       "    </tr>\n",
       "  </thead>\n",
       "  <tbody>\n",
       "    <tr>\n",
       "      <th>0.0</th>\n",
       "      <td>7845</td>\n",
       "      <td>3442</td>\n",
       "      <td>11287</td>\n",
       "    </tr>\n",
       "    <tr>\n",
       "      <th>1.0</th>\n",
       "      <td>5932</td>\n",
       "      <td>6960</td>\n",
       "      <td>12892</td>\n",
       "    </tr>\n",
       "    <tr>\n",
       "      <th>All</th>\n",
       "      <td>13777</td>\n",
       "      <td>10402</td>\n",
       "      <td>24179</td>\n",
       "    </tr>\n",
       "  </tbody>\n",
       "</table>\n",
       "</div>"
      ],
      "text/plain": [
       "Predicted    0.0    1.0    All\n",
       "Actual                        \n",
       "0.0         7845   3442  11287\n",
       "1.0         5932   6960  12892\n",
       "All        13777  10402  24179"
      ]
     },
     "execution_count": 47,
     "metadata": {},
     "output_type": "execute_result"
    }
   ],
   "source": [
    "pd.crosstab(y_test_unidir, lday_pred_uni_test, margins=True, rownames=['Actual'], colnames=['Predicted'])"
   ]
  },
  {
   "cell_type": "code",
   "execution_count": 48,
   "metadata": {},
   "outputs": [
    {
     "name": "stdout",
     "output_type": "stream",
     "text": [
      "Classification report for classifier LinearDiscriminantAnalysis():\n",
      "              precision    recall  f1-score   support\n",
      "\n",
      "         0.0       0.57      0.70      0.63     11287\n",
      "         1.0       0.67      0.54      0.60     12892\n",
      "\n",
      "    accuracy                           0.61     24179\n",
      "   macro avg       0.62      0.62      0.61     24179\n",
      "weighted avg       0.62      0.61      0.61     24179\n",
      "\n",
      "\n"
     ]
    }
   ],
   "source": [
    "print(f\"Classification report for classifier {model_lda_uni}:\\n\"\n",
    "f\"{metrics.classification_report(y_test_unidir, lday_pred_uni_test)}\\n\")"
   ]
  },
  {
   "cell_type": "code",
   "execution_count": 49,
   "metadata": {},
   "outputs": [
    {
     "name": "stdout",
     "output_type": "stream",
     "text": [
      "Test data Confusion matrix:\n",
      "[[7845 3442]\n",
      " [5932 6960]]\n"
     ]
    },
    {
     "data": {
      "image/png": "[encoded data removed]",
      "text/plain": [
       "<Figure size 432x288 with 2 Axes>"
      ]
     },
     "metadata": {
      "needs_background": "light"
     },
     "output_type": "display_data"
    }
   ],
   "source": [
    "disp = metrics.plot_confusion_matrix(model_lda_uni, x_test_pca_uni_cst, y_test_unidir)\n",
    "disp.figure_.suptitle(\"Test data Confusion Matrix\")\n",
    "print(f\"Test data Confusion matrix:\\n{disp.confusion_matrix}\")\n",
    "\n",
    "plt.show()"
   ]
  },
  {
   "cell_type": "markdown",
   "metadata": {},
   "source": []
  },
  {
   "cell_type": "markdown",
   "metadata": {},
   "source": [
    "******"
   ]
  },
  {
   "cell_type": "markdown",
   "metadata": {},
   "source": [
    "***QDA***"
   ]
  },
  {
   "cell_type": "markdown",
   "metadata": {},
   "source": [
    "**Bidir**"
   ]
  },
  {
   "cell_type": "code",
   "execution_count": 50,
   "metadata": {},
   "outputs": [
    {
     "name": "stdout",
     "output_type": "stream",
     "text": [
      "Training Set Accuracy: 0.4757853403141361\n",
      "Validation Set Accuracy: 0.506544502617801\n"
     ]
    }
   ],
   "source": [
    "#Training\n",
    "model_qda = QuadraticDiscriminantAnalysis().fit(x_train_pca_cst, y_bidir_train)\n",
    "\n",
    "#Predict\n",
    "qday_pred_train = model_qda.predict(x_train_pca_cst)\n",
    "qday_pred_val = model_qda.predict(x_val_pca_cst)\n",
    "\n",
    "print(\"Training Set Accuracy:\", accuracy_score(y_bidir_train, qday_pred_train))\n",
    "print(\"Validation Set Accuracy:\", accuracy_score(y_bidir_val, qday_pred_val))"
   ]
  },
  {
   "cell_type": "code",
   "execution_count": 51,
   "metadata": {},
   "outputs": [
    {
     "name": "stdout",
     "output_type": "stream",
     "text": [
      "Training data Classification report for classifier QuadraticDiscriminantAnalysis():\n",
      "              precision    recall  f1-score   support\n",
      "\n",
      "         0.0       0.48      1.00      0.64      1454\n",
      "         1.0       0.00      0.00      0.00      1602\n",
      "\n",
      "    accuracy                           0.48      3056\n",
      "   macro avg       0.24      0.50      0.32      3056\n",
      "weighted avg       0.23      0.48      0.31      3056\n",
      "\n",
      "\n"
     ]
    }
   ],
   "source": [
    "print(f\"Training data Classification report for classifier {model_qda}:\\n\"\n",
    "f\"{metrics.classification_report(y_bidir_train, qday_pred_train)}\\n\")"
   ]
  },
  {
   "cell_type": "code",
   "execution_count": 52,
   "metadata": {},
   "outputs": [
    {
     "name": "stdout",
     "output_type": "stream",
     "text": [
      "Validation data Classification report for classifier QuadraticDiscriminantAnalysis():\n",
      "              precision    recall  f1-score   support\n",
      "\n",
      "         0.0       0.51      1.00      0.67       387\n",
      "         1.0       0.00      0.00      0.00       377\n",
      "\n",
      "    accuracy                           0.51       764\n",
      "   macro avg       0.25      0.50      0.34       764\n",
      "weighted avg       0.26      0.51      0.34       764\n",
      "\n",
      "\n"
     ]
    }
   ],
   "source": [
    "print(f\"Validation data Classification report for classifier {model_qda}:\\n\"\n",
    "f\"{metrics.classification_report(y_bidir_val, qday_pred_val)}\\n\")"
   ]
  },
  {
   "cell_type": "code",
   "execution_count": 53,
   "metadata": {},
   "outputs": [
    {
     "name": "stdout",
     "output_type": "stream",
     "text": [
      "Validation data Confusion matrix:\n",
      "[[387   0]\n",
      " [377   0]]\n"
     ]
    },
    {
     "data": {
      "image/png": "[encoded data removed]",
      "text/plain": [
       "<Figure size 432x288 with 2 Axes>"
      ]
     },
     "metadata": {
      "needs_background": "light"
     },
     "output_type": "display_data"
    }
   ],
   "source": [
    "disp = metrics.plot_confusion_matrix(model_qda, x_val_pca_cst, y_bidir_val)\n",
    "disp.figure_.suptitle(\"Validation data Confusion Matrix\")\n",
    "print(f\"Validation data Confusion matrix:\\n{disp.confusion_matrix}\")\n",
    "\n",
    "plt.show()"
   ]
  },
  {
   "cell_type": "code",
   "execution_count": 54,
   "metadata": {},
   "outputs": [
    {
     "name": "stdout",
     "output_type": "stream",
     "text": [
      "Test Set Accuracy: 0.47444931621254827\n"
     ]
    }
   ],
   "source": [
    "#Predict\n",
    "qday_pred_test = model_qda.predict(x_test_pca_cst)\n",
    "\n",
    "print(\"Test Set Accuracy:\", accuracy_score(y_test_bidir, qday_pred_test))"
   ]
  },
  {
   "cell_type": "code",
   "execution_count": 55,
   "metadata": {},
   "outputs": [
    {
     "data": {
      "text/html": [
       "<div>\n",
       "<style scoped>\n",
       "    .dataframe tbody tr th:only-of-type {\n",
       "        vertical-align: middle;\n",
       "    }\n",
       "\n",
       "    .dataframe tbody tr th {\n",
       "        vertical-align: top;\n",
       "    }\n",
       "\n",
       "    .dataframe thead th {\n",
       "        text-align: right;\n",
       "    }\n",
       "</style>\n",
       "<table border=\"1\" class=\"dataframe\">\n",
       "  <thead>\n",
       "    <tr style=\"text-align: right;\">\n",
       "      <th>Predicted</th>\n",
       "      <th>0.0</th>\n",
       "      <th>All</th>\n",
       "    </tr>\n",
       "    <tr>\n",
       "      <th>Actual</th>\n",
       "      <th></th>\n",
       "      <th></th>\n",
       "    </tr>\n",
       "  </thead>\n",
       "  <tbody>\n",
       "    <tr>\n",
       "      <th>0.0</th>\n",
       "      <td>18179</td>\n",
       "      <td>18179</td>\n",
       "    </tr>\n",
       "    <tr>\n",
       "      <th>1.0</th>\n",
       "      <td>20137</td>\n",
       "      <td>20137</td>\n",
       "    </tr>\n",
       "    <tr>\n",
       "      <th>All</th>\n",
       "      <td>38316</td>\n",
       "      <td>38316</td>\n",
       "    </tr>\n",
       "  </tbody>\n",
       "</table>\n",
       "</div>"
      ],
      "text/plain": [
       "Predicted    0.0    All\n",
       "Actual                 \n",
       "0.0        18179  18179\n",
       "1.0        20137  20137\n",
       "All        38316  38316"
      ]
     },
     "execution_count": 55,
     "metadata": {},
     "output_type": "execute_result"
    }
   ],
   "source": [
    "pd.crosstab(y_test_bidir, qday_pred_test, margins=True, rownames=['Actual'], colnames=['Predicted'])"
   ]
  },
  {
   "cell_type": "code",
   "execution_count": 56,
   "metadata": {},
   "outputs": [
    {
     "name": "stdout",
     "output_type": "stream",
     "text": [
      "Classification report for classifier QuadraticDiscriminantAnalysis():\n",
      "              precision    recall  f1-score   support\n",
      "\n",
      "         0.0       0.47      1.00      0.64     18179\n",
      "         1.0       0.00      0.00      0.00     20137\n",
      "\n",
      "    accuracy                           0.47     38316\n",
      "   macro avg       0.24      0.50      0.32     38316\n",
      "weighted avg       0.23      0.47      0.31     38316\n",
      "\n",
      "\n"
     ]
    }
   ],
   "source": [
    "print(f\"Classification report for classifier {model_qda}:\\n\"\n",
    "f\"{metrics.classification_report(y_test_bidir, qday_pred_test)}\\n\")"
   ]
  },
  {
   "cell_type": "code",
   "execution_count": 57,
   "metadata": {},
   "outputs": [
    {
     "name": "stdout",
     "output_type": "stream",
     "text": [
      "Test data Confusion matrix:\n",
      "[[18179     0]\n",
      " [20137     0]]\n"
     ]
    },
    {
     "data": {
      "image/png": "[encoded data removed]",
      "text/plain": [
       "<Figure size 432x288 with 2 Axes>"
      ]
     },
     "metadata": {
      "needs_background": "light"
     },
     "output_type": "display_data"
    }
   ],
   "source": [
    "disp = metrics.plot_confusion_matrix(model_qda, x_test_pca_cst, y_test_bidir)\n",
    "disp.figure_.suptitle(\"Test data Confusion Matrix\")\n",
    "print(f\"Test data Confusion matrix:\\n{disp.confusion_matrix}\")\n",
    "\n",
    "plt.show()"
   ]
  },
  {
   "cell_type": "code",
   "execution_count": null,
   "metadata": {},
   "outputs": [],
   "source": []
  },
  {
   "cell_type": "markdown",
   "metadata": {},
   "source": [
    "**Unidir**"
   ]
  },
  {
   "cell_type": "code",
   "execution_count": 58,
   "metadata": {},
   "outputs": [
    {
     "name": "stdout",
     "output_type": "stream",
     "text": [
      "Training Set Accuracy: 0.4643595041322314\n",
      "Validation Set Accuracy: 0.5010309278350515\n"
     ]
    }
   ],
   "source": [
    "#Training\n",
    "model_qda_uni = QuadraticDiscriminantAnalysis().fit(x_train_pca_uni_cst, y_unidir_train)\n",
    "\n",
    "#Predict\n",
    "qday_pred_train_uni = model_qda_uni.predict(x_train_pca_uni_cst)\n",
    "qday_pred_val_uni = model_qda_uni.predict(x_val_pca_uni_cst)\n",
    "\n",
    "print(\"Training Set Accuracy:\", accuracy_score(y_unidir_train, qday_pred_train_uni))\n",
    "print(\"Validation Set Accuracy:\", accuracy_score(y_unidir_val, qday_pred_val_uni))"
   ]
  },
  {
   "cell_type": "code",
   "execution_count": 59,
   "metadata": {},
   "outputs": [
    {
     "name": "stdout",
     "output_type": "stream",
     "text": [
      "Training data Classification report for classifier QuadraticDiscriminantAnalysis():\n",
      "              precision    recall  f1-score   support\n",
      "\n",
      "         0.0       0.46      1.00      0.63       899\n",
      "         1.0       0.00      0.00      0.00      1037\n",
      "\n",
      "    accuracy                           0.46      1936\n",
      "   macro avg       0.23      0.50      0.32      1936\n",
      "weighted avg       0.22      0.46      0.29      1936\n",
      "\n",
      "\n"
     ]
    }
   ],
   "source": [
    "print(f\"Training data Classification report for classifier {model_qda_uni}:\\n\"\n",
    "f\"{metrics.classification_report(y_unidir_train, qday_pred_train_uni)}\\n\")"
   ]
  },
  {
   "cell_type": "code",
   "execution_count": 60,
   "metadata": {},
   "outputs": [
    {
     "name": "stdout",
     "output_type": "stream",
     "text": [
      "Validation data Classification report for classifier QuadraticDiscriminantAnalysis():\n",
      "              precision    recall  f1-score   support\n",
      "\n",
      "         0.0       0.50      1.00      0.67       243\n",
      "         1.0       0.00      0.00      0.00       242\n",
      "\n",
      "    accuracy                           0.50       485\n",
      "   macro avg       0.25      0.50      0.33       485\n",
      "weighted avg       0.25      0.50      0.33       485\n",
      "\n",
      "\n"
     ]
    }
   ],
   "source": [
    "print(f\"Validation data Classification report for classifier {model_qda_uni}:\\n\"\n",
    "f\"{metrics.classification_report(y_unidir_val, qday_pred_val_uni)}\\n\")"
   ]
  },
  {
   "cell_type": "code",
   "execution_count": 61,
   "metadata": {},
   "outputs": [
    {
     "name": "stdout",
     "output_type": "stream",
     "text": [
      "Validation data Confusion matrix:\n",
      "[[243   0]\n",
      " [242   0]]\n"
     ]
    },
    {
     "data": {
      "image/png": "[encoded data removed]",
      "text/plain": [
       "<Figure size 432x288 with 2 Axes>"
      ]
     },
     "metadata": {
      "needs_background": "light"
     },
     "output_type": "display_data"
    }
   ],
   "source": [
    "disp = metrics.plot_confusion_matrix(model_qda_uni, x_val_pca_uni_cst, y_unidir_val)\n",
    "disp.figure_.suptitle(\"Validation data Confusion Matrix\")\n",
    "print(f\"Validation data Confusion matrix:\\n{disp.confusion_matrix}\")\n",
    "\n",
    "plt.show()"
   ]
  },
  {
   "cell_type": "code",
   "execution_count": 62,
   "metadata": {},
   "outputs": [
    {
     "name": "stdout",
     "output_type": "stream",
     "text": [
      "Test Set Accuracy: 0.4668100417717854\n"
     ]
    }
   ],
   "source": [
    "#Predict\n",
    "qday_pred_uni_test = model_qda_uni.predict(x_test_pca_uni_cst)\n",
    "\n",
    "print(\"Test Set Accuracy:\", accuracy_score(y_test_unidir, qday_pred_uni_test))"
   ]
  },
  {
   "cell_type": "code",
   "execution_count": 63,
   "metadata": {},
   "outputs": [
    {
     "data": {
      "text/html": [
       "<div>\n",
       "<style scoped>\n",
       "    .dataframe tbody tr th:only-of-type {\n",
       "        vertical-align: middle;\n",
       "    }\n",
       "\n",
       "    .dataframe tbody tr th {\n",
       "        vertical-align: top;\n",
       "    }\n",
       "\n",
       "    .dataframe thead th {\n",
       "        text-align: right;\n",
       "    }\n",
       "</style>\n",
       "<table border=\"1\" class=\"dataframe\">\n",
       "  <thead>\n",
       "    <tr style=\"text-align: right;\">\n",
       "      <th>Predicted</th>\n",
       "      <th>0.0</th>\n",
       "      <th>All</th>\n",
       "    </tr>\n",
       "    <tr>\n",
       "      <th>Actual</th>\n",
       "      <th></th>\n",
       "      <th></th>\n",
       "    </tr>\n",
       "  </thead>\n",
       "  <tbody>\n",
       "    <tr>\n",
       "      <th>0.0</th>\n",
       "      <td>11287</td>\n",
       "      <td>11287</td>\n",
       "    </tr>\n",
       "    <tr>\n",
       "      <th>1.0</th>\n",
       "      <td>12892</td>\n",
       "      <td>12892</td>\n",
       "    </tr>\n",
       "    <tr>\n",
       "      <th>All</th>\n",
       "      <td>24179</td>\n",
       "      <td>24179</td>\n",
       "    </tr>\n",
       "  </tbody>\n",
       "</table>\n",
       "</div>"
      ],
      "text/plain": [
       "Predicted    0.0    All\n",
       "Actual                 \n",
       "0.0        11287  11287\n",
       "1.0        12892  12892\n",
       "All        24179  24179"
      ]
     },
     "execution_count": 63,
     "metadata": {},
     "output_type": "execute_result"
    }
   ],
   "source": [
    "pd.crosstab(y_test_unidir, qday_pred_uni_test, margins=True, rownames=['Actual'], colnames=['Predicted'])"
   ]
  },
  {
   "cell_type": "code",
   "execution_count": 64,
   "metadata": {},
   "outputs": [
    {
     "name": "stdout",
     "output_type": "stream",
     "text": [
      "Classification report for classifier QuadraticDiscriminantAnalysis():\n",
      "              precision    recall  f1-score   support\n",
      "\n",
      "         0.0       0.47      1.00      0.64     11287\n",
      "         1.0       0.00      0.00      0.00     12892\n",
      "\n",
      "    accuracy                           0.47     24179\n",
      "   macro avg       0.23      0.50      0.32     24179\n",
      "weighted avg       0.22      0.47      0.30     24179\n",
      "\n",
      "\n"
     ]
    }
   ],
   "source": [
    "print(f\"Classification report for classifier {model_qda_uni}:\\n\"\n",
    "f\"{metrics.classification_report(y_test_unidir, qday_pred_uni_test)}\\n\")"
   ]
  },
  {
   "cell_type": "code",
   "execution_count": 65,
   "metadata": {},
   "outputs": [
    {
     "name": "stdout",
     "output_type": "stream",
     "text": [
      "Test data Confusion matrix:\n",
      "[[11287     0]\n",
      " [12892     0]]\n"
     ]
    },
    {
     "data": {
      "image/png": "[encoded data removed]",
      "text/plain": [
       "<Figure size 432x288 with 2 Axes>"
      ]
     },
     "metadata": {
      "needs_background": "light"
     },
     "output_type": "display_data"
    }
   ],
   "source": [
    "disp = metrics.plot_confusion_matrix(model_qda_uni, x_test_pca_uni_cst, y_test_unidir)\n",
    "disp.figure_.suptitle(\"Test data Confusion Matrix\")\n",
    "print(f\"Test data Confusion matrix:\\n{disp.confusion_matrix}\")\n",
    "\n",
    "plt.show()"
   ]
  },
  {
   "cell_type": "code",
   "execution_count": null,
   "metadata": {},
   "outputs": [],
   "source": []
  },
  {
   "cell_type": "markdown",
   "metadata": {},
   "source": [
    "***\n"
   ]
  },
  {
   "cell_type": "markdown",
   "metadata": {},
   "source": [
    "***KNN***"
   ]
  },
  {
   "cell_type": "markdown",
   "metadata": {},
   "source": [
    "**Bidir**"
   ]
  },
  {
   "cell_type": "code",
   "execution_count": 66,
   "metadata": {},
   "outputs": [
    {
     "name": "stdout",
     "output_type": "stream",
     "text": [
      "Training Set Accuracy: 1.0\n",
      "Validation Set Accuracy: 0.9973821989528796\n"
     ]
    }
   ],
   "source": [
    "#Training\n",
    "model_neigh = KNeighborsClassifier(n_neighbors=3).fit(x_train_pca_cst, y_bidir_train)\n",
    "\n",
    "#Predict\n",
    "neighy_pred_train = model_neigh.predict(x_train_pca_cst)\n",
    "neighy_pred_val = model_neigh.predict(x_val_pca_cst)\n",
    "\n",
    "print(\"Training Set Accuracy:\", accuracy_score(y_bidir_train, neighy_pred_train))\n",
    "print(\"Validation Set Accuracy:\", accuracy_score(y_bidir_val, neighy_pred_val))"
   ]
  },
  {
   "cell_type": "code",
   "execution_count": 67,
   "metadata": {},
   "outputs": [
    {
     "name": "stdout",
     "output_type": "stream",
     "text": [
      "Training data Classification report for classifier KNeighborsClassifier(n_neighbors=3):\n",
      "              precision    recall  f1-score   support\n",
      "\n",
      "         0.0       1.00      1.00      1.00      1454\n",
      "         1.0       1.00      1.00      1.00      1602\n",
      "\n",
      "    accuracy                           1.00      3056\n",
      "   macro avg       1.00      1.00      1.00      3056\n",
      "weighted avg       1.00      1.00      1.00      3056\n",
      "\n",
      "\n"
     ]
    }
   ],
   "source": [
    "print(f\"Training data Classification report for classifier {model_neigh}:\\n\"\n",
    "f\"{metrics.classification_report(y_bidir_train, neighy_pred_train)}\\n\")"
   ]
  },
  {
   "cell_type": "code",
   "execution_count": 68,
   "metadata": {},
   "outputs": [
    {
     "name": "stdout",
     "output_type": "stream",
     "text": [
      "Validation data Classification report for classifier KNeighborsClassifier(n_neighbors=3):\n",
      "              precision    recall  f1-score   support\n",
      "\n",
      "         0.0       1.00      0.99      1.00       387\n",
      "         1.0       0.99      1.00      1.00       377\n",
      "\n",
      "    accuracy                           1.00       764\n",
      "   macro avg       1.00      1.00      1.00       764\n",
      "weighted avg       1.00      1.00      1.00       764\n",
      "\n",
      "\n"
     ]
    }
   ],
   "source": [
    "print(f\"Validation data Classification report for classifier {model_neigh}:\\n\"\n",
    "f\"{metrics.classification_report(y_bidir_val, neighy_pred_val)}\\n\")"
   ]
  },
  {
   "cell_type": "code",
   "execution_count": 69,
   "metadata": {},
   "outputs": [
    {
     "name": "stdout",
     "output_type": "stream",
     "text": [
      "Validation data Confusion matrix:\n",
      "[[385   2]\n",
      " [  0 377]]\n"
     ]
    },
    {
     "data": {
      "image/png": "[encoded data removed]",
      "text/plain": [
       "<Figure size 432x288 with 2 Axes>"
      ]
     },
     "metadata": {
      "needs_background": "light"
     },
     "output_type": "display_data"
    }
   ],
   "source": [
    "disp = metrics.plot_confusion_matrix(model_neigh, x_val_pca_cst, y_bidir_val)\n",
    "disp.figure_.suptitle(\"Validation data Confusion Matrix\")\n",
    "print(f\"Validation data Confusion matrix:\\n{disp.confusion_matrix}\")\n",
    "\n",
    "plt.show()"
   ]
  },
  {
   "cell_type": "code",
   "execution_count": 70,
   "metadata": {},
   "outputs": [
    {
     "name": "stdout",
     "output_type": "stream",
     "text": [
      "Test Set Accuracy: 0.9980947906879633\n"
     ]
    }
   ],
   "source": [
    "#Predict\n",
    "neighy_pred_test = model_neigh.predict(x_test_pca_cst)\n",
    "\n",
    "print(\"Test Set Accuracy:\", accuracy_score(y_test_bidir, neighy_pred_test))"
   ]
  },
  {
   "cell_type": "code",
   "execution_count": 71,
   "metadata": {},
   "outputs": [
    {
     "data": {
      "text/html": [
       "<div>\n",
       "<style scoped>\n",
       "    .dataframe tbody tr th:only-of-type {\n",
       "        vertical-align: middle;\n",
       "    }\n",
       "\n",
       "    .dataframe tbody tr th {\n",
       "        vertical-align: top;\n",
       "    }\n",
       "\n",
       "    .dataframe thead th {\n",
       "        text-align: right;\n",
       "    }\n",
       "</style>\n",
       "<table border=\"1\" class=\"dataframe\">\n",
       "  <thead>\n",
       "    <tr style=\"text-align: right;\">\n",
       "      <th>Predicted</th>\n",
       "      <th>0.0</th>\n",
       "      <th>1.0</th>\n",
       "      <th>All</th>\n",
       "    </tr>\n",
       "    <tr>\n",
       "      <th>Actual</th>\n",
       "      <th></th>\n",
       "      <th></th>\n",
       "      <th></th>\n",
       "    </tr>\n",
       "  </thead>\n",
       "  <tbody>\n",
       "    <tr>\n",
       "      <th>0.0</th>\n",
       "      <td>18126</td>\n",
       "      <td>53</td>\n",
       "      <td>18179</td>\n",
       "    </tr>\n",
       "    <tr>\n",
       "      <th>1.0</th>\n",
       "      <td>20</td>\n",
       "      <td>20117</td>\n",
       "      <td>20137</td>\n",
       "    </tr>\n",
       "    <tr>\n",
       "      <th>All</th>\n",
       "      <td>18146</td>\n",
       "      <td>20170</td>\n",
       "      <td>38316</td>\n",
       "    </tr>\n",
       "  </tbody>\n",
       "</table>\n",
       "</div>"
      ],
      "text/plain": [
       "Predicted    0.0    1.0    All\n",
       "Actual                        \n",
       "0.0        18126     53  18179\n",
       "1.0           20  20117  20137\n",
       "All        18146  20170  38316"
      ]
     },
     "execution_count": 71,
     "metadata": {},
     "output_type": "execute_result"
    }
   ],
   "source": [
    "pd.crosstab(y_test_bidir, neighy_pred_test, margins=True, rownames=['Actual'], colnames=['Predicted'])"
   ]
  },
  {
   "cell_type": "code",
   "execution_count": 72,
   "metadata": {},
   "outputs": [
    {
     "name": "stdout",
     "output_type": "stream",
     "text": [
      "Classification report for classifier KNeighborsClassifier(n_neighbors=3):\n",
      "              precision    recall  f1-score   support\n",
      "\n",
      "         0.0       1.00      1.00      1.00     18179\n",
      "         1.0       1.00      1.00      1.00     20137\n",
      "\n",
      "    accuracy                           1.00     38316\n",
      "   macro avg       1.00      1.00      1.00     38316\n",
      "weighted avg       1.00      1.00      1.00     38316\n",
      "\n",
      "\n"
     ]
    }
   ],
   "source": [
    "print(f\"Classification report for classifier {model_neigh}:\\n\"\n",
    "f\"{metrics.classification_report(y_test_bidir, neighy_pred_test)}\\n\")"
   ]
  },
  {
   "cell_type": "code",
   "execution_count": 73,
   "metadata": {},
   "outputs": [
    {
     "name": "stdout",
     "output_type": "stream",
     "text": [
      "Test data Confusion matrix:\n",
      "[[18126    53]\n",
      " [   20 20117]]\n"
     ]
    },
    {
     "data": {
      "image/png": "[encoded data removed]",
      "text/plain": [
       "<Figure size 432x288 with 2 Axes>"
      ]
     },
     "metadata": {
      "needs_background": "light"
     },
     "output_type": "display_data"
    }
   ],
   "source": [
    "disp = metrics.plot_confusion_matrix(model_neigh, x_test_pca_cst, y_test_bidir)\n",
    "disp.figure_.suptitle(\"Test data Confusion Matrix\")\n",
    "print(f\"Test data Confusion matrix:\\n{disp.confusion_matrix}\")\n",
    "\n",
    "plt.show()"
   ]
  },
  {
   "cell_type": "markdown",
   "metadata": {},
   "source": [
    "**Unidir**"
   ]
  },
  {
   "cell_type": "code",
   "execution_count": 74,
   "metadata": {},
   "outputs": [
    {
     "name": "stdout",
     "output_type": "stream",
     "text": [
      "Training Set Accuracy: 0.9917355371900827\n",
      "Validation Set Accuracy: 0.9855670103092784\n"
     ]
    }
   ],
   "source": [
    "#Training\n",
    "model_neigh_uni = KNeighborsClassifier(n_neighbors=3).fit(x_train_pca_uni_cst, y_unidir_train)\n",
    "\n",
    "#Predict\n",
    "neighy_pred_train_uni = model_neigh_uni.predict(x_train_pca_uni_cst)\n",
    "neighy_pred_val_uni = model_neigh_uni.predict(x_val_pca_uni_cst)\n",
    "\n",
    "print(\"Training Set Accuracy:\", accuracy_score(y_unidir_train, neighy_pred_train_uni))\n",
    "print(\"Validation Set Accuracy:\", accuracy_score(y_unidir_val, neighy_pred_val_uni))"
   ]
  },
  {
   "cell_type": "code",
   "execution_count": 75,
   "metadata": {},
   "outputs": [
    {
     "name": "stdout",
     "output_type": "stream",
     "text": [
      "Training data Classification report for classifier KNeighborsClassifier(n_neighbors=3):\n",
      "              precision    recall  f1-score   support\n",
      "\n",
      "         0.0       1.00      0.98      0.99       899\n",
      "         1.0       0.99      1.00      0.99      1037\n",
      "\n",
      "    accuracy                           0.99      1936\n",
      "   macro avg       0.99      0.99      0.99      1936\n",
      "weighted avg       0.99      0.99      0.99      1936\n",
      "\n",
      "\n"
     ]
    }
   ],
   "source": [
    "print(f\"Training data Classification report for classifier {model_neigh_uni}:\\n\"\n",
    "f\"{metrics.classification_report(y_unidir_train, neighy_pred_train_uni)}\\n\")"
   ]
  },
  {
   "cell_type": "code",
   "execution_count": 76,
   "metadata": {},
   "outputs": [
    {
     "name": "stdout",
     "output_type": "stream",
     "text": [
      "Validation data Classification report for classifier KNeighborsClassifier(n_neighbors=3):\n",
      "              precision    recall  f1-score   support\n",
      "\n",
      "         0.0       0.99      0.98      0.99       243\n",
      "         1.0       0.98      0.99      0.99       242\n",
      "\n",
      "    accuracy                           0.99       485\n",
      "   macro avg       0.99      0.99      0.99       485\n",
      "weighted avg       0.99      0.99      0.99       485\n",
      "\n",
      "\n"
     ]
    }
   ],
   "source": [
    "print(f\"Validation data Classification report for classifier {model_neigh_uni}:\\n\"\n",
    "f\"{metrics.classification_report(y_unidir_val, neighy_pred_val_uni)}\\n\")"
   ]
  },
  {
   "cell_type": "code",
   "execution_count": 77,
   "metadata": {},
   "outputs": [
    {
     "name": "stdout",
     "output_type": "stream",
     "text": [
      "Validation data Confusion matrix:\n",
      "[[238   5]\n",
      " [  2 240]]\n"
     ]
    },
    {
     "data": {
      "image/png": "[encoded data removed]",
      "text/plain": [
       "<Figure size 432x288 with 2 Axes>"
      ]
     },
     "metadata": {
      "needs_background": "light"
     },
     "output_type": "display_data"
    }
   ],
   "source": [
    "disp = metrics.plot_confusion_matrix(model_neigh_uni, x_val_pca_uni_cst, y_unidir_val)\n",
    "disp.figure_.suptitle(\"Validation data Confusion Matrix\")\n",
    "print(f\"Validation data Confusion matrix:\\n{disp.confusion_matrix}\")\n",
    "\n",
    "plt.show()"
   ]
  },
  {
   "cell_type": "code",
   "execution_count": 78,
   "metadata": {},
   "outputs": [
    {
     "name": "stdout",
     "output_type": "stream",
     "text": [
      "Test Set Accuracy: 0.9829190619959469\n"
     ]
    }
   ],
   "source": [
    "#Predict\n",
    "neighy_pred_uni_test = model_neigh_uni.predict(x_test_pca_uni_cst)\n",
    "\n",
    "print(\"Test Set Accuracy:\", accuracy_score(y_test_unidir, neighy_pred_uni_test))"
   ]
  },
  {
   "cell_type": "code",
   "execution_count": 79,
   "metadata": {},
   "outputs": [
    {
     "data": {
      "text/html": [
       "<div>\n",
       "<style scoped>\n",
       "    .dataframe tbody tr th:only-of-type {\n",
       "        vertical-align: middle;\n",
       "    }\n",
       "\n",
       "    .dataframe tbody tr th {\n",
       "        vertical-align: top;\n",
       "    }\n",
       "\n",
       "    .dataframe thead th {\n",
       "        text-align: right;\n",
       "    }\n",
       "</style>\n",
       "<table border=\"1\" class=\"dataframe\">\n",
       "  <thead>\n",
       "    <tr style=\"text-align: right;\">\n",
       "      <th>Predicted</th>\n",
       "      <th>0.0</th>\n",
       "      <th>1.0</th>\n",
       "      <th>All</th>\n",
       "    </tr>\n",
       "    <tr>\n",
       "      <th>Actual</th>\n",
       "      <th></th>\n",
       "      <th></th>\n",
       "      <th></th>\n",
       "    </tr>\n",
       "  </thead>\n",
       "  <tbody>\n",
       "    <tr>\n",
       "      <th>0.0</th>\n",
       "      <td>10948</td>\n",
       "      <td>339</td>\n",
       "      <td>11287</td>\n",
       "    </tr>\n",
       "    <tr>\n",
       "      <th>1.0</th>\n",
       "      <td>74</td>\n",
       "      <td>12818</td>\n",
       "      <td>12892</td>\n",
       "    </tr>\n",
       "    <tr>\n",
       "      <th>All</th>\n",
       "      <td>11022</td>\n",
       "      <td>13157</td>\n",
       "      <td>24179</td>\n",
       "    </tr>\n",
       "  </tbody>\n",
       "</table>\n",
       "</div>"
      ],
      "text/plain": [
       "Predicted    0.0    1.0    All\n",
       "Actual                        \n",
       "0.0        10948    339  11287\n",
       "1.0           74  12818  12892\n",
       "All        11022  13157  24179"
      ]
     },
     "execution_count": 79,
     "metadata": {},
     "output_type": "execute_result"
    }
   ],
   "source": [
    "pd.crosstab(y_test_unidir, neighy_pred_uni_test, margins=True, rownames=['Actual'], colnames=['Predicted'])"
   ]
  },
  {
   "cell_type": "code",
   "execution_count": 80,
   "metadata": {},
   "outputs": [
    {
     "name": "stdout",
     "output_type": "stream",
     "text": [
      "Classification report for classifier KNeighborsClassifier(n_neighbors=3):\n",
      "              precision    recall  f1-score   support\n",
      "\n",
      "         0.0       0.99      0.97      0.98     11287\n",
      "         1.0       0.97      0.99      0.98     12892\n",
      "\n",
      "    accuracy                           0.98     24179\n",
      "   macro avg       0.98      0.98      0.98     24179\n",
      "weighted avg       0.98      0.98      0.98     24179\n",
      "\n",
      "\n"
     ]
    }
   ],
   "source": [
    "print(f\"Classification report for classifier {model_neigh_uni}:\\n\"\n",
    "f\"{metrics.classification_report(y_test_unidir, neighy_pred_uni_test)}\\n\")"
   ]
  },
  {
   "cell_type": "code",
   "execution_count": 81,
   "metadata": {},
   "outputs": [
    {
     "name": "stdout",
     "output_type": "stream",
     "text": [
      "Test data Confusion matrix:\n",
      "[[10948   339]\n",
      " [   74 12818]]\n"
     ]
    },
    {
     "data": {
      "image/png": "[encoded data removed]",
      "text/plain": [
       "<Figure size 432x288 with 2 Axes>"
      ]
     },
     "metadata": {
      "needs_background": "light"
     },
     "output_type": "display_data"
    }
   ],
   "source": [
    "disp = metrics.plot_confusion_matrix(model_neigh_uni, x_test_pca_uni_cst, y_test_unidir)\n",
    "disp.figure_.suptitle(\"Test data Confusion Matrix\")\n",
    "print(f\"Test data Confusion matrix:\\n{disp.confusion_matrix}\")\n",
    "\n",
    "plt.show()"
   ]
  },
  {
   "cell_type": "markdown",
   "metadata": {},
   "source": []
  },
  {
   "cell_type": "markdown",
   "metadata": {},
   "source": [
    "***"
   ]
  },
  {
   "cell_type": "markdown",
   "metadata": {},
   "source": [
    "***Decision Tree***"
   ]
  },
  {
   "cell_type": "markdown",
   "metadata": {},
   "source": [
    "**Bidir**"
   ]
  },
  {
   "cell_type": "code",
   "execution_count": 82,
   "metadata": {},
   "outputs": [
    {
     "name": "stdout",
     "output_type": "stream",
     "text": [
      "Training Set Accuracy: 1.0\n",
      "Validation Set Accuracy: 0.9986910994764397\n"
     ]
    }
   ],
   "source": [
    "#Training\n",
    "model_dt = DecisionTreeClassifier(random_state=0).fit(x_train_pca_cst, y_bidir_train)\n",
    "\n",
    "#Predict\n",
    "dty_pred_train = model_dt.predict(x_train_pca_cst)\n",
    "dty_pred_val = model_dt.predict(x_val_pca_cst)\n",
    "\n",
    "print(\"Training Set Accuracy:\", accuracy_score(y_bidir_train, dty_pred_train))\n",
    "print(\"Validation Set Accuracy:\", accuracy_score(y_bidir_val, dty_pred_val))"
   ]
  },
  {
   "cell_type": "code",
   "execution_count": 83,
   "metadata": {},
   "outputs": [
    {
     "name": "stdout",
     "output_type": "stream",
     "text": [
      "Training data Classification report for classifier DecisionTreeClassifier(random_state=0):\n",
      "              precision    recall  f1-score   support\n",
      "\n",
      "         0.0       1.00      1.00      1.00      1454\n",
      "         1.0       1.00      1.00      1.00      1602\n",
      "\n",
      "    accuracy                           1.00      3056\n",
      "   macro avg       1.00      1.00      1.00      3056\n",
      "weighted avg       1.00      1.00      1.00      3056\n",
      "\n",
      "\n"
     ]
    }
   ],
   "source": [
    "print(f\"Training data Classification report for classifier {model_dt}:\\n\"\n",
    "f\"{metrics.classification_report(y_bidir_train, dty_pred_train)}\\n\")"
   ]
  },
  {
   "cell_type": "code",
   "execution_count": 84,
   "metadata": {},
   "outputs": [
    {
     "name": "stdout",
     "output_type": "stream",
     "text": [
      "Validation data Classification report for classifier DecisionTreeClassifier(random_state=0):\n",
      "              precision    recall  f1-score   support\n",
      "\n",
      "         0.0       1.00      1.00      1.00       387\n",
      "         1.0       1.00      1.00      1.00       377\n",
      "\n",
      "    accuracy                           1.00       764\n",
      "   macro avg       1.00      1.00      1.00       764\n",
      "weighted avg       1.00      1.00      1.00       764\n",
      "\n",
      "\n"
     ]
    }
   ],
   "source": [
    "print(f\"Validation data Classification report for classifier {model_dt}:\\n\"\n",
    "f\"{metrics.classification_report(y_bidir_val, dty_pred_val)}\\n\")"
   ]
  },
  {
   "cell_type": "code",
   "execution_count": 85,
   "metadata": {},
   "outputs": [
    {
     "name": "stdout",
     "output_type": "stream",
     "text": [
      "Validation data Confusion matrix:\n",
      "[[386   1]\n",
      " [  0 377]]\n"
     ]
    },
    {
     "data": {
      "image/png": "[encoded data removed]",
      "text/plain": [
       "<Figure size 432x288 with 2 Axes>"
      ]
     },
     "metadata": {
      "needs_background": "light"
     },
     "output_type": "display_data"
    }
   ],
   "source": [
    "disp = metrics.plot_confusion_matrix(model_dt, x_val_pca_cst, y_bidir_val)\n",
    "disp.figure_.suptitle(\"Validation data Confusion Matrix\")\n",
    "print(f\"Validation data Confusion matrix:\\n{disp.confusion_matrix}\")\n",
    "\n",
    "plt.show()"
   ]
  },
  {
   "cell_type": "code",
   "execution_count": 86,
   "metadata": {},
   "outputs": [
    {
     "name": "stdout",
     "output_type": "stream",
     "text": [
      "Test Set Accuracy: 0.9953805198872534\n"
     ]
    }
   ],
   "source": [
    "#Predict\n",
    "dty_pred_test = model_dt.predict(x_test_pca_cst)\n",
    "\n",
    "print(\"Test Set Accuracy:\", accuracy_score(y_test_bidir, dty_pred_test))"
   ]
  },
  {
   "cell_type": "code",
   "execution_count": 87,
   "metadata": {},
   "outputs": [
    {
     "data": {
      "text/html": [
       "<div>\n",
       "<style scoped>\n",
       "    .dataframe tbody tr th:only-of-type {\n",
       "        vertical-align: middle;\n",
       "    }\n",
       "\n",
       "    .dataframe tbody tr th {\n",
       "        vertical-align: top;\n",
       "    }\n",
       "\n",
       "    .dataframe thead th {\n",
       "        text-align: right;\n",
       "    }\n",
       "</style>\n",
       "<table border=\"1\" class=\"dataframe\">\n",
       "  <thead>\n",
       "    <tr style=\"text-align: right;\">\n",
       "      <th>Predicted</th>\n",
       "      <th>0.0</th>\n",
       "      <th>1.0</th>\n",
       "      <th>All</th>\n",
       "    </tr>\n",
       "    <tr>\n",
       "      <th>Actual</th>\n",
       "      <th></th>\n",
       "      <th></th>\n",
       "      <th></th>\n",
       "    </tr>\n",
       "  </thead>\n",
       "  <tbody>\n",
       "    <tr>\n",
       "      <th>0.0</th>\n",
       "      <td>18071</td>\n",
       "      <td>108</td>\n",
       "      <td>18179</td>\n",
       "    </tr>\n",
       "    <tr>\n",
       "      <th>1.0</th>\n",
       "      <td>69</td>\n",
       "      <td>20068</td>\n",
       "      <td>20137</td>\n",
       "    </tr>\n",
       "    <tr>\n",
       "      <th>All</th>\n",
       "      <td>18140</td>\n",
       "      <td>20176</td>\n",
       "      <td>38316</td>\n",
       "    </tr>\n",
       "  </tbody>\n",
       "</table>\n",
       "</div>"
      ],
      "text/plain": [
       "Predicted    0.0    1.0    All\n",
       "Actual                        \n",
       "0.0        18071    108  18179\n",
       "1.0           69  20068  20137\n",
       "All        18140  20176  38316"
      ]
     },
     "execution_count": 87,
     "metadata": {},
     "output_type": "execute_result"
    }
   ],
   "source": [
    "pd.crosstab(y_test_bidir, dty_pred_test, margins=True, rownames=['Actual'], colnames=['Predicted'])"
   ]
  },
  {
   "cell_type": "code",
   "execution_count": 88,
   "metadata": {},
   "outputs": [
    {
     "name": "stdout",
     "output_type": "stream",
     "text": [
      "Classification report for classifier DecisionTreeClassifier(random_state=0):\n",
      "              precision    recall  f1-score   support\n",
      "\n",
      "         0.0       1.00      0.99      1.00     18179\n",
      "         1.0       0.99      1.00      1.00     20137\n",
      "\n",
      "    accuracy                           1.00     38316\n",
      "   macro avg       1.00      1.00      1.00     38316\n",
      "weighted avg       1.00      1.00      1.00     38316\n",
      "\n",
      "\n"
     ]
    }
   ],
   "source": [
    "print(f\"Classification report for classifier {model_dt}:\\n\"\n",
    "f\"{metrics.classification_report(y_test_bidir, dty_pred_test)}\\n\")"
   ]
  },
  {
   "cell_type": "code",
   "execution_count": 89,
   "metadata": {},
   "outputs": [
    {
     "name": "stdout",
     "output_type": "stream",
     "text": [
      "Test data Confusion matrix:\n",
      "[[18071   108]\n",
      " [   69 20068]]\n"
     ]
    },
    {
     "data": {
      "image/png": "[encoded data removed]",
      "text/plain": [
       "<Figure size 432x288 with 2 Axes>"
      ]
     },
     "metadata": {
      "needs_background": "light"
     },
     "output_type": "display_data"
    }
   ],
   "source": [
    "disp = metrics.plot_confusion_matrix(model_dt, x_test_pca_cst, y_test_bidir)\n",
    "disp.figure_.suptitle(\"Test data Confusion Matrix\")\n",
    "print(f\"Test data Confusion matrix:\\n{disp.confusion_matrix}\")\n",
    "\n",
    "plt.show()"
   ]
  },
  {
   "cell_type": "markdown",
   "metadata": {},
   "source": [
    "**Unidir**"
   ]
  },
  {
   "cell_type": "code",
   "execution_count": 90,
   "metadata": {},
   "outputs": [
    {
     "name": "stdout",
     "output_type": "stream",
     "text": [
      "Training Set Accuracy: 1.0\n",
      "Validation Set Accuracy: 0.977319587628866\n"
     ]
    }
   ],
   "source": [
    "#Training\n",
    "model_dt_uni = DecisionTreeClassifier(random_state=0).fit(x_train_pca_uni_cst, y_unidir_train)\n",
    "\n",
    "#Predict\n",
    "dty_pred_train_uni = model_dt_uni.predict(x_train_pca_uni_cst)\n",
    "dty_pred_val_uni = model_dt_uni.predict(x_val_pca_uni_cst)\n",
    "\n",
    "print(\"Training Set Accuracy:\", accuracy_score(y_unidir_train, dty_pred_train_uni))\n",
    "print(\"Validation Set Accuracy:\", accuracy_score(y_unidir_val, dty_pred_val_uni))"
   ]
  },
  {
   "cell_type": "code",
   "execution_count": 91,
   "metadata": {},
   "outputs": [
    {
     "name": "stdout",
     "output_type": "stream",
     "text": [
      "Training data Classification report for classifier DecisionTreeClassifier(random_state=0):\n",
      "              precision    recall  f1-score   support\n",
      "\n",
      "         0.0       1.00      1.00      1.00       899\n",
      "         1.0       1.00      1.00      1.00      1037\n",
      "\n",
      "    accuracy                           1.00      1936\n",
      "   macro avg       1.00      1.00      1.00      1936\n",
      "weighted avg       1.00      1.00      1.00      1936\n",
      "\n",
      "\n"
     ]
    }
   ],
   "source": [
    "print(f\"Training data Classification report for classifier {model_dt_uni}:\\n\"\n",
    "f\"{metrics.classification_report(y_unidir_train, dty_pred_train_uni)}\\n\")"
   ]
  },
  {
   "cell_type": "code",
   "execution_count": 92,
   "metadata": {},
   "outputs": [
    {
     "name": "stdout",
     "output_type": "stream",
     "text": [
      "Validation data Classification report for classifier DecisionTreeClassifier(random_state=0):\n",
      "              precision    recall  f1-score   support\n",
      "\n",
      "         0.0       0.97      0.99      0.98       243\n",
      "         1.0       0.99      0.97      0.98       242\n",
      "\n",
      "    accuracy                           0.98       485\n",
      "   macro avg       0.98      0.98      0.98       485\n",
      "weighted avg       0.98      0.98      0.98       485\n",
      "\n",
      "\n"
     ]
    }
   ],
   "source": [
    "print(f\"Validation data Classification report for classifier {model_dt_uni}:\\n\"\n",
    "f\"{metrics.classification_report(y_unidir_val, dty_pred_val_uni)}\\n\")"
   ]
  },
  {
   "cell_type": "code",
   "execution_count": 93,
   "metadata": {},
   "outputs": [
    {
     "name": "stdout",
     "output_type": "stream",
     "text": [
      "Validation data Confusion matrix:\n",
      "[[240   3]\n",
      " [  8 234]]\n"
     ]
    },
    {
     "data": {
      "image/png": "[encoded data removed]",
      "text/plain": [
       "<Figure size 432x288 with 2 Axes>"
      ]
     },
     "metadata": {
      "needs_background": "light"
     },
     "output_type": "display_data"
    }
   ],
   "source": [
    "disp = metrics.plot_confusion_matrix(model_dt_uni, x_val_pca_uni_cst, y_unidir_val)\n",
    "disp.figure_.suptitle(\"Validation data Confusion Matrix\")\n",
    "print(f\"Validation data Confusion matrix:\\n{disp.confusion_matrix}\")\n",
    "\n",
    "plt.show()"
   ]
  },
  {
   "cell_type": "code",
   "execution_count": 94,
   "metadata": {},
   "outputs": [
    {
     "name": "stdout",
     "output_type": "stream",
     "text": [
      "Test Set Accuracy: 0.9745233467058191\n"
     ]
    }
   ],
   "source": [
    "#Predict\n",
    "dty_pred_uni_test = model_dt_uni.predict(x_test_pca_uni_cst)\n",
    "\n",
    "print(\"Test Set Accuracy:\", accuracy_score(y_test_unidir, dty_pred_uni_test))"
   ]
  },
  {
   "cell_type": "code",
   "execution_count": 95,
   "metadata": {},
   "outputs": [
    {
     "data": {
      "text/html": [
       "<div>\n",
       "<style scoped>\n",
       "    .dataframe tbody tr th:only-of-type {\n",
       "        vertical-align: middle;\n",
       "    }\n",
       "\n",
       "    .dataframe tbody tr th {\n",
       "        vertical-align: top;\n",
       "    }\n",
       "\n",
       "    .dataframe thead th {\n",
       "        text-align: right;\n",
       "    }\n",
       "</style>\n",
       "<table border=\"1\" class=\"dataframe\">\n",
       "  <thead>\n",
       "    <tr style=\"text-align: right;\">\n",
       "      <th>Predicted</th>\n",
       "      <th>0.0</th>\n",
       "      <th>1.0</th>\n",
       "      <th>All</th>\n",
       "    </tr>\n",
       "    <tr>\n",
       "      <th>Actual</th>\n",
       "      <th></th>\n",
       "      <th></th>\n",
       "      <th></th>\n",
       "    </tr>\n",
       "  </thead>\n",
       "  <tbody>\n",
       "    <tr>\n",
       "      <th>0.0</th>\n",
       "      <td>10994</td>\n",
       "      <td>293</td>\n",
       "      <td>11287</td>\n",
       "    </tr>\n",
       "    <tr>\n",
       "      <th>1.0</th>\n",
       "      <td>323</td>\n",
       "      <td>12569</td>\n",
       "      <td>12892</td>\n",
       "    </tr>\n",
       "    <tr>\n",
       "      <th>All</th>\n",
       "      <td>11317</td>\n",
       "      <td>12862</td>\n",
       "      <td>24179</td>\n",
       "    </tr>\n",
       "  </tbody>\n",
       "</table>\n",
       "</div>"
      ],
      "text/plain": [
       "Predicted    0.0    1.0    All\n",
       "Actual                        \n",
       "0.0        10994    293  11287\n",
       "1.0          323  12569  12892\n",
       "All        11317  12862  24179"
      ]
     },
     "execution_count": 95,
     "metadata": {},
     "output_type": "execute_result"
    }
   ],
   "source": [
    "pd.crosstab(y_test_unidir, dty_pred_uni_test, margins=True, rownames=['Actual'], colnames=['Predicted'])"
   ]
  },
  {
   "cell_type": "code",
   "execution_count": 96,
   "metadata": {},
   "outputs": [
    {
     "name": "stdout",
     "output_type": "stream",
     "text": [
      "Classification report for classifier DecisionTreeClassifier(random_state=0):\n",
      "              precision    recall  f1-score   support\n",
      "\n",
      "         0.0       0.97      0.97      0.97     11287\n",
      "         1.0       0.98      0.97      0.98     12892\n",
      "\n",
      "    accuracy                           0.97     24179\n",
      "   macro avg       0.97      0.97      0.97     24179\n",
      "weighted avg       0.97      0.97      0.97     24179\n",
      "\n",
      "\n"
     ]
    }
   ],
   "source": [
    "print(f\"Classification report for classifier {model_dt_uni}:\\n\"\n",
    "f\"{metrics.classification_report(y_test_unidir, dty_pred_uni_test)}\\n\")"
   ]
  },
  {
   "cell_type": "code",
   "execution_count": 97,
   "metadata": {},
   "outputs": [
    {
     "name": "stdout",
     "output_type": "stream",
     "text": [
      "Test data Confusion matrix:\n",
      "[[10994   293]\n",
      " [  323 12569]]\n"
     ]
    },
    {
     "data": {
      "image/png": "[encoded data removed]",
      "text/plain": [
       "<Figure size 432x288 with 2 Axes>"
      ]
     },
     "metadata": {
      "needs_background": "light"
     },
     "output_type": "display_data"
    }
   ],
   "source": [
    "disp = metrics.plot_confusion_matrix(model_dt_uni, x_test_pca_uni_cst, y_test_unidir)\n",
    "disp.figure_.suptitle(\"Test data Confusion Matrix\")\n",
    "print(f\"Test data Confusion matrix:\\n{disp.confusion_matrix}\")\n",
    "\n",
    "plt.show()"
   ]
  },
  {
   "cell_type": "markdown",
   "metadata": {},
   "source": [
    "***"
   ]
  },
  {
   "cell_type": "markdown",
   "metadata": {},
   "source": [
    "***SVM***"
   ]
  },
  {
   "cell_type": "markdown",
   "metadata": {},
   "source": [
    "**Bidir**"
   ]
  },
  {
   "cell_type": "code",
   "execution_count": 98,
   "metadata": {},
   "outputs": [
    {
     "name": "stdout",
     "output_type": "stream",
     "text": [
      "Training Set Accuracy: 1.0\n",
      "Validation Set Accuracy: 0.9960732984293194\n"
     ]
    }
   ],
   "source": [
    "#Training\n",
    "model_svm = svm.SVC(kernel='poly', C=1, gamma='auto').fit(x_train_pca_cst, y_bidir_train)\n",
    "\n",
    "#Predict\n",
    "svmy_pred_train = model_svm.predict(x_train_pca_cst)\n",
    "svmy_pred_val = model_svm.predict(x_val_pca_cst)\n",
    "\n",
    "print(\"Training Set Accuracy:\", accuracy_score(y_bidir_train, svmy_pred_train))\n",
    "print(\"Validation Set Accuracy:\", accuracy_score(y_bidir_val, svmy_pred_val))"
   ]
  },
  {
   "cell_type": "code",
   "execution_count": 99,
   "metadata": {},
   "outputs": [
    {
     "name": "stdout",
     "output_type": "stream",
     "text": [
      "Training data Classification report for classifier SVC(C=1, gamma='auto', kernel='poly'):\n",
      "              precision    recall  f1-score   support\n",
      "\n",
      "         0.0       1.00      1.00      1.00      1454\n",
      "         1.0       1.00      1.00      1.00      1602\n",
      "\n",
      "    accuracy                           1.00      3056\n",
      "   macro avg       1.00      1.00      1.00      3056\n",
      "weighted avg       1.00      1.00      1.00      3056\n",
      "\n",
      "\n"
     ]
    }
   ],
   "source": [
    "print(f\"Training data Classification report for classifier {model_svm}:\\n\"\n",
    "f\"{metrics.classification_report(y_bidir_train, svmy_pred_train)}\\n\")"
   ]
  },
  {
   "cell_type": "code",
   "execution_count": 100,
   "metadata": {},
   "outputs": [
    {
     "name": "stdout",
     "output_type": "stream",
     "text": [
      "Validation data Classification report for classifier SVC(C=1, gamma='auto', kernel='poly'):\n",
      "              precision    recall  f1-score   support\n",
      "\n",
      "         0.0       1.00      0.99      1.00       387\n",
      "         1.0       0.99      1.00      1.00       377\n",
      "\n",
      "    accuracy                           1.00       764\n",
      "   macro avg       1.00      1.00      1.00       764\n",
      "weighted avg       1.00      1.00      1.00       764\n",
      "\n",
      "\n"
     ]
    }
   ],
   "source": [
    "print(f\"Validation data Classification report for classifier {model_svm}:\\n\"\n",
    "f\"{metrics.classification_report(y_bidir_val, svmy_pred_val)}\\n\")"
   ]
  },
  {
   "cell_type": "code",
   "execution_count": 101,
   "metadata": {},
   "outputs": [
    {
     "name": "stdout",
     "output_type": "stream",
     "text": [
      "Validation data Confusion matrix:\n",
      "[[384   3]\n",
      " [  0 377]]\n"
     ]
    },
    {
     "data": {
      "image/png": "[encoded data removed]",
      "text/plain": [
       "<Figure size 432x288 with 2 Axes>"
      ]
     },
     "metadata": {
      "needs_background": "light"
     },
     "output_type": "display_data"
    }
   ],
   "source": [
    "disp = metrics.plot_confusion_matrix(model_svm, x_val_pca_cst, y_bidir_val)\n",
    "disp.figure_.suptitle(\"Validation data Confusion Matrix\")\n",
    "print(f\"Validation data Confusion matrix:\\n{disp.confusion_matrix}\")\n",
    "\n",
    "plt.show()"
   ]
  },
  {
   "cell_type": "code",
   "execution_count": 102,
   "metadata": {},
   "outputs": [
    {
     "name": "stdout",
     "output_type": "stream",
     "text": [
      "Test Set Accuracy: 0.9972857291992901\n"
     ]
    }
   ],
   "source": [
    "#Predict\n",
    "svmy_pred_test = model_svm.predict(x_test_pca_cst)\n",
    "\n",
    "print(\"Test Set Accuracy:\", accuracy_score(y_test_bidir, svmy_pred_test))"
   ]
  },
  {
   "cell_type": "code",
   "execution_count": 103,
   "metadata": {},
   "outputs": [
    {
     "data": {
      "text/html": [
       "<div>\n",
       "<style scoped>\n",
       "    .dataframe tbody tr th:only-of-type {\n",
       "        vertical-align: middle;\n",
       "    }\n",
       "\n",
       "    .dataframe tbody tr th {\n",
       "        vertical-align: top;\n",
       "    }\n",
       "\n",
       "    .dataframe thead th {\n",
       "        text-align: right;\n",
       "    }\n",
       "</style>\n",
       "<table border=\"1\" class=\"dataframe\">\n",
       "  <thead>\n",
       "    <tr style=\"text-align: right;\">\n",
       "      <th>Predicted</th>\n",
       "      <th>0.0</th>\n",
       "      <th>1.0</th>\n",
       "      <th>All</th>\n",
       "    </tr>\n",
       "    <tr>\n",
       "      <th>Actual</th>\n",
       "      <th></th>\n",
       "      <th></th>\n",
       "      <th></th>\n",
       "    </tr>\n",
       "  </thead>\n",
       "  <tbody>\n",
       "    <tr>\n",
       "      <th>0.0</th>\n",
       "      <td>18097</td>\n",
       "      <td>82</td>\n",
       "      <td>18179</td>\n",
       "    </tr>\n",
       "    <tr>\n",
       "      <th>1.0</th>\n",
       "      <td>22</td>\n",
       "      <td>20115</td>\n",
       "      <td>20137</td>\n",
       "    </tr>\n",
       "    <tr>\n",
       "      <th>All</th>\n",
       "      <td>18119</td>\n",
       "      <td>20197</td>\n",
       "      <td>38316</td>\n",
       "    </tr>\n",
       "  </tbody>\n",
       "</table>\n",
       "</div>"
      ],
      "text/plain": [
       "Predicted    0.0    1.0    All\n",
       "Actual                        \n",
       "0.0        18097     82  18179\n",
       "1.0           22  20115  20137\n",
       "All        18119  20197  38316"
      ]
     },
     "execution_count": 103,
     "metadata": {},
     "output_type": "execute_result"
    }
   ],
   "source": [
    "pd.crosstab(y_test_bidir, svmy_pred_test, margins=True, rownames=['Actual'], colnames=['Predicted'])"
   ]
  },
  {
   "cell_type": "code",
   "execution_count": 104,
   "metadata": {},
   "outputs": [
    {
     "name": "stdout",
     "output_type": "stream",
     "text": [
      "Classification report for classifier SVC(C=1, gamma='auto', kernel='poly'):\n",
      "              precision    recall  f1-score   support\n",
      "\n",
      "         0.0       1.00      1.00      1.00     18179\n",
      "         1.0       1.00      1.00      1.00     20137\n",
      "\n",
      "    accuracy                           1.00     38316\n",
      "   macro avg       1.00      1.00      1.00     38316\n",
      "weighted avg       1.00      1.00      1.00     38316\n",
      "\n",
      "\n"
     ]
    }
   ],
   "source": [
    "print(f\"Classification report for classifier {model_svm}:\\n\"\n",
    "f\"{metrics.classification_report(y_test_bidir, svmy_pred_test)}\\n\")"
   ]
  },
  {
   "cell_type": "code",
   "execution_count": 105,
   "metadata": {},
   "outputs": [
    {
     "name": "stdout",
     "output_type": "stream",
     "text": [
      "Test data Confusion matrix:\n",
      "[[18097    82]\n",
      " [   22 20115]]\n"
     ]
    },
    {
     "data": {
      "image/png": "[encoded data removed]",
      "text/plain": [
       "<Figure size 432x288 with 2 Axes>"
      ]
     },
     "metadata": {
      "needs_background": "light"
     },
     "output_type": "display_data"
    }
   ],
   "source": [
    "disp = metrics.plot_confusion_matrix(model_svm, x_test_pca_cst, y_test_bidir)\n",
    "disp.figure_.suptitle(\"Test data Confusion Matrix\")\n",
    "print(f\"Test data Confusion matrix:\\n{disp.confusion_matrix}\")\n",
    "\n",
    "plt.show()"
   ]
  },
  {
   "cell_type": "markdown",
   "metadata": {},
   "source": [
    "**Unidir**"
   ]
  },
  {
   "cell_type": "code",
   "execution_count": null,
   "metadata": {},
   "outputs": [],
   "source": [
    "#Training\n",
    "model_svm_uni = svm.SVC(kernel='poly', C=1, gamma='auto').fit(x_train_pca_uni_cst, y_unidir_train)\n",
    "\n",
    "#Predict\n",
    "svmy_pred_train_uni = model_svm_uni.predict(x_train_pca_uni_cst)\n",
    "svmy_pred_val_uni = model_svm_uni.predict(x_val_pca_uni_cst)\n",
    "\n",
    "print(\"Training Set Accuracy:\", accuracy_score(y_unidir_train, svmy_pred_train_uni))\n",
    "print(\"Validation Set Accuracy:\", accuracy_score(y_unidir_val, svmy_pred_val_uni))"
   ]
  },
  {
   "cell_type": "code",
   "execution_count": null,
   "metadata": {},
   "outputs": [],
   "source": [
    "print(f\"Training data Classification report for classifier {model_svm_uni}:\\n\"\n",
    "f\"{metrics.classification_report(y_unidir_train, svmy_pred_train_uni)}\\n\")"
   ]
  },
  {
   "cell_type": "code",
   "execution_count": null,
   "metadata": {},
   "outputs": [],
   "source": [
    "print(f\"Validation data Classification report for classifier {model_svm_uni}:\\n\"\n",
    "f\"{metrics.classification_report(y_unidir_val, svmy_pred_val_uni)}\\n\")"
   ]
  },
  {
   "cell_type": "code",
   "execution_count": null,
   "metadata": {},
   "outputs": [],
   "source": [
    "disp = metrics.plot_confusion_matrix(model_svm_uni, x_val_pca_uni_cst, y_unidir_val)\n",
    "disp.figure_.suptitle(\"Validation data Confusion Matrix\")\n",
    "print(f\"Validation data Confusion matrix:\\n{disp.confusion_matrix}\")\n",
    "\n",
    "plt.show()"
   ]
  },
  {
   "cell_type": "code",
   "execution_count": null,
   "metadata": {},
   "outputs": [],
   "source": [
    "#Predict\n",
    "svmy_pred_uni_test = model_svm_uni.predict(x_test_pca_uni_cst)\n",
    "\n",
    "print(\"Test Set Accuracy:\", accuracy_score(y_test_unidir, svmy_pred_uni_test))"
   ]
  },
  {
   "cell_type": "code",
   "execution_count": null,
   "metadata": {},
   "outputs": [],
   "source": [
    "pd.crosstab(y_test_unidir, svmy_pred_uni_test, margins=True, rownames=['Actual'], colnames=['Predicted'])"
   ]
  },
  {
   "cell_type": "code",
   "execution_count": null,
   "metadata": {},
   "outputs": [],
   "source": [
    "print(f\"Classification report for classifier {model_svm_uni}:\\n\"\n",
    "f\"{metrics.classification_report(y_test_unidir, svmy_pred_uni_test)}\\n\")"
   ]
  },
  {
   "cell_type": "code",
   "execution_count": null,
   "metadata": {},
   "outputs": [],
   "source": [
    "disp = metrics.plot_confusion_matrix(model_svm_uni, x_test_pca_uni_cst, y_test_unidir)\n",
    "disp.figure_.suptitle(\"Test data Confusion Matrix\")\n",
    "print(f\"Test data Confusion matrix:\\n{disp.confusion_matrix}\")\n",
    "\n",
    "plt.show()"
   ]
  },
  {
   "cell_type": "code",
   "execution_count": null,
   "metadata": {},
   "outputs": [],
   "source": []
  },
  {
   "cell_type": "markdown",
   "metadata": {},
   "source": [
    "***"
   ]
  }
 ],
 "metadata": {
  "kernelspec": {
   "display_name": "Python 3",
   "language": "python",
   "name": "python3"
  },
  "language_info": {
   "codemirror_mode": {
    "name": "ipython",
    "version": 3
   },
   "file_extension": ".py",
   "mimetype": "text/x-python",
   "name": "python",
   "nbconvert_exporter": "python",
   "pygments_lexer": "ipython3",
   "version": "3.8.5"
  }
 },
 "nbformat": 4,
 "nbformat_minor": 5
}
